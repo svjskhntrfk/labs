{
  "cells": [
    {
      "cell_type": "markdown",
      "metadata": {
        "id": "zcdkVu1L7m4V"
      },
      "source": [
        "# Описание"
      ]
    },
    {
      "cell_type": "markdown",
      "metadata": {
        "id": "s_mhHWar7m4W"
      },
      "source": [
        "Данная тетрадка содержит в себе задание по компьютерному практикуму по экономике. Вам предстоит освоить ряд важных библиотек для Python, изучить основы Latex, а также создать экономические модели.\n",
        "\n",
        "Все задания по темам:\n",
        "* Потребитель\n",
        "* Производитель\n",
        "* Частичное равновесие\n",
        "\n",
        "Ожидается, что Вы разберетесь в представленных примерах и по их образцу сделаете более сложные задания. Также стремитесь к тому, чтобы Ваш код и Ваши пояснения были понятными. При необходимости комментируйте код и оставляйте заметки в текстовых полях."
      ]
    },
    {
      "cell_type": "markdown",
      "metadata": {
        "id": "wlfQCoea7m4W"
      },
      "source": [
        "## Баллы"
      ]
    },
    {
      "cell_type": "markdown",
      "metadata": {
        "id": "vhylEX5h7m4W"
      },
      "source": [
        "За каждое задание начисляется определенное количество баллов. Если задание решено не полностью, то за него может быть начислена только часть баллов.\n",
        "\n",
        "|№ Задания|Балл|\n",
        "|---|---|\n",
        "|[Задание 1](#task_1)|0.5|\n",
        "|[Задание 2](#task_2)|0.5|\n",
        "|[Задание 3](#task_3)|0.5|\n",
        "|[Задание 4](#task_4)|0.5|\n",
        "|[Задание 5](#task_5)|0.5|\n",
        "|[Задание 6](#task_6)|0.75|\n",
        "|[Задание 7](#task_7)|1|\n",
        "|[Задание 8](#task_8)|0.75|\n",
        "|[Задание 9](#task_9)|0.75|\n",
        "|[Задание 10](#task_10)|0.5|\n",
        "|[Задание 11](#task_11)|0.5|\n",
        "|[Задание 12](#task_12)|0.75|\n",
        "|[Задание 13](#task_13)|0.5|\n",
        "|[Задание 14](#task_14)|1|\n",
        "|[Задание 15](#task_15)|1|\n",
        "|Всего|10|\n",
        "\n",
        "\n",
        "Для удобства проверки напишите на сколько сами оцениваете свою работу: __"
      ]
    },
    {
      "cell_type": "markdown",
      "metadata": {
        "id": "W_R9NmKP7m4X"
      },
      "source": [
        "## Импорт библиотек"
      ]
    },
    {
      "cell_type": "code",
      "execution_count": null,
      "metadata": {
        "id": "OsqU4Qqy7m4X"
      },
      "outputs": [],
      "source": [
        "#!pip install ipympl\n",
        "\n",
        "#Импортируем необходимые библиотеки\n",
        "import numpy as np # Линейная алгебра и многомерные массивы\n",
        "import pandas as pd # Работа с таблицами данных\n",
        "import matplotlib.pyplot as plt # Графическая библиотека\n",
        "import sympy\n",
        "from ipywidgets import widgets, interact # Интерактивные виджеты\n",
        "from sympy import *\n",
        "# Техническая функция. Иногда потребуется сравнивать два float числа на равенство\n",
        "def is_equal(x, y):\n",
        "    return abs(x-y) < 1e-6"
      ]
    },
    {
      "cell_type": "markdown",
      "metadata": {
        "id": "8aK_igLq7m4Y"
      },
      "source": [
        "# Потребитель"
      ]
    },
    {
      "cell_type": "markdown",
      "metadata": {
        "id": "TEJvVbj-7m4Z"
      },
      "source": [
        "## Основная задача потребителя"
      ]
    },
    {
      "cell_type": "markdown",
      "metadata": {
        "id": "8JscBEzx7m4Z"
      },
      "source": [
        "Потребителем обычно называют индивида, принимающего решение о выборе на потребительском множестве (множество всех доступных благ). Пока для простоты будем считать, что в потребительском множестве только два блага (благо 1 и благо 2) и потребитель выбирает потребительский набор, содержащий объёмы потребления этих благ $x_1$ и $x_2$, соотвественно. Под благом может пониматься широкий спектр вещей, от обычных товаров и услуг до времени, потраченного на какое-то занятие. Но чаще всего имеются ввиду обычные товары. Цены благ --- $p_1$ и $p_2$, соотвественно. В большинстве случаев цены строго положительны. Но цены бывают нулевыми и реже отрицательными. Можно вспомнить примеры товаров, которые люди отдают бесплатно на разных площадках, или отрицательные цены на нефть в 2020 году. Цены становятся таковыми из-за высоких издержек хранения, например. Поэтому продавцы готовы отдавать товар бесплатно или доплачивать за то, чтобы покупатель этот товар забрал. Потребитель делает выбор, основываясь на своих предпочтениях, которые часто можно предствить функций полезности $U(x_1,x_2)$, функция позволяет сравнивать наборы, чем выше значение функции полезности, тем лучше набор для потребителя. Соответственно, считается, что потребитель хочет максимизировать полезность, однако, существует ограничение, которое не дает потребителю выбирать бесконечное количество потребляемых благ --- бюджетное ограничение. Каждый индивид ограничен своим доходом $m$. Получается, классическая задача, решаемая потребителем имеет вид:"
      ]
    },
    {
      "cell_type": "markdown",
      "metadata": {
        "id": "bdLRSV2L7m4Z"
      },
      "source": [
        "\\begin{equation}\n",
        "\\begin{array}{rl}\\displaystyle \\max_{x_1,x_2 \\geq 0} & U(x_1,x_2)  \\\\\n",
        "\\textrm{s.t.} & p_1x_1+p_2x_2 \\leq m\n",
        "\\end{array}\n",
        "\\end{equation}"
      ]
    },
    {
      "cell_type": "markdown",
      "metadata": {
        "id": "mPHkRdhy7m4Z"
      },
      "source": [
        "Графически бюджетное ограничение можно представить так:"
      ]
    },
    {
      "cell_type": "markdown",
      "metadata": {
        "id": "6_ENC8sj7m4a"
      },
      "source": [
        "![image.png](attachment:image.png)"
      ]
    },
    {
      "cell_type": "markdown",
      "metadata": {
        "id": "ExsiIhuh7m4a"
      },
      "source": [
        "Синия линия представляет бюджетную линию или линию бюджетного ограничения. Наклон этой линии равен $-p_1/p_2$. Голубой треугольник --- бюджетное множество --- множество доступных наборов. Важно отметить, что практически всегда количество потребляемых благ не может быть отрицательным, нельзя съесть $-5$ яблок, поэтому и накладываются ограничения на $x_1,x_2 \\geq 0$."
      ]
    },
    {
      "cell_type": "markdown",
      "metadata": {
        "id": "zLyR0uzn7m4a"
      },
      "source": [
        "## Бюджетное ограничение"
      ]
    },
    {
      "cell_type": "markdown",
      "metadata": {
        "id": "l8gMpgiC7m4a"
      },
      "source": [
        "Бюджетное ограничение может модифицироваться в зависимости от разных условий. Например, если доход растет, оно увеличивается, как и в случае падения цен. На рисунке ниже синем изображено старое бюджетное множество, а розовым --- новые доступные наборы."
      ]
    },
    {
      "cell_type": "markdown",
      "metadata": {
        "id": "pFkFdQm67m4a"
      },
      "source": [
        "![image.png](attachment:image.png)"
      ]
    },
    {
      "cell_type": "markdown",
      "metadata": {
        "id": "zSkeya8v7m4a"
      },
      "source": [
        "Ситуации вмешательства государства часто эквивалентны изменениям рассмотренным выше. Введение (изменение размера) потоварного налога или субсидии эквивалентно изменению цены. Введение потоварного налога увеличивает цену, введение потоварной субсидии уменьшает цену. Аккордный (фиксированный) налог или субсидия изменяют размер дохода.\n",
        "\n",
        "Субсидия или налог в натуральной форме сдвигает бюджетное органичение на соответствующую величину, налог уменьшает бюджетное множество, субсидия --- увеличивает. Отдельно можно рассмотреть ситуацию, когда субсидия дается в натуральной форме, но, при этом, перепродажа запрещена.\n",
        "\n",
        "На рисунке ниже изображена ситуация, когда потребителю дали $\\hat{x_1}>0$ единиц блага 1 без возможности перепродажи. Розовым показаны новые доступные наборы."
      ]
    },
    {
      "cell_type": "markdown",
      "metadata": {
        "id": "CJbnmOMn7m4a"
      },
      "source": [
        "![image.png](attachment:image.png)"
      ]
    },
    {
      "cell_type": "markdown",
      "metadata": {
        "id": "fxAEXcsk7m4a"
      },
      "source": [
        "### Несколько ограничений"
      ]
    },
    {
      "cell_type": "markdown",
      "metadata": {
        "id": "yBrKqjei7m4b"
      },
      "source": [
        "Кроме того, можно представить себе редкую ситуацию, когда несколько бюджетных ограничений должны выполняться одновременно. Например, есть обычное бюджетное органичение и ограничение, связанное со временем. Пусть для покупки единицы товара $i$ нужно потратить $q_i$ минут (например, на поиск лота на торговой площадке или в очереди). А всего агенту доступно $t$ минут. Тогда бюджетное ограничение будет задаваться системой.\n",
        "\n",
        "\\begin{equation}\n",
        "    \\begin{cases}\n",
        "        p_1x_1+p_2x_2 \\leq m \\\\\n",
        "        q_1x_1 + q_2x_3 \\leq t\n",
        "    \\end{cases}\n",
        "\\end{equation}\n",
        "![image.png](attachment:image.png)\n",
        "\n",
        "Один из примеров того, как графически может выглядеть бюджетное множество в таком случае, изображен на рисунке выше. На самом деле вид зависит от параметров и может меняться. Новое доступное множество изображено фиолетовым, оно представляет собой пересечение двух множеств."
      ]
    },
    {
      "cell_type": "markdown",
      "metadata": {
        "id": "7C4-XQe47m4b"
      },
      "source": [
        "### Выбор между несколькими ограничениями - разные опции покупки"
      ]
    },
    {
      "cell_type": "markdown",
      "metadata": {
        "id": "5AZMTxA07m4b"
      },
      "source": [
        "Помимо нескольких ограничений, действующих одновременно, бывают ситуации, когда потребитель может выбирать между ограничениями. Например, выбирать между разными магазинами. Пусть агент может покупать товары по ценам $p_1$ и $p_2$ в своем городе или он может заказать их с доставкой из другой страны. Стоимость доставки фиксирована на уровне $f$ и не зависит от объемов покупаемых товаров. Зато цена второго товара в другой стране ниже, она равна $p^{'}_2 < p_2$."
      ]
    },
    {
      "cell_type": "markdown",
      "metadata": {
        "id": "Rt4w1T3t7m4b"
      },
      "source": [
        "$\\left[\n",
        "      \\begin{gathered}\n",
        "       \\textcolor{blue}{p_1x_1+p_2x_2\\leq m} \\\\\n",
        "       \\textcolor{magenta}{p_1x_1+p^{'}_2x_2\\leq m-f} \\\\\n",
        "      \\end{gathered}\n",
        "\\right.$"
      ]
    },
    {
      "cell_type": "markdown",
      "metadata": {
        "id": "_6Fm91Ea7m4b"
      },
      "source": [
        "На рисунке ниже изображен один из примеров графического изображения данной ситуации, при некоторых параметрах модели. Фиолетовым обозначено бюджетное множество, оно представляет собой объединение двух множеств, так как агенту доступны как наборы, находящиеся под и на розовом бюджетном ограничении, так и наборы, находящиеся под и на синем бюджетном ограничении.\n",
        "\n",
        "![image.png](attachment:image.png)"
      ]
    },
    {
      "cell_type": "markdown",
      "metadata": {
        "id": "YxPJtZDv7m4b"
      },
      "source": [
        "Другие ограничения практически не используются при решении задач, но могут существовать в реальной жизни ситуации, когда цена некоторым образом зависит от покупаемого количества (например, подает при росте потребляемого количества), тогда бюджетное ограничение будет задаваться не линией, а иметь другой вид. Отдельно стоит обсудить, что мы считаем, что потребитель не может сам назначать (называть) цену, то есть рынок по прежнему совершенно конкурентный."
      ]
    },
    {
      "cell_type": "markdown",
      "metadata": {
        "id": "zvGAyY4c7m4b"
      },
      "source": [
        "## Описание класса товара"
      ]
    },
    {
      "cell_type": "markdown",
      "metadata": {
        "id": "lPZIUzf77m4b"
      },
      "source": [
        "В данной модели у каждого товара есть только два параметра: название и цена за единицу."
      ]
    },
    {
      "cell_type": "code",
      "execution_count": null,
      "metadata": {
        "id": "cOnLDuNe7m4b"
      },
      "outputs": [],
      "source": [
        "# Создадим класс для товаров модели\n",
        "class Good():\n",
        "    def __init__(self, name, price):\n",
        "        self.name = name\n",
        "        self.price = price"
      ]
    },
    {
      "cell_type": "markdown",
      "metadata": {
        "id": "xvOnkaLt7m4c"
      },
      "source": [
        "## Проверка одного бюджетного ограничения"
      ]
    },
    {
      "cell_type": "markdown",
      "metadata": {
        "id": "SAD6y3D47m4c"
      },
      "source": [
        "Напишем функцию, которая проверит, удовлетворяет ли конкретная точка бюджетным ограничениям."
      ]
    },
    {
      "cell_type": "code",
      "execution_count": null,
      "metadata": {
        "id": "OEmrZgoR7m4c"
      },
      "outputs": [],
      "source": [
        "def budget_test(g1: Good, g2: Good, budget, x1=0, x2=0):\n",
        "    '''\n",
        "    Проверка расположения точки (x1, x2) относительно бюджетного множества:\n",
        "        Если внутри бюджетного множества, то возвращается значение 1,\n",
        "        Если на границе бюджетного множества, то возвращается значение 0,\n",
        "        Если вне бюджетного множества, то возвращается значение -1.\n",
        "    '''\n",
        "    result = x1*g1.price + x2*g2.price\n",
        "    if (is_equal(result, budget)): # Поскольку значения типа float, необходимо сравнивать на равенство с погрешностью\n",
        "        return 0\n",
        "    elif (result < budget):\n",
        "        return 1\n",
        "    else:\n",
        "        return -1"
      ]
    },
    {
      "cell_type": "code",
      "execution_count": null,
      "metadata": {
        "id": "g6Pf-_MI7m4c"
      },
      "outputs": [],
      "source": [
        "g1 = Good(\"Яблоки\", 5)\n",
        "g2 = Good(\"Груши\", 5)\n",
        "budget = 100\n",
        "# assertы нужны для проверки, если ошибки не появились, то все верно\n",
        "assert budget_test(g1, g2, budget, 1, 1) == 1\n",
        "assert budget_test(g1, g2, budget, 10, 10) == 0\n",
        "assert budget_test(g1, g2, budget, 100, 100) == -1"
      ]
    },
    {
      "cell_type": "markdown",
      "metadata": {
        "id": "gqNVtweF7m4c"
      },
      "source": [
        "## Графическое представление"
      ]
    },
    {
      "cell_type": "markdown",
      "metadata": {
        "id": "sdyCJUil7m4c"
      },
      "source": [
        "Напишем функцию, которая будет визуализировать бюджетное множество и проверяемую точку."
      ]
    },
    {
      "cell_type": "code",
      "execution_count": null,
      "metadata": {
        "colab": {
          "base_uri": "https://localhost:8080/",
          "height": 481
        },
        "id": "vcC7WDbe7m4c",
        "outputId": "4bbfaa8c-c6df-4773-f6fa-41758e99e9f9"
      },
      "outputs": [
        {
          "output_type": "display_data",
          "data": {
            "text/plain": [
              "<Figure size 640x480 with 1 Axes>"
            ],
            "image/png": "[encoded data removed]"
          },
          "metadata": {}
        }
      ],
      "source": [
        "def plot_budget(g1, g2, budget, x1=0, x2=0):\n",
        "    '''\n",
        "    Построение графика бюджетного множества и расположения проверяемой точки\n",
        "    '''\n",
        "\n",
        "    # График будет построен по двум точкам (0, budget/g2.price) и (budget/g1.price, 0)\n",
        "    x_points = [0, budget/g1.price]\n",
        "    y_points = [budget/g2.price, 0]\n",
        "\n",
        "\n",
        "    fig, ax = plt.subplots() # Создаем фигуру\n",
        "    fig.suptitle(\"Бюджетное множество\")\n",
        "\n",
        "    ax.plot(x_points, y_points, label=\"Бюджетная линия\") # Строим прямую по двум точкам\n",
        "    ax.fill_between(x_points, y_points, np.zeros_like(x_points), alpha=0.5) # Заливаем область под графиком с прозрачностью (alpha) 0.5\n",
        "\n",
        "    point_status = budget_test(g1, g2, budget, x1, x2) # Находим статус проверяемой точки\n",
        "\n",
        "    # В зависимости от статуса определяем цвет точки и надпись\n",
        "    if point_status == 1:\n",
        "        point_color = \"green\"\n",
        "        point_label = \"Допустимо\"\n",
        "    elif point_status == 0:\n",
        "        point_color = \"yellow\"\n",
        "        point_label = \"На границе\"\n",
        "    else:\n",
        "        point_color = \"red\"\n",
        "        point_label = \"Недопустимо\"\n",
        "\n",
        "    ax.scatter(x1, x2, color=point_color, label=point_label) # Рисуем точку\n",
        "    ax.plot([x1, x1], [0, x2], 'k:') # Добавляем вертикальную черную (k) пунктирную (:) линию к точке (x,y)\n",
        "    ax.plot([0, x1], [x2, x2], 'k:') # Добавляем горизонтальную черную (k) пунктирную (:) линию к точке (x,y)\n",
        "\n",
        "    # Добавляем название осей\n",
        "    ax.set_xlabel(g1.name)\n",
        "    ax.set_ylabel(g2.name)\n",
        "\n",
        "    # Сдвигаем и скрываем оси так, чтобы получились декартовы координаты\n",
        "    ax.spines['left'].set_position('zero')\n",
        "    ax.spines['right'].set_visible(False)\n",
        "    ax.spines['bottom'].set_position('zero')\n",
        "    ax.spines['top'].set_visible(False)\n",
        "\n",
        "    ax.axis('equal') # Принудительно делаем оси равными\n",
        "    ax.legend() # Отображаем легенду (информацию о данных)\n",
        "    plt.show() # Отображаем рисунок\n",
        "\n",
        "g1 = Good(\"Яблоки\", 5)\n",
        "g2 = Good(\"Груши\", 5)\n",
        "budget = 100\n",
        "plot_budget(g1, g2, budget, 4, 5);"
      ]
    },
    {
      "cell_type": "markdown",
      "metadata": {
        "id": "-NvoLkrI7m4d"
      },
      "source": [
        "## Интерактивное представление"
      ]
    },
    {
      "cell_type": "code",
      "execution_count": null,
      "metadata": {
        "colab": {
          "base_uri": "https://localhost:8080/",
          "height": 641,
          "referenced_widgets": [
            "88f664edadd34569910a047e71802bcc",
            "88b91984103c43919e290764f86115ff",
            "32d9981c017d41ca849b9d2021a2ab4f",
            "3c71640877dc4e9eb1e69fbd47479aaf",
            "90613a728af941fda9ddcf26f7369791",
            "f34248c6e7684fa49aaeccd2c9953b4d",
            "0b9fd2b12f9847de9d0adcdeae82e299",
            "5d0674f8bff847de90a0928ecedfcf01",
            "fe26d9af64b74508ac4dbce9f5f59493",
            "b43ffab0f21645bc9c1fea1c5b3c493d",
            "0926f3e5917d4ed9960fc03db1811e11",
            "d25d84503a224e8bb558fdaa857cf226",
            "86301c88e9004020b0fcbb35ab3c90a6",
            "2a2565f154fd416cb4f18b82852e55c1",
            "1b9969c5efea4a95a55a006f70ad8423",
            "2cffd0f87b9949539314299c592857fd",
            "8a02e41a94f4493d8225136dda586bea",
            "7d2c943213be4e1aa1292c13a059201c",
            "5c69450166074c4681d90770a1441bbc"
          ]
        },
        "id": "pG_N0Xdk7m4e",
        "outputId": "4617a098-f47f-4bb3-eaae-e5d410a16be6"
      },
      "outputs": [
        {
          "output_type": "display_data",
          "data": {
            "text/plain": [
              "interactive(children=(IntSlider(value=5, description='p1', max=10, min=1), IntSlider(value=5, description='p2'…"
            ],
            "application/vnd.jupyter.widget-view+json": {
              "version_major": 2,
              "version_minor": 0,
              "model_id": "88f664edadd34569910a047e71802bcc"
            }
          },
          "metadata": {}
        }
      ],
      "source": [
        "# Интерактивный виджет\n",
        "def interactive_plot(p1, p2, budget, x1, x2):\n",
        "    g1 = Good(\"Яблоки\", p1) # Создаем первый товар с ценой p1\n",
        "    g2 = Good(\"Груши\", p2) # Создаем второй товар с ценой p2\n",
        "    plot_budget(g1, g2, budget, x1, x2);\n",
        "\n",
        "interact(interactive_plot, p1=(1, 10), p2 = (1, 10), budget=(1,100), x1 = (1,10), x2=(1,10));"
      ]
    },
    {
      "cell_type": "markdown",
      "metadata": {
        "id": "bxIWv-Pv7m4e"
      },
      "source": [
        "# <font color=\"red\">Задание 1<font>"
      ]
    },
    {
      "cell_type": "markdown",
      "metadata": {
        "id": "Zxee2zRA7m4e"
      },
      "source": [
        "В одной вымышленной стране живет маленький пёс Винни. Он каждый месяц самостоятельно решает сколько корма в граммах и сколько вкусняшек в граммах он будет потреблять в этот месяц. Один грамм корма стоит 5 денежек, а один грамм вкусняшек --- 12 денежек. Его доход равен 24 тысячи денежек. Винни может потратить 8 000 денежек, чтобы уехать к бабушке в деревню. Там вкусняшки в граммах стоят дешевле --- 4 денежки соотвественно. Как теперь будет выглядеть бюджетное ограничение? Выпишите его используя LaTex"
      ]
    },
    {
      "cell_type": "markdown",
      "metadata": {
        "id": "cAG9c22C7m4e"
      },
      "source": [
        "$\\left[\n",
        "    \\begin{gathered}\n",
        "        5g_1+12g_2 \\leq 24000 \\\\\n",
        "        5g_1 + 4g_2 \\leq 16000\n",
        "    \\end{gathered}\n",
        "\\right.$\n",
        "\n",
        "\n"
      ]
    },
    {
      "cell_type": "markdown",
      "metadata": {
        "id": "GoKe2a8g7m4e"
      },
      "source": [
        "Напишите функцию budget_test_two_restrictions, которая возвращает 0, 1 или -1 в зависимости от статуса точки. Также, напишите функцию, которая будет визуализировать бюджетное множество и проверяемую точку"
      ]
    },
    {
      "cell_type": "code",
      "execution_count": null,
      "metadata": {
        "id": "hDmHX04Z7m4e"
      },
      "outputs": [],
      "source": [
        "def budget_test_two_restrictions(\n",
        "    g11: Good,\n",
        "    g12: Good,\n",
        "    g21: Good,\n",
        "    g22: Good,\n",
        "    budget1,\n",
        "    budget2,\n",
        "    x1=0,\n",
        "    x2=0,\n",
        "):\n",
        "    \"\"\"\n",
        "    Проверка расположения точки (x1, x2) относительно бюджетного множества:\n",
        "        Если внутри бюджетного множества, то возвращается значение 1,\n",
        "        Если на границе бюджетного множества, то возвращается значение 0,\n",
        "        Если вне бюджетного множества, то возвращается значение -1.\n",
        "    \"\"\"\n",
        "    result = x1*g11.price + x2*g12.price\n",
        "    result2 = x1*g21.price + x2*g22.price\n",
        "    if (result < budget1 or result2 < budget2): # Поскольку значения типа float, необходимо сравнивать на равенство с погрешностью\n",
        "        return 1\n",
        "    elif (is_equal(result, budget1) or is_equal(result2, budget2)) :\n",
        "        return 0\n",
        "    else:\n",
        "        return -1"
      ]
    },
    {
      "cell_type": "code",
      "execution_count": null,
      "metadata": {
        "id": "dbMYx6wr7m4f"
      },
      "outputs": [],
      "source": [
        "assert budget_test_two_restrictions(Good(\"Яблоки\", 5), Good(\"Груши\", 5), Good(\"Яблоки\", 5), Good(\"Груши\", 5), 100, 100, 10,10) == 0\n",
        "assert budget_test_two_restrictions(Good(\"Яблоки\", 2), Good(\"Груши\", 5), Good(\"Яблоки\", 5), Good(\"Груши\", 5), 100, 100, 10,10) == 1\n",
        "assert budget_test_two_restrictions(Good(\"Яблоки\", 2), Good(\"Груши\", 7), Good(\"Яблоки\", 5), Good(\"Груши\", 5), 100, 100, 8, 10) == 1\n",
        "assert budget_test_two_restrictions(Good(\"Яблоки\", 2), Good(\"Груши\", 7), Good(\"Яблоки\", 5), Good(\"Груши\", 5), 100, 100, 15, 10) == 0\n",
        "assert budget_test_two_restrictions(Good(\"Яблоки\", 2), Good(\"Груши\", 7), Good(\"Яблоки\", 5), Good(\"Груши\", 5), 100, 100, 16, 10) == -1\n",
        "assert budget_test_two_restrictions(Good(\"Яблоки\", 2), Good(\"Груши\", 7), Good(\"Яблоки\", 5), Good(\"Груши\", 5), 100, 100, 2, 16) == 1\n",
        "assert budget_test_two_restrictions(Good(\"Яблоки\", 2), Good(\"Груши\", 7), Good(\"Яблоки\", 5), Good(\"Груши\", 5), 100, 100, 0, 20) == 0\n",
        "assert budget_test_two_restrictions(Good(\"Яблоки\", 2), Good(\"Груши\", 7), Good(\"Яблоки\", 5), Good(\"Груши\", 5), 100, 100, 0, 21) == -1\n",
        "assert budget_test_two_restrictions(Good(\"Яблоки\", 2), Good(\"Груши\", 7), Good(\"Яблоки\", 5), Good(\"Груши\", 5), 100, 100, 50, 0) == 0"
      ]
    },
    {
      "cell_type": "code",
      "execution_count": null,
      "metadata": {
        "id": "Zb86jcT17m4f",
        "colab": {
          "base_uri": "https://localhost:8080/",
          "height": 481
        },
        "outputId": "cb5b4f5b-6a05-4c06-ecc5-dfd827810681"
      },
      "outputs": [
        {
          "output_type": "display_data",
          "data": {
            "text/plain": [
              "<Figure size 640x480 with 1 Axes>"
            ],
            "image/png": "[encoded data removed]"
          },
          "metadata": {}
        }
      ],
      "source": [
        "def plot_budget_two_restrictions(\n",
        "    g11: Good, g12: Good, g21: Good, g22: Good, budget1, budget2, x1=0, x2=0\n",
        "):\n",
        "    \"\"\"\n",
        "    Построение графика бюджетного множества и расположения проверяемой точки\n",
        "    \"\"\"\n",
        "    x_points = [0, budget1/g11.price]\n",
        "    y_points = [budget1/g12.price, 0]\n",
        "\n",
        "\n",
        "    fig, ax = plt.subplots() # Создаем фигуру\n",
        "    fig.suptitle(\"Бюджетное множество\")\n",
        "\n",
        "    ax.plot(x_points, y_points, label=\"Бюджетная линия 1\") # Строим прямую по двум точкам\n",
        "    ax.fill_between(x_points, y_points, np.zeros_like(x_points), alpha=0.5) # Заливаем область под графиком с прозрачностью (alpha) 0.5\n",
        "\n",
        "    x2_points = [0, budget2/g21.price]\n",
        "    y2_points = [budget2/g22.price, 0]\n",
        "\n",
        "\n",
        "    ax.plot(x2_points, y2_points, label=\"Бюджетная линия 2\") # Строим прямую по двум точкам\n",
        "    ax.fill_between(x2_points, y2_points, np.zeros_like(x2_points), alpha=0.5) # Заливаем область под графиком с прозрачностью (alpha) 0.5\n",
        "\n",
        "\n",
        "    point_status = budget_test_two_restrictions(g11, g12, g21, g22, budget1, budget2, x1, x2) # Находим статус проверяемой точки\n",
        "\n",
        "    # В зависимости от статуса определяем цвет точки и надпись\n",
        "    if point_status == 1:\n",
        "        point_color = \"green\"\n",
        "        point_label = \"Допустимо\"\n",
        "    elif point_status == 0:\n",
        "        point_color = \"yellow\"\n",
        "        point_label = \"На границе\"\n",
        "    else:\n",
        "        point_color = \"red\"\n",
        "        point_label = \"Недопустимо\"\n",
        "\n",
        "    ax.scatter(x1, x2, color=point_color, label=point_label) # Рисуем точку\n",
        "    ax.plot([x1, x1], [0, x2], 'k:') # Добавляем вертикальную черную (k) пунктирную (:) линию к точке (x,y)\n",
        "    ax.plot([0, x1], [x2, x2], 'k:') # Добавляем горизонтальную черную (k) пунктирную (:) линию к точке (x,y)\n",
        "\n",
        "    # Добавляем название осей\n",
        "    ax.set_xlabel(g11.name)\n",
        "    ax.set_ylabel(g12.name)\n",
        "\n",
        "    # Сдвигаем и скрываем оси так, чтобы получились декартовы координаты\n",
        "    ax.spines['left'].set_position('zero')\n",
        "    ax.spines['right'].set_visible(False)\n",
        "    ax.spines['bottom'].set_position('zero')\n",
        "    ax.spines['top'].set_visible(False)\n",
        "\n",
        "    ax.axis('equal') # Принудительно делаем оси равными\n",
        "    ax.legend() # Отображаем легенду (информацию о данных)\n",
        "    plt.show() # Отображаем рисунок\n",
        "\n",
        "\n",
        "plot_budget_two_restrictions(\n",
        "    Good(\"Корм\", 5),\n",
        "    Good(\"Вкусняшки\", 12),\n",
        "    Good(\"Корм\", 5),\n",
        "    Good(\"Вкусняшки\", 4),\n",
        "    24000,\n",
        "    16000,\n",
        "    50,\n",
        "    0,\n",
        ")"
      ]
    },
    {
      "cell_type": "code",
      "execution_count": null,
      "metadata": {
        "id": "iDNOPXYn7m4f",
        "colab": {
          "base_uri": "https://localhost:8080/",
          "height": 737,
          "referenced_widgets": [
            "f4cdc8dc8f474698bff0378410be2457",
            "b3bfdf469e7f449288313c42d5134bcc",
            "7f8a4704332b4c939c98165288d4ee64",
            "941e6b8585fe4d0cadb0e45af8c9cb24",
            "d176219fe6204235bdf211e8fd23c368",
            "4917fa1b28a04f07a172314c413ddabe",
            "a6318709a8b24e31a3b91d3ad27c094e",
            "c83fd9e0e19e4c298b25d56b9ea241f8",
            "3235a861da7e47c387657e38f4e44730",
            "2149961abc9c4da5be5010e76ed2d68b",
            "5332948adeea453d9343eaf14bb73009",
            "dd5edb8fd8cf4c998abffde949c3636d",
            "fe6bfd90897e40bca1557c64a003c606",
            "b4f4c4853b89486cba2345279b7f02ab",
            "62c6da7d60e045b08cd4fd2f962ab537",
            "30c798301a8b4a7fbf1eeb22a6efad04",
            "2c2ec6fcc48d4ebb885e16b20c17905e",
            "a53795adbbac41429d78e3e9fe1c6b7c",
            "5e337a2790344fbda745160f5e63fe73",
            "4df25c840f5843d9acaa36b6528ffe4b",
            "908250a48afc44d8bee4ee8df2dd9785",
            "420363a6f3d64a5d9809194aab71d92f",
            "2f82e367bd384bdc8ce1a2dd62dd9710",
            "4bb5b65941704a8ba4aa28e722f01048",
            "ffb8d5d84b714c9c9618b5e21622f9c6",
            "73222eed2bfb4c13ad80116ad7b76859",
            "3ce8d79358b54278996b3f5b091e272f",
            "3c3b75ae55f74359bf4e47ba628e47c9"
          ]
        },
        "outputId": "199b43b1-4447-4426-e439-e890a7b61edc"
      },
      "outputs": [
        {
          "output_type": "display_data",
          "data": {
            "text/plain": [
              "interactive(children=(IntSlider(value=5, description='p11', max=10, min=1), IntSlider(value=5, description='p1…"
            ],
            "application/vnd.jupyter.widget-view+json": {
              "version_major": 2,
              "version_minor": 0,
              "model_id": "f4cdc8dc8f474698bff0378410be2457"
            }
          },
          "metadata": {}
        }
      ],
      "source": [
        "# Интерактивный виджет\n",
        "def interactive_plot_two_restrictions(p11, p12, p21, p22, budget1, budget2, x1, x2):\n",
        "    g11 = Good(\"Корм\", p11) # Создаем первый товар с ценой p11 для первого ограничения\n",
        "    g12 = Good(\"Вкусняшки\", p12) # Создаем второй товар с ценой p12 для первого ограничения\n",
        "    g21 = Good(\"Корм\", p21) # Создаем первый товар с ценой p21 для второго ограничения\n",
        "    g22 = Good(\"Вкусняшки\", p22) # Создаем второй товар с ценой p22 для второго ограничения\n",
        "    plot_budget_two_restrictions(g11, g12, g21, g22, budget1, budget2, x1, x2);\n",
        "\n",
        "interact(interactive_plot_two_restrictions, p11=(1, 10), p12 = (1, 10), p21=(1, 10), p22 = (1, 10), budget1=(1,100), budget2=(1,100), x1 = (1,10), x2=(1,10));"
      ]
    },
    {
      "cell_type": "markdown",
      "metadata": {
        "id": "k0H7oXlo7m4f"
      },
      "source": [
        "# <font color=\"red\">Задание 2<font>"
      ]
    },
    {
      "cell_type": "markdown",
      "metadata": {
        "id": "f1fidXJl7m4f"
      },
      "source": [
        "В другой вымышленной стране живет маленький медведь Тузик. Он тоже каждый месяц самостоятельно решает сколько корма в граммах и сколько вкусняшек в граммах он будет потреблять в этот месяц. Но у него не одна бабушка, а $N$. Все бабушки живут в разных деревнях, и Тузик может поехать к любой из них. Стоимость проезда до бабушек, цены на корм и вкусняшки везде разные."
      ]
    },
    {
      "cell_type": "markdown",
      "metadata": {
        "id": "v42MnUwW7m4g"
      },
      "source": [
        "Допишите функцию budget_test_several_restrictions и напишите функцию plot_budget_several_restrictions для визуализации (можно не заливать область бюджетного множества)."
      ]
    },
    {
      "cell_type": "code",
      "execution_count": null,
      "metadata": {
        "id": "uVBJoGDv7m4g"
      },
      "outputs": [],
      "source": [
        "from typing import List\n",
        "\n",
        "\n",
        "def budget_test_several_restrictions(\n",
        "    goods: List[tuple[Good]],  # список из кортежей с 2 товарами для каждого ограничения\n",
        "    budgets: List[int],  #  список \"бюджетов\"\n",
        "    x1=0,\n",
        "    x2=0,\n",
        "):\n",
        "    \"\"\"\n",
        "    Проверка расположения точки (x1, x2) относительно бюджетного множества:\n",
        "        Если внутри бюджетного множества, то возвращается значение 1,\n",
        "        Если на границе бюджетного множества, то возвращается значение 0,\n",
        "        Если вне бюджетного множества, то возвращается значение -1.\n",
        "    \"\"\"\n",
        "    ans = -1\n",
        "    for i in range( len(budgets)):\n",
        "      g1=goods[i][0]\n",
        "      g2=goods[i][1]\n",
        "      result = x1*g1.price + x2*g2.price\n",
        "      if result < budgets[i] : ans = max(ans, 1)\n",
        "      elif is_equal(result, budgets[i]) : ans = max(ans, 0)\n",
        "    return ans"
      ]
    },
    {
      "cell_type": "code",
      "execution_count": null,
      "metadata": {
        "id": "qF962EQM7m4g"
      },
      "outputs": [],
      "source": [
        "assert budget_test_several_restrictions([(Good(\"Корм\", 10), Good(\"Вкусняшки\", 5)), (Good(\"Корм\", 5), Good(\"Вкусняшки\", 10)), (Good(\"Корм\", 5), Good(\"Вкусняшки\", 5))], [100, 100, 150], 10,10) == 1\n",
        "assert budget_test_several_restrictions([(Good(\"Корм\", 10), Good(\"Вкусняшки\", 5)), (Good(\"Корм\", 5), Good(\"Вкусняшки\", 10)), (Good(\"Корм\", 5), Good(\"Вкусняшки\", 5))], [100, 100, 150], 20,20) == -1\n",
        "assert budget_test_several_restrictions([(Good(\"Корм\", 10), Good(\"Вкусняшки\", 5)), (Good(\"Корм\", 5), Good(\"Вкусняшки\", 10)), (Good(\"Корм\", 5), Good(\"Вкусняшки\", 5))], [100, 100, 150], 30,0) == 0\n",
        "assert budget_test_several_restrictions([(Good(\"Корм\", 10), Good(\"Вкусняшки\", 5)), (Good(\"Корм\", 5), Good(\"Вкусняшки\", 10)), (Good(\"Корм\", 5), Good(\"Вкусняшки\", 5))], [100, 100, 150], 0,30) == 0\n",
        "assert budget_test_several_restrictions([(Good(\"Корм\", 10), Good(\"Вкусняшки\", 5)), (Good(\"Корм\", 5), Good(\"Вкусняшки\", 10)), (Good(\"Корм\", 5), Good(\"Вкусняшки\", 5))], [100, 100, 150], 20,0) == 1\n",
        "assert budget_test_several_restrictions([(Good(\"Корм\", 10), Good(\"Вкусняшки\", 5)), (Good(\"Корм\", 5), Good(\"Вкусняшки\", 10)), (Good(\"Корм\", 5), Good(\"Вкусняшки\", 5))], [100, 100, 150], 5,5) == 1\n",
        "assert budget_test_several_restrictions([(Good(\"Корм\", 5), Good(\"Вкусняшки\", 10)), (Good(\"Корм\", 5), Good(\"Вкусняшки\", 10)), (Good(\"Корм\", 5), Good(\"Вкусняшки\", 5))], [100, 100, 150], 0,10) == 1"
      ]
    },
    {
      "cell_type": "code",
      "execution_count": null,
      "metadata": {
        "id": "T2Mb1y3c7m4g",
        "colab": {
          "base_uri": "https://localhost:8080/",
          "height": 481
        },
        "outputId": "9d0fea0a-62d8-4360-d072-7cf2c95fe395"
      },
      "outputs": [
        {
          "output_type": "display_data",
          "data": {
            "text/plain": [
              "<Figure size 640x480 with 1 Axes>"
            ],
            "image/png": "[encoded data removed]"
          },
          "metadata": {}
        }
      ],
      "source": [
        "def plot_budget_several_restrictions(\n",
        "    goods: List[tuple[Good]], budgets: List[float], x1=0, x2=0\n",
        "):\n",
        "    \"\"\"\n",
        "    Построение графика бюджетного множества и расположения проверяемой точки\n",
        "    \"\"\"\n",
        "    colors = np.random.rand(len(goods), 3)  # случайные цвета для каждой бюджетной линии\n",
        "    fig, ax = plt.subplots() # Создаем фигуру\n",
        "    fig.suptitle(\"Бюджетное множество\")\n",
        "    for i in range(len(budgets)):\n",
        "      g1 = goods[i][0]\n",
        "      g2 = goods[i][1]\n",
        "      x_points = [0, budgets[i]/g1.price]\n",
        "      y_points = [budgets[i]/g2.price, 0]\n",
        "      ax.plot(x_points, y_points, label=\"Бюджетная линия \" + str(i)) # Строим прямую по двум точкам\n",
        "    point_status = budget_test_several_restrictions(goods, budgets, x1, x2) # Находим статус проверяемой точки\n",
        "\n",
        "    # В зависимости от статуса определяем цвет точки и надпись\n",
        "    if point_status == 1:\n",
        "        point_color = \"green\"\n",
        "        point_label = \"Допустимо\"\n",
        "    elif point_status == 0:\n",
        "        point_color = \"yellow\"\n",
        "        point_label = \"На границе\"\n",
        "    else:\n",
        "        point_color = \"red\"\n",
        "        point_label = \"Недопустимо\"\n",
        "\n",
        "    ax.scatter(x1, x2, color=point_color, label=point_label) # Рисуем точку\n",
        "    ax.plot([x1, x1], [0, x2], 'k:') # Добавляем вертикальную черную (k) пунктирную (:) линию к точке (x,y)\n",
        "    ax.plot([0, x1], [x2, x2], 'k:') # Добавляем горизонтальную черную (k) пунктирную (:) линию к точке (x,y)\n",
        "\n",
        "    # Добавляем название осей\n",
        "    ax.set_xlabel(g1.name)\n",
        "    ax.set_ylabel(g2.name)\n",
        "\n",
        "    # Сдвигаем и скрываем оси так, чтобы получились декартовы координаты\n",
        "    ax.spines['left'].set_position('zero')\n",
        "    ax.spines['right'].set_visible(False)\n",
        "    ax.spines['bottom'].set_position('zero')\n",
        "    ax.spines['top'].set_visible(False)\n",
        "\n",
        "    ax.axis('equal') # Принудительно делаем оси равными\n",
        "    ax.legend() # Отображаем легенду (информацию о данных)\n",
        "    plt.show() # Отображаем рисунок\n",
        "\n",
        "plot_budget_several_restrictions(\n",
        "    [\n",
        "        (Good(\"Корм\", 5), Good(\"Вкусняшки\", 10)),\n",
        "        (Good(\"Корм\", 15), Good(\"Вкусняшки\", 7)),\n",
        "        (Good(\"Корм\", 5), Good(\"Вкусняшки\", 5)),\n",
        "    ],\n",
        "    [100, 100, 150],\n",
        "    5,\n",
        "    10,\n",
        ")"
      ]
    },
    {
      "cell_type": "markdown",
      "metadata": {
        "id": "Gm73R3_77m4g"
      },
      "source": [
        "# <font color=\"red\">Задание 3<font>"
      ]
    },
    {
      "cell_type": "code",
      "source": [
        "from google.colab import drive\n",
        "drive.mount('/content/drive')"
      ],
      "metadata": {
        "colab": {
          "base_uri": "https://localhost:8080/"
        },
        "id": "n0u9oTBGHNv6",
        "outputId": "e5d556af-389f-4cdf-a5d0-73b75676ced2"
      },
      "execution_count": null,
      "outputs": [
        {
          "output_type": "stream",
          "name": "stdout",
          "text": [
            "Drive already mounted at /content/drive; to attempt to forcibly remount, call drive.mount(\"/content/drive\", force_remount=True).\n"
          ]
        }
      ]
    },
    {
      "cell_type": "code",
      "source": [
        "!ls /content/drive/MyDrive/komprak1"
      ],
      "metadata": {
        "colab": {
          "base_uri": "https://localhost:8080/"
        },
        "id": "Mr2YmLJtIJLA",
        "outputId": "e7469e62-2ce0-4053-8c09-01ec7ab19af7"
      },
      "execution_count": null,
      "outputs": [
        {
          "output_type": "stream",
          "name": "stdout",
          "text": [
            " final_for_students_Dmitrenko.ipynb  'Копия money_for_the_trip_1200.csv'\n",
            " money_for_the_trip_1300.csv\t     'Копия money_for_the_trip_1300.csv'\n",
            " money_for_the_trip_1500.csv\t     'Копия money_for_the_trip_1400.csv'\n",
            " money_for_the_trip_1600.csv\t     'Копия money_for_the_trip_1500.csv'\n",
            " money_for_the_trip_1700.csv\t     'Копия money_for_the_trip_1600.csv'\n",
            " money_for_the_trip_1900.csv\t     'Копия money_for_the_trip_1700.csv'\n",
            " money_for_the_trip_2000.csv\t     'Копия money_for_the_trip_1800.csv'\n",
            " Tuzik_friends.csv\t\t     'Копия money_for_the_trip_1900.csv'\n",
            "'Tuzik_friends_results (1).csv'      'Копия money_for_the_trip_2000.csv'\n",
            " Tuzik_friends_results.csv\t     'Копия Компьютерный практикум по экономике 2024.gdoc'\n",
            "'Копия money_for_the_trip_1100.csv'\n"
          ]
        }
      ]
    },
    {
      "cell_type": "code",
      "source": [
        "babushki=[]\n",
        "for i in range(1100, 2001,100):\n",
        "  path = \"/content/drive/MyDrive/komprak1/Копия money_for_the_trip_\" + str(i) +\".csv\"\n",
        "  babushki.append(pd.read_csv(path))"
      ],
      "metadata": {
        "id": "Jc16Cf_uIw33"
      },
      "execution_count": null,
      "outputs": []
    },
    {
      "cell_type": "markdown",
      "metadata": {
        "id": "L1xiNHxK7m4g"
      },
      "source": [
        "Бабушки Тузика научились пользоваться компьютером и отправили ему csv (money_for_the_trip_X.csv), в которых хранятся стоимости корма и вкусняшек в их деревнях. В названиях X -- это стоимость проезда до каждой из разных деревень. В этот раз Тузик хочет совместить полезное с приятным: навестить одну из бабушек и купить в её деревне 5 грамм корма и 3.8 грамма вкусняшек. В распоряжении Тузика 4000 денежек. Сможет ли он это сделать?\n",
        "\n",
        "Визуализируйте бюджетные ограничения."
      ]
    },
    {
      "cell_type": "markdown",
      "metadata": {
        "id": "HwzyMrtb7m4g"
      },
      "source": [
        "Сможет: no"
      ]
    },
    {
      "cell_type": "code",
      "execution_count": null,
      "metadata": {
        "id": "ESwfyp4h7m4g",
        "colab": {
          "base_uri": "https://localhost:8080/",
          "height": 481
        },
        "outputId": "bfb54cf1-c856-4d18-c3d5-2f21b35934c5"
      },
      "outputs": [
        {
          "output_type": "display_data",
          "data": {
            "text/plain": [
              "<Figure size 640x480 with 1 Axes>"
            ],
            "image/png": "[encoded data removed]"
          },
          "metadata": {}
        }
      ],
      "source": [
        "goods = []\n",
        "budgets = []\n",
        "budget = 4000\n",
        "n_tables = 10\n",
        "\n",
        "for i in range(10):\n",
        "  products = list(babushki[i]['product'])\n",
        "  prices = list(babushki[i]['price'])\n",
        "  if products[0] != \"Корм\":\n",
        "    goods.append((Good(products[1], prices[1]),Good(products[0], prices[0])))\n",
        "  else:\n",
        "    goods.append((Good(products[0], prices[0]),Good(products[1], prices[1])))\n",
        "\n",
        "for sum in range(1100, 2001,100):\n",
        "  budgets.append(budget - sum)\n",
        "\n",
        "plot_budget_several_restrictions(goods, budgets, 5, 3.8)"
      ]
    },
    {
      "cell_type": "markdown",
      "metadata": {
        "id": "C1Vm5lw07m4g"
      },
      "source": [
        "# Описание класса товара с ограничением по времени"
      ]
    },
    {
      "cell_type": "code",
      "execution_count": null,
      "metadata": {
        "id": "mzl-G7zL7m4g"
      },
      "outputs": [],
      "source": [
        "# Класс для товаров модели с учетом времени\n",
        "class Good_t():\n",
        "    def __init__(self, name, price, time=0):\n",
        "        self.name = name\n",
        "        self.price = price\n",
        "        self.time = time # время на \"покупку/поиск\" товара"
      ]
    },
    {
      "cell_type": "markdown",
      "metadata": {
        "id": "FAucoJtb7m4h"
      },
      "source": [
        "# <font color=\"red\">Задание 4<font>"
      ]
    },
    {
      "cell_type": "markdown",
      "metadata": {
        "id": "0mIC71Fg7m4h"
      },
      "source": [
        "Допишите функции budget_time_test для проверки на бюджетное и временное ограничения."
      ]
    },
    {
      "cell_type": "code",
      "execution_count": null,
      "metadata": {
        "id": "89-FCHCQ7m4h",
        "colab": {
          "base_uri": "https://localhost:8080/"
        },
        "outputId": "281dc9c3-02d3-4dae-d162-282b6d5fb7f3"
      },
      "outputs": [
        {
          "output_type": "execute_result",
          "data": {
            "text/plain": [
              "0"
            ]
          },
          "metadata": {},
          "execution_count": 50
        }
      ],
      "source": [
        "def budget_time_test(g1: Good_t, g2: Good_t, budget, time, x1=0, x2=0):\n",
        "    \"\"\"\n",
        "    Проверка расположения точки (x1, x2) относительно бюджетного и временного множеств:\n",
        "        Если внутри, то возвращается значение 1,\n",
        "        Если на границе, то возвращается значение 0,\n",
        "        Если вне, то возвращается значение -1.\n",
        "    \"\"\"\n",
        "    result = x1*g1.price + x2*g2.price\n",
        "    result_time = x1*g1.time + x2*g2.time\n",
        "    ans_m = -1\n",
        "    ans_t = -1\n",
        "    if (is_equal(result, budget) ) : # Поскольку значения типа float, необходимо сравнивать на равенство с погрешностью\n",
        "        ans_m = 0\n",
        "    elif (result < budget) :\n",
        "        ans_m = 1\n",
        "    if (is_equal(result_time, time) ) : # Поскольку значения типа float, необходимо сравнивать на равенство с погрешностью\n",
        "        ans_t = 0\n",
        "    elif (result_time < time) :\n",
        "        ans_t = 1\n",
        "    if ans_m == -1 or ans_t == -1 : return -1\n",
        "    else : return min(ans_m, ans_t)\n",
        "\n",
        "budget_time_test(Good_t(\"Корм\", 10, 2), Good_t(\"Вкусняшки\", 5, 7), 100, 112, 2.33333333, 15.33333333)"
      ]
    },
    {
      "cell_type": "code",
      "execution_count": null,
      "metadata": {
        "id": "9cSkEjA07m4h"
      },
      "outputs": [],
      "source": [
        "assert budget_time_test(Good_t(\"Корм\", 5, 5), Good_t(\"Вкусняшки\", 5, 5), 100, 100, 5, 5) == 1\n",
        "assert budget_time_test(Good_t(\"Корм\", 10, 2), Good_t(\"Вкусняшки\", 5, 7), 100, 112, 2.33333333, 15.33333333) == 0\n",
        "assert budget_time_test(Good_t(\"Корм\", 10, 2), Good_t(\"Вкусняшки\", 5, 7), 100, 112, 3, 17) == -1\n",
        "assert budget_time_test(Good_t(\"Корм\", 10, 2), Good_t(\"Вкусняшки\", 5, 7), 100, 112, 20, 2) == -1\n",
        "assert budget_time_test(Good_t(\"Корм\", 10, 2), Good_t(\"Вкусняшки\", 5, 7), 100, 112, 2, 2) == 1\n",
        "assert budget_time_test(Good_t(\"Корм\", 10, 2), Good_t(\"Вкусняшки\", 5, 7), 100, 112, 0.5, 18) == -1\n",
        "assert budget_time_test(Good_t(\"Корм\", 10, 2), Good_t(\"Вкусняшки\", 5, 7), 100, 112, 0, 20) == -1\n",
        "assert budget_time_test(Good_t(\"Корм\", 10, 2), Good_t(\"Вкусняшки\", 5, 7), 100, 112, 0, 16) == 0"
      ]
    },
    {
      "cell_type": "markdown",
      "metadata": {
        "id": "0eoyuDwi7m4h"
      },
      "source": [
        "# Функция для пересечения временного и бюджетного ограничений"
      ]
    },
    {
      "cell_type": "markdown",
      "metadata": {
        "id": "8oLLwEg-7m4h"
      },
      "source": [
        "Напишем функцию get_point_spent_all_budget_and_time, которая может возвращать None в случае если ограничения не пересекаются (или полностью совпадают), либо возвращает np.array из количества товаров 1 и 2 (если пересекаются в одной точке)."
      ]
    },
    {
      "cell_type": "code",
      "execution_count": null,
      "metadata": {
        "id": "ttVFYeWG7m4h"
      },
      "outputs": [],
      "source": [
        "def get_point_spent_all_budget_and_time(g1: Good_t, g2: Good_t, budget, time):\n",
        "    \"\"\"\n",
        "    Узнать в какой точке тратим всё доступное время и весь бюджет (не рассматриваем случаи когда линии полностью совпадают)\n",
        "    return np.array\n",
        "    \"\"\"\n",
        "    list_of_points = [[g1.price, g2.price], [g1.time, g2.time]]\n",
        "    restrictions = np.array([budget, time])  # матрица из ограничений\n",
        "\n",
        "    if np.linalg.det(list_of_points) != 0:\n",
        "        solution = np.linalg.inv(list_of_points) @ restrictions\n",
        "    else:\n",
        "        return None\n",
        "\n",
        "    p_min = min(solution)\n",
        "    if p_min < 0:\n",
        "        return None\n",
        "    else:\n",
        "        return solution"
      ]
    },
    {
      "cell_type": "code",
      "execution_count": null,
      "metadata": {
        "id": "P0DSAzSM7m4h"
      },
      "outputs": [],
      "source": [
        "result1 = get_point_spent_all_budget_and_time(\n",
        "    Good_t(\"Корм\", 10, 4), Good_t(\"Вкусняшки\", 5, 7), 100, 112\n",
        ")\n",
        "assert is_equal(result1[0], 2.8)\n",
        "assert is_equal(result1[1], 14.4)\n",
        "\n",
        "result2 = get_point_spent_all_budget_and_time(\n",
        "    Good_t(\"Корм\", 8, 10), Good_t(\"Вкусняшки\", 9, 9), 100, 100\n",
        ")\n",
        "assert is_equal(result2[0], 0)\n",
        "assert is_equal(result2[1], 11.11111111)"
      ]
    },
    {
      "cell_type": "markdown",
      "metadata": {
        "id": "KlIZ0iRV7m4i"
      },
      "source": [
        "# <font color=\"red\">Задание 5<font>"
      ]
    },
    {
      "cell_type": "markdown",
      "metadata": {
        "id": "0uDNr9Y-7m4i"
      },
      "source": [
        "Напишите функцию, позволяющую визуализировать временное и бюджетное ограничение (важно добавить заливку допустимой области)"
      ]
    },
    {
      "cell_type": "code",
      "execution_count": null,
      "metadata": {
        "id": "hmTQF0H47m4i",
        "colab": {
          "base_uri": "https://localhost:8080/",
          "height": 498
        },
        "outputId": "5c7c654c-7290-4c7d-cb67-f9664d337cdd"
      },
      "outputs": [
        {
          "output_type": "stream",
          "name": "stdout",
          "text": [
            "<class 'numpy.ndarray'>\n"
          ]
        },
        {
          "output_type": "display_data",
          "data": {
            "text/plain": [
              "<Figure size 640x480 with 1 Axes>"
            ],
            "image/png": "[encoded data removed]"
          },
          "metadata": {}
        }
      ],
      "source": [
        "def plot_budget_time_restriction(g1: Good_t, g2: Good_t, budget, time, x1=0, x2=0):\n",
        "    \"\"\"\n",
        "    Построение графика бюджетного множества и расположения проверяемой точки\n",
        "    \"\"\"\n",
        "    fig, ax = plt.subplots() # Создаем фигуру\n",
        "    fig.suptitle(\"Бюджетное множество\")\n",
        "    t_p = get_point_spent_all_budget_and_time(g1, g2, budget, time)\n",
        "    print(type(t_p))\n",
        "    if t_p is None:\n",
        "      if (budget/ g1.price <= time/ g1.time):\n",
        "        x_points = [0, budget/g1.price]\n",
        "        y_points = [budget/g2.price, 0]\n",
        "        ax.plot(x_points, y_points, label=\"Бюджетная линия \") # Строим прямую по двум точкам\n",
        "        ax.fill_between(x_points, y_points, np.zeros_like(x_points), alpha=0.5) # Заливаем область под графиком с прозрачностью (alpha) 0.5\n",
        "      else:\n",
        "        x_points = [0, time/g1.time]\n",
        "        y_points = [time/g2.time, 0]\n",
        "        ax.plot(x_points, y_points, label=\"Линия временного ограничения\",color = 'orange') # Строим прямую по двум точкам\n",
        "        ax.fill_between(x_points, y_points, np.zeros_like(x_points), alpha=0.5, color = 'orange') # Заливаем область под графиком с прозрачностью (alpha) 0.5\n",
        "\n",
        "    else:\n",
        "      if (budget/ g1.price > time/ g1.time):\n",
        "        x_points = [t_p[0], 0 ]\n",
        "        y_points = [t_p[1], budget/ g2.price]\n",
        "      else:\n",
        "        x_points = [t_p[0], budget/ g1.price ]\n",
        "        y_points = [t_p[1], 0]\n",
        "\n",
        "\n",
        "\n",
        "\n",
        "\n",
        "      ax.plot(x_points, y_points, label=\"Бюджетная линия \") # Строим прямую по двум точкам\n",
        "      ax.fill_between(x_points, y_points, np.zeros_like(x_points), alpha=0.5) # Заливаем область под графиком с прозрачностью (alpha) 0.5\n",
        "\n",
        "      if (budget/ g1.price > time/ g1.time):\n",
        "        x2_points = [t_p[0], time/g1.time]\n",
        "        y2_points = [t_p[1], 0]\n",
        "      else:\n",
        "        x2_points = [t_p[0], 0]\n",
        "        y2_points = [t_p[1], time/g2.time]\n",
        "\n",
        "\n",
        "\n",
        "      ax.plot(x2_points, y2_points, label=\"Линия временного ограничения\") # Строим прямую по двум точкам\n",
        "      ax.fill_between(x2_points, y2_points, np.zeros_like(x2_points), alpha=0.5) # Заливаем область под графиком с прозрачностью (alpha) 0.5\n",
        "\n",
        "\n",
        "    point_status = budget_time_test(g1, g2, budget, time, x1, x2) # Находим статус проверяемой точки\n",
        "\n",
        "    # В зависимости от статуса определяем цвет точки и надпись\n",
        "    if point_status == 1:\n",
        "        point_color = \"green\"\n",
        "        point_label = \"Допустимо\"\n",
        "    elif point_status == 0:\n",
        "        point_color = \"yellow\"\n",
        "        point_label = \"На границе\"\n",
        "    else:\n",
        "        point_color = \"red\"\n",
        "        point_label = \"Недопустимо\"\n",
        "\n",
        "    ax.scatter(x1, x2, color=point_color, label=point_label) # Рисуем точку\n",
        "    ax.plot([x1, x1], [0, x2], 'k:') # Добавляем вертикальную черную (k) пунктирную (:) линию к точке (x,y)\n",
        "    ax.plot([0, x1], [x2, x2], 'k:') # Добавляем горизонтальную черную (k) пунктирную (:) линию к точке (x,y)\n",
        "\n",
        "    # Добавляем название осей\n",
        "    ax.set_xlabel(g1.name)\n",
        "    ax.set_ylabel(g2.name)\n",
        "\n",
        "    # Сдвигаем и скрываем оси так, чтобы получились декартовы координаты\n",
        "    ax.spines['left'].set_position('zero')\n",
        "    ax.spines['right'].set_visible(False)\n",
        "    ax.spines['bottom'].set_position('zero')\n",
        "    ax.spines['top'].set_visible(False)\n",
        "\n",
        "    ax.axis('equal') # Принудительно делаем оси равными\n",
        "    ax.legend() # Отображаем легенду (информацию о данных)\n",
        "    plt.show() # Отображаем рисунок\n",
        "\n",
        "\n",
        "plot_budget_time_restriction(Good_t(\"Корм\", 9, 10), Good_t(\"Вкусняшки\", 10, 9), 100, 100, 1, 1) # пример"
      ]
    },
    {
      "cell_type": "code",
      "execution_count": null,
      "metadata": {
        "id": "LJZFupbB7m4i",
        "colab": {
          "base_uri": "https://localhost:8080/",
          "height": 754,
          "referenced_widgets": [
            "6d6f0d65305c41c6a32196a0b7e5ba56",
            "4efc9f7c26084182a31c89edbe70b55e",
            "75f93c2a2343428ca333ead0da5ed6e6",
            "29eb2c291d354ef3b8b53451b9080bd3",
            "d4a066518f42485f8ceaa2404b3078e2",
            "0d43dbb02fdf499ba4e738155b6796b1",
            "ae10a7818159480fb5ea2e9657506cb4",
            "2815ddf1b98743e1b088e6145568f6ad",
            "7e82f0d497fc4553b9ba75d1a82b5202",
            "87cae22e569b49c292de2c68f8ba085c",
            "a06d7f7c553646f7b1558ddfbf28f16b",
            "4cb498e60aac47f4a9b28856171dacd2",
            "34b84be178e348d49ceb2720e66b6a60",
            "0fd6a304b0844b92a3761068216d39d3",
            "c92cfe8cdfbf476781a70eff89f32c36",
            "4bd2f2ba30b4437fad17c24b80bb5922",
            "e3535f1368e5469aba1ff5e5a5926886",
            "98ec9b30e4c04fd7904f07332a706e1d",
            "4f7a5eac89bb44dda05f311a4a4cfa0f",
            "ba33128fa3f941aea45a523733f167fc",
            "6819748d9ae3471d92ad23ed6bbf2bc9",
            "db6b8af39b71492782c88e1e8778e791",
            "a92a9b2046e94cd5b9e2e2c19c88ace2",
            "e358c6b26c2b4f3f951824b23612b8b9",
            "88c9659556da4d60a6f3c1b1a06a1419",
            "b74bbc1021444c5ebe5acd78ccd0e5d5",
            "f79a0604eb424e158cdf79fcbab33c0a",
            "72f3a79f239441e5adea1088a9d49384"
          ]
        },
        "outputId": "52fbe1a7-1960-449c-8e76-a371025d34af"
      },
      "outputs": [
        {
          "output_type": "display_data",
          "data": {
            "text/plain": [
              "interactive(children=(IntSlider(value=5, description='p1', max=10, min=1), IntSlider(value=5, description='p2'…"
            ],
            "application/vnd.jupyter.widget-view+json": {
              "version_major": 2,
              "version_minor": 0,
              "model_id": "6d6f0d65305c41c6a32196a0b7e5ba56"
            }
          },
          "metadata": {}
        }
      ],
      "source": [
        "# Интерактивный виджет\n",
        "def interactive_plot_budget_time(p1, p2, t1, t2, budget, time,x1, x2):\n",
        "    g1 = Good_t(\"Корм\", p1, t1)  # Создаем первый товар с ценой p1\n",
        "    g2 = Good_t(\"Вкусняшки\", p2, t2) # Создаем второй товар с ценой p2\n",
        "    plot_budget_time_restriction(g1, g2, budget, time, x1, x2);\n",
        "\n",
        "interact(interactive_plot_budget_time, p1=(1, 10), p2 = (1, 10), t1=(1, 10), t2 = (1, 10), budget=(1,100), time=(1,100), x1 = (1,10), x2=(1,10));"
      ]
    },
    {
      "cell_type": "markdown",
      "metadata": {
        "id": "u70_WUyR7m4i"
      },
      "source": [
        "# Решение основной задачи потребителя"
      ]
    },
    {
      "cell_type": "markdown",
      "metadata": {
        "id": "j8xowKry7m4i"
      },
      "source": [
        "Итак, как было сказано ранее, приведенную ниже задачу можно описать словами так --- максимизация полезности (какой бы она ни была) при бюджетном ограничении (каким бы оно ни было). Результатом данной оптимицазии при заданных ценах и доходе будет оптимальный набор, набор, который выберет потребитель. Задача представляет собой --- задачу условной максимизации. Однако, существует несколько «трюков», которые все упрощают. Один из них, монтонное возрастание функции полезности хотя бы по одной из переменных. Тогда максимум функции полезности будет достигаться на ограничении (на бюджетной линии). И достаточно его найти любым удобным способом."
      ]
    },
    {
      "cell_type": "markdown",
      "metadata": {
        "id": "uKmYA4mg7m4i"
      },
      "source": [
        "\\begin{equation}\n",
        "\\begin{array}{rl}\n",
        " \\displaystyle \\max_{x_1,x_2 \\geq 0} & U(x_1,x_2)  \\\\\n",
        "\\textrm{s.t.} & p_1x_1+p_2x_2 \\leq m\n",
        "\\end{array}\n",
        "\\end{equation}"
      ]
    },
    {
      "cell_type": "markdown",
      "metadata": {
        "id": "Yd3V56hF7m4i"
      },
      "source": [
        "# <font color=\"red\">Задание 6<font>"
      ]
    },
    {
      "cell_type": "markdown",
      "metadata": {
        "id": "nl35uSH97m4i"
      },
      "source": [
        "Функция полезности агента имеет вид $U(x_1,x_2) = \\sqrt{x_1} + x_2$. Цены равны 5000 и 10000, соотвественно. А доход равен 20000. Найдите оптимальный набор (допишите функции ниже)"
      ]
    },
    {
      "cell_type": "code",
      "execution_count": null,
      "metadata": {
        "id": "64s8NF3d7m4i"
      },
      "outputs": [],
      "source": [
        "\n",
        "def x2_from_x1(g1, g2, budget, x1):\n",
        "    # возвращает сколько мы можем купить товара x2 на границе бюджетного ограничения\n",
        "    x2 = budget / g2.price - (g1.price / g2.price) * x1\n",
        "    return x2\n",
        "\n",
        "\n",
        "def optimal_x05_u_from_x1(g1, g2, budget, x1):\n",
        "    u = x05_u_from_x1_x2(x1, x2_from_x1(g1, g2, budget, x1))\n",
        "    return u\n",
        "\n",
        "\n",
        "def x05_u_from_x1_x2(x1, x2):\n",
        "    u = x1**0.5 + x2\n",
        "    return u\n",
        "\n",
        "def x05_find_best_x1(g1, g2, budget):\n",
        "    x1 = ((0.5*g2.price)/g1.price) *  ((0.5*g2.price)/g1.price)\n",
        "    if x1 > budget/g1.price:\n",
        "      x1 = budget/g1.price\n",
        "    return x1\n",
        "\n",
        "\n",
        "def x05_find_best_x1_x2_u(g1: Good, g2: Good, budget):\n",
        "    x1 = x05_find_best_x1(g1, g2, budget)\n",
        "    x2 = x2_from_x1(g1, g2, budget, x1)\n",
        "    u = x05_u_from_x1_x2(x1, x2)\n",
        "    return x1, x2, u"
      ]
    },
    {
      "cell_type": "code",
      "execution_count": null,
      "metadata": {
        "id": "UiCcmmQK7m4j"
      },
      "outputs": [],
      "source": [
        "x1, x2, u = x05_find_best_x1_x2_u(Good(\"x1\", 5000), Good(\"x2\", 40000), 20000)\n",
        "assert is_equal(x1, 4)\n",
        "assert is_equal(x2, 0)\n",
        "assert is_equal(u, 2)\n",
        "\n",
        "x1, x2, u = x05_find_best_x1_x2_u(Good(\"x1\", 10000), Good(\"x2\", 10000), 20000)\n",
        "assert is_equal(x1, 0.25)\n",
        "assert is_equal(x2, 1.75)\n",
        "assert is_equal(u, 2.25)"
      ]
    },
    {
      "cell_type": "code",
      "execution_count": null,
      "metadata": {
        "id": "y3Q8faKd7m4j",
        "colab": {
          "base_uri": "https://localhost:8080/"
        },
        "outputId": "44d04b64-7bc1-49dd-ba23-3b3c8f88004b"
      },
      "outputs": [
        {
          "output_type": "execute_result",
          "data": {
            "text/plain": [
              "(1.0, 1.5, 2.5)"
            ]
          },
          "metadata": {},
          "execution_count": 58
        }
      ],
      "source": [
        "x05_find_best_x1_x2_u(Good(\"x1\", 5000), Good(\"x2\", 10000), 20000)"
      ]
    },
    {
      "cell_type": "markdown",
      "metadata": {
        "id": "wCRdbLOs7m4j"
      },
      "source": [
        "### Функция ниже отображает полезность в зависимости от x1 при условии, что был потрачен весь бюджет"
      ]
    },
    {
      "cell_type": "code",
      "execution_count": null,
      "metadata": {
        "id": "9dwv5OVg7m4j",
        "colab": {
          "base_uri": "https://localhost:8080/",
          "height": 471
        },
        "outputId": "caa43a50-722c-4628-9c38-7eafe47099b0"
      },
      "outputs": [
        {
          "output_type": "stream",
          "name": "stdout",
          "text": [
            "x1: 1.0, x2: 1.5, u: 2.5\n"
          ]
        },
        {
          "output_type": "display_data",
          "data": {
            "text/plain": [
              "<Figure size 640x480 with 1 Axes>"
            ],
            "image/png": "[encoded data removed]"
          },
          "metadata": {}
        }
      ],
      "source": [
        "def plot_u_from_x1(\n",
        "    g1: Good, g2: Good, budget, func_find_best_x1_x2_u, func_optim_u_from_x1\n",
        "):\n",
        "    \"\"\"\n",
        "    Построение графика полезности от x1, при условии, что потрачен весь бюджет\n",
        "    \"\"\"\n",
        "    max_x = budget / g1.price\n",
        "    x1_points = np.linspace(0,max_x,100)\n",
        "    x1, x2, u = func_find_best_x1_x2_u(g1, g2, budget)\n",
        "\n",
        "    print(f'x1: {x1}, x2: {x2}, u: {u}')\n",
        "    y_points = np.vectorize(lambda x: func_optim_u_from_x1(g1, g2, budget, x))(x1_points)\n",
        "    fig, ax = plt.subplots()  # Создаем фигуру\n",
        "    fig.suptitle(\"Функция полезности от X1\")\n",
        "\n",
        "    ax.plot(x1_points, y_points)\n",
        "    ax.scatter(x1, u, color=\"yellow\", label=\"Максимальная полезность\")  # Рисуем точку\n",
        "    ax.plot(\n",
        "        [x1, x1], [0, u], \"k:\"\n",
        "    )  # Добавляем вертикальную черную (k) пунктирную (:) линию к точке (x1,u)\n",
        "    ax.plot(\n",
        "        [0, x1], [u, u], \"k:\"\n",
        "    )  # Добавляем горизонтальную черную (k) пунктирную (:) линию к точке (x1,u)\n",
        "\n",
        "    # Добавляем название осей\n",
        "    ax.set_xlabel(g1.name)\n",
        "    ax.set_ylabel('U')\n",
        "\n",
        "    # Сдвигаем и скрываем оси так, чтобы получились декартовы координаты\n",
        "    ax.spines[\"left\"].set_position(\"zero\")\n",
        "    ax.spines[\"right\"].set_visible(False)\n",
        "    ax.spines[\"bottom\"].set_position(\"zero\")\n",
        "    ax.spines[\"top\"].set_visible(False)\n",
        "\n",
        "    ax.axis(\"equal\")  # Принудительно делаем оси равными\n",
        "    ax.legend()  # Отображаем легенду (информацию о данных)\n",
        "    plt.show()  # Отображаем рисунок\n",
        "\n",
        "\n",
        "plot_u_from_x1(\n",
        "    Good(\"x1\", 5000), Good(\"x2\", 10000), 20000, x05_find_best_x1_x2_u, optimal_x05_u_from_x1\n",
        ")"
      ]
    },
    {
      "cell_type": "code",
      "execution_count": null,
      "metadata": {
        "id": "M_YAmPc57m4j",
        "colab": {
          "base_uri": "https://localhost:8080/",
          "height": 594,
          "referenced_widgets": [
            "9f77a6fa17234f118836fca46a095d05",
            "1cd5065d88a5495e9d8cf92c0be2921a",
            "62f10bc4ef2a42d3a03fcd15409f9b64",
            "b2d656921fd844e797759dd4e0e86c73",
            "4dbd804f604d429ab0fd0607b7d85931",
            "a7c5b290cad54be096a6a969a79c33c0",
            "6122f279f06b4dec8b5c3e40f41e59eb",
            "b88c931eeea04c099f93436b392dc3f8",
            "2a5c7d985b104d19a5125fe1756c366b",
            "ac232c4036c8453e800d69e7d1069e29",
            "5f70921a18784cb5a7f77dd45519120c",
            "09e52b50e61e415ead90052f56cff2ea",
            "8208e2b440f1488a9a570a42821b5562"
          ]
        },
        "outputId": "9b659c79-3b53-42d2-a1e7-2ef7508445ae"
      },
      "outputs": [
        {
          "output_type": "display_data",
          "data": {
            "text/plain": [
              "interactive(children=(IntSlider(value=10000, description='p1', max=20000, min=1), IntSlider(value=10000, descr…"
            ],
            "application/vnd.jupyter.widget-view+json": {
              "version_major": 2,
              "version_minor": 0,
              "model_id": "9f77a6fa17234f118836fca46a095d05"
            }
          },
          "metadata": {}
        }
      ],
      "source": [
        "# Интерактивный виджет\n",
        "def interactive_plot_u_from_x1(p1, p2, budget):\n",
        "    g1 = Good(\"x1\", p1) # Создаем первый товар с ценой p1\n",
        "    g2 = Good(\"x2\", p2) # Создаем второй товар с ценой p2\n",
        "    plot_u_from_x1(g1, g2,budget, x05_find_best_x1_x2_u, optimal_x05_u_from_x1);\n",
        "\n",
        "interact(interactive_plot_u_from_x1, p1=(1, 20000), p2 = (1, 20000), budget=(1, 40000));"
      ]
    },
    {
      "cell_type": "markdown",
      "metadata": {
        "id": "iR47Gi447m4j"
      },
      "source": [
        "# <font color=\"red\">Задание 7<font>"
      ]
    },
    {
      "cell_type": "markdown",
      "metadata": {
        "id": "WGSiHREr7m4j"
      },
      "source": [
        "Постройте интерактивную 3D визуализацию функции полезности в зависимости от допустимых x1 и x2."
      ]
    },
    {
      "cell_type": "markdown",
      "metadata": {
        "id": "p1PAQZpy7m4j"
      },
      "source": [
        "Пример: https://bestuwithbudget.streamlit.app/"
      ]
    },
    {
      "cell_type": "code",
      "execution_count": null,
      "metadata": {
        "id": "iTynOaD47m4j",
        "colab": {
          "base_uri": "https://localhost:8080/",
          "height": 105
        },
        "outputId": "0220e4b2-54e0-4399-e6fd-516108720549"
      },
      "outputs": [
        {
          "output_type": "error",
          "ename": "SyntaxError",
          "evalue": "positional argument follows keyword argument (<ipython-input-63-53b20c227216>, line 16)",
          "traceback": [
            "\u001b[0;36m  File \u001b[0;32m\"<ipython-input-63-53b20c227216>\"\u001b[0;36m, line \u001b[0;32m16\u001b[0m\n\u001b[0;31m    make_3d_plot(Good(\"x1\", 5000), Good(\"x2\", 10000), budget=(1, 40000), x05_u_from_x1_x2)\u001b[0m\n\u001b[0m                                                                                         ^\u001b[0m\n\u001b[0;31mSyntaxError\u001b[0m\u001b[0;31m:\u001b[0m positional argument follows keyword argument\n"
          ]
        }
      ],
      "source": [
        "def make_3d_plot(g1: Good, g2: Good, budget, func_u_from_x1):\n",
        "    x1_list = np.linspace(0, budget / g1.price, 50)\n",
        "    x2_list = np.linspace(0, budget / g2.price, 50)\n",
        "    X1, X2 = np.meshgrid(x1_list, x2_list)\n",
        "    u = func_u_from_x1(X1, X2)\n",
        "    fig = plt.figure()\n",
        "    ax = fig.add_subplot(111, projection = '3d')\n",
        "    ax.plot_surface(X1, X2, u, cmap = 'viridis')\n",
        "\n",
        "    ax.set_xlabel(g1.name)\n",
        "    ax.set_ylabel(g2.name)\n",
        "    ax.set_zlabel('U')\n",
        "    plt.title('Функция полезности 3d')\n",
        "    plt.show\n",
        "\n",
        "make_3d_plot(Good(\"x1\", 5000), Good(\"x2\", 10000), budget=(1, 40000), x05_u_from_x1_x2)\n",
        "interact(make_3d_plot);\n"
      ]
    },
    {
      "cell_type": "code",
      "source": [
        "def interact_make_3d_plot(p1, p2, budget):\n",
        "  g1 = Good('x1', p1)\n",
        "  g2 = Good('x2', p2)\n",
        "  make_3d_plot(g1, g2, budget,  x05_u_from_x1_x2);\n",
        "interact(interact_make_3d_plot,  p1=(1, 20000), p2 = (1, 20000), budget=(1, 40000));"
      ],
      "metadata": {
        "id": "f9GN43kZ9r8t"
      },
      "execution_count": null,
      "outputs": []
    },
    {
      "cell_type": "markdown",
      "metadata": {
        "id": "5SJ_irI17m4j"
      },
      "source": [
        "# <font color=\"red\">Задание 8<font>"
      ]
    },
    {
      "cell_type": "markdown",
      "metadata": {
        "id": "hlaWHq7x7m4j"
      },
      "source": [
        "Функция полезности агента имеет вид $U(x_1,x_2) = {x_1}^{1.5} + x_2$. Цены равны 5000 и 10000, соотвественно. А доход равен 20000. Найдите оптимальный набор (для этого рекомендуется дописать функции ниже)"
      ]
    },
    {
      "cell_type": "code",
      "execution_count": null,
      "metadata": {
        "id": "WuqWhD_97m4k"
      },
      "outputs": [],
      "source": [
        "def optimal_x15_u_from_x1(g1, g2, budget, x1):\n",
        "    u =  x15_u_from_x1_x2(x1, x2_from_x1(g1, g2, budget, x1))\n",
        "    return u\n",
        "\n",
        "\n",
        "def x15_u_from_x1_x2(x1, x2):\n",
        "    u = x1 ** 1.5 + x2\n",
        "    return u\n",
        "\n",
        "\n",
        "def x15_find_best_x1(g1, g2, budget):\n",
        "    fl = True\n",
        "    x1_list = [] # список, т.к. может быть 2 точки\n",
        "    x1 = (g1.price/(1.5* g2.price)) *  (g1.price/(1.5* g2.price))\n",
        "    if x1 > budget/g1.price:\n",
        "      x1=budget/g1.price\n",
        "    if x15_u_from_x1_x2(0,  x2_from_x1(g1, g2, budget, 0)) >= x15_u_from_x1_x2(x1,  x2_from_x1(g1, g2, budget, x1)) and x15_u_from_x1_x2(0,  x2_from_x1(g1, g2, budget, 0)) - x15_u_from_x1_x2(budget/g1.price,  x2_from_x1(g1, g2, budget, budget/g1.price)) >= -1 * 1e-6 :\n",
        "      x1_list.append(0)\n",
        "      fl = False\n",
        "    if x15_u_from_x1_x2(budget/g1.price,  x2_from_x1(g1, g2, budget, budget/g1.price)) >= x15_u_from_x1_x2(x1,  x2_from_x1(g1, g2, budget, x1)) and - x15_u_from_x1_x2(0,  x2_from_x1(g1, g2, budget, 0)) + x15_u_from_x1_x2(budget/g1.price,  x2_from_x1(g1, g2, budget, budget/g1.price)) >= -1 * 1e-6:\n",
        "       x1_list.append(budget/g1.price)\n",
        "       fl = False\n",
        "    if fl:\n",
        "      x1_list.append(x1)\n",
        "    return x1_list\n",
        "\n",
        "\n",
        "def x15_find_best_x1_x2_u(g1: Good, g2: Good, budget):\n",
        "    # список на случай, если полезности одинаковые на краях\n",
        "    x1_list = x15_find_best_x1(g1, g2, budget)\n",
        "    x2_list = [x2_from_x1(g1, g2, budget, x1) for x1 in x1_list]\n",
        "    u_list = []\n",
        "    for x1, x2 in zip(x1_list, x2_list):\n",
        "        u_list.append(x15_u_from_x1_x2(x1, x2))\n",
        "    return x1_list, x2_list, u_list"
      ]
    },
    {
      "cell_type": "code",
      "execution_count": null,
      "metadata": {
        "id": "nzFQXe-_7m4k"
      },
      "outputs": [],
      "source": [
        "x1_list, x2_list, u_list = x15_find_best_x1_x2_u(\n",
        "    Good(\"x1\", 5), Good(\"x2\", 6), 3.47223\n",
        ")\n",
        "print(x1_list, x2_list, u_list)\n",
        "# должно быть примерно x1_list: [0, 0.694446], x2_list: [0.578705, 0.0], u_list: [0.578705, 0.5787056481492371]"
      ]
    },
    {
      "cell_type": "code",
      "execution_count": null,
      "metadata": {
        "id": "o9x6EjdR7m4k"
      },
      "outputs": [],
      "source": [
        "x1_list, x2_list, u_list = x15_find_best_x1_x2_u(\n",
        "    Good(\"x1\", 5000), Good(\"x2\", 10000), 20000\n",
        ")\n",
        "print(x1_list, x2_list, u_list)"
      ]
    },
    {
      "cell_type": "markdown",
      "metadata": {
        "id": "ceB2f_Nr7m4k"
      },
      "source": [
        "### Функция ниже отображает полезность в зависимости от x1 при условии, что был потрачен весь бюджет"
      ]
    },
    {
      "cell_type": "code",
      "execution_count": null,
      "metadata": {
        "id": "JCLx9OeN7m4k"
      },
      "outputs": [],
      "source": [
        "def plot_other_u_from_x1(\n",
        "    g1: Good, g2: Good, budget, func_find_best_x1_x2_u, func_optim_u_from_x1\n",
        "):\n",
        "    \"\"\"\n",
        "    Построение графика полезности от x1, при условии, что потрачен весь бюджет\n",
        "    \"\"\"\n",
        "    max_x = budget / g1.price\n",
        "    x1_points = np.linspace(0,max_x,100)\n",
        "\n",
        "    x1_list, x2_list, u_list = func_find_best_x1_x2_u(g1, g2, budget)\n",
        "    print(f'x1: {x1_list}, x2: {x2_list}, u: {u_list}')\n",
        "    y_points = np.vectorize(lambda x: func_optim_u_from_x1(g1, g2, budget, x))(x1_points)\n",
        "    fig, ax = plt.subplots()  # Создаем фигуру\n",
        "    fig.suptitle(\"Функция полезности от X1\")\n",
        "\n",
        "    ax.plot(x1_points, y_points)\n",
        "    for x1, x2, u in zip(x1_list, x2_list, u_list):\n",
        "        ax.scatter(x1, u, color=\"yellow\", label=\"Максимальная полезность\")  # Рисуем точку\n",
        "        ax.plot(\n",
        "            [x1, x1], [0, u], \"k:\"\n",
        "        )  # Добавляем вертикальную черную (k) пунктирную (:) линию к точке (x1,u)\n",
        "        ax.plot(\n",
        "            [0, x1], [u, u], \"k:\"\n",
        "        )  # Добавляем горизонтальную черную (k) пунктирную (:) линию к точке (x1,u)\n",
        "\n",
        "    # Добавляем название осей\n",
        "    ax.set_xlabel(g1.name)\n",
        "    ax.set_ylabel('U')\n",
        "\n",
        "    # Сдвигаем и скрываем оси так, чтобы получились декартовы координаты\n",
        "    ax.spines[\"left\"].set_position(\"zero\")\n",
        "    ax.spines[\"right\"].set_visible(False)\n",
        "    ax.spines[\"bottom\"].set_position(\"zero\")\n",
        "    ax.spines[\"top\"].set_visible(False)\n",
        "\n",
        "    ax.axis(\"equal\")  # Принудительно делаем оси равными\n",
        "    ax.legend()  # Отображаем легенду (информацию о данных)\n",
        "    plt.show()  # Отображаем рисунок\n",
        "\n",
        "plot_other_u_from_x1(\n",
        "    Good(\"x1\", 5), Good(\"x2\", 6), 3.47223, x15_find_best_x1_x2_u, optimal_x15_u_from_x1\n",
        ")"
      ]
    },
    {
      "cell_type": "code",
      "execution_count": null,
      "metadata": {
        "id": "XQKP4drf7m4k"
      },
      "outputs": [],
      "source": [
        "# Интерактивный виджет\n",
        "def other_interactive_plot_u_from_x1(p1, p2, budget):\n",
        "    g1 = Good(\"x1\", p1) # Создаем первый товар с ценой p1\n",
        "    g2 = Good(\"x2\", p2) # Создаем второй товар с ценой p2\n",
        "    plot_other_u_from_x1(g1, g2, budget, x15_find_best_x1_x2_u, optimal_x15_u_from_x1);\n",
        "\n",
        "interact(other_interactive_plot_u_from_x1, p1=(1, 20000), p2 = (1, 20000), budget=(1, 40000));"
      ]
    },
    {
      "cell_type": "markdown",
      "metadata": {
        "id": "1rE4og_a7m4l"
      },
      "source": [
        "## 3D представление"
      ]
    },
    {
      "cell_type": "code",
      "execution_count": null,
      "metadata": {
        "id": "CaW0cS3w7m4l"
      },
      "outputs": [],
      "source": [
        "# если было сделано предыдущее задание\n",
        "make_3d_plot(Good(\"x1\", 5000), Good(\"x2\", 10000), 20000, x15_u_from_x1_x2)"
      ]
    },
    {
      "cell_type": "markdown",
      "metadata": {
        "id": "HjxH8OOF7m4l"
      },
      "source": [
        "# <font color=\"red\">Задание 9<font>"
      ]
    },
    {
      "cell_type": "markdown",
      "metadata": {
        "id": "_xnBwa547m4l"
      },
      "source": [
        "Функция полезности некоторого агента имеет вид $U(x_1, x_2)=\\ln x_1 + x_2$. Цены товаров $x_1, x_2$ равны $p_1, p_2$. Доход равен $m$. Найдите функции спроса агента на товары $x_1, x_2$."
      ]
    },
    {
      "cell_type": "markdown",
      "metadata": {
        "id": "MwL1Dfn87m4l"
      },
      "source": [
        "Я умею техать, но делать это здесь невозможно, это просто издевательство \\\\\n",
        "\n",
        "$U_{x_1}' = \\frac{1}{x_1}, U_{x_2}' =1$\n",
        "\\begin{equation}\n",
        "    \\begin{cases}\n",
        "        \\frac{1}{x_1} = \\frac{p_1}{p_2} \\\\\n",
        "        p_1x_1 + p_2x_2 = m\n",
        "    \\end{cases}\n",
        "\\end{equation}\n",
        "\n",
        "$x_1 = \\frac{p_2}{p_1}$ → $p_1 \\cdot \\frac{p_2}{p_1} + p_2x_2 = m$ → $x_2 = \\frac{m - p_2} {p_2}, x_1 = \\frac{p_2}{p_1}$"
      ]
    },
    {
      "cell_type": "markdown",
      "metadata": {
        "id": "aEjQppId7m4l"
      },
      "source": [
        "Допишите функции ниже."
      ]
    },
    {
      "cell_type": "code",
      "execution_count": null,
      "metadata": {
        "id": "zJpiKLBX7m4l"
      },
      "outputs": [],
      "source": [
        "# u = np.log(x1) + x2\n",
        "# def x2_from_x1(g1, g2, budget, x1) у всех одинаковая\n",
        "\n",
        "\n",
        "def optimal_ln_u_from_x1(g1, g2, budget, x1):\n",
        "    u = np.log(x1) + x2_from_x1(g1, g2, budget, x1)\n",
        "    return u\n",
        "\n",
        "\n",
        "def ln_u_from_x1_x2(x1, x2):\n",
        "    u = np.log(x1) + x2\n",
        "    return u\n",
        "\n",
        "\n",
        "def ln_find_best_x1(g1, g2, budget):\n",
        "    x1 = g2.price / g1.price\n",
        "    if x1 > budget/g1.price:\n",
        "      x1 = budget/g1.price\n",
        "    return x1\n",
        "\n",
        "\n",
        "def ln_find_best_x1_x2_u(g1: Good, g2: Good, budget):\n",
        "    x1 = ln_find_best_x1(g1, g2, budget)\n",
        "    x2 = x2_from_x1(g1, g2, budget, x1)\n",
        "    u = ln_u_from_x1_x2(x1, x2)\n",
        "    return x1, x2, u"
      ]
    },
    {
      "cell_type": "code",
      "execution_count": null,
      "metadata": {
        "id": "2fWts3rM7m4l"
      },
      "outputs": [],
      "source": [
        "x1, x2, u = ln_find_best_x1_x2_u(Good(\"x1\", 5000), Good(\"x2\", 10000), 17000)\n",
        "assert is_equal(x1, 2)\n",
        "assert is_equal(x2, 0.7)\n",
        "assert is_equal(u, 1.3931471805599451)\n",
        "\n",
        "x1, x2, u = ln_find_best_x1_x2_u(Good(\"x1\", 5000), Good(\"x2\", 10000), 10000)\n",
        "assert is_equal(x1, 2)\n",
        "assert is_equal(x2, 0)\n",
        "assert is_equal(u, 0.6931471805599453)"
      ]
    },
    {
      "cell_type": "markdown",
      "metadata": {
        "id": "FyvF_OOr7m4l"
      },
      "source": [
        "# Кривые безразличия"
      ]
    },
    {
      "cell_type": "markdown",
      "metadata": {
        "id": "0BLUNsex7m4l"
      },
      "source": [
        "Напишем функции, с помощью которых можно будет строить графики кривых безразличия функций полезности. Для начала рассмотрим такую функцию:\n",
        "$$c = \\ln({x_1})+ x_2$$\n",
        "при различных значениях параметра $c$."
      ]
    },
    {
      "cell_type": "code",
      "execution_count": null,
      "metadata": {
        "id": "W_i5ISO07m4l"
      },
      "outputs": [],
      "source": [
        "def ln_level_line(c, x1):\n",
        "    return c - np.log(x1)\n",
        "\n",
        "\n",
        "def plot_level_lines(c_values, level_line):\n",
        "    x1_list = np.linspace(0.1, 1, 50)  # Массив из 100 точек от 0.1 до 1\n",
        "    fig, ax = plt.subplots()\n",
        "    fig.suptitle(\"Кривая безразличия вида $c = ln{x_1}+ x_2$\")\n",
        "    for c in c_values:\n",
        "        x2_list = np.array([level_line(c, x) for x in x1_list])\n",
        "        filter = x2_list > 0\n",
        "        ax.plot(x1_list[filter], x2_list[filter], label=f\"$с = {c}$\")\n",
        "\n",
        "    # ax.spines[\"left\"].set_position(\"zero\")\n",
        "    ax.spines[\"right\"].set_visible(False)\n",
        "    # ax.spines[\"bottom\"].set_position(\"zero\")\n",
        "    ax.spines[\"top\"].set_visible(False)\n",
        "    ax.legend()\n",
        "\n",
        "\n",
        "c_values = [1, 2, 3]\n",
        "plot_level_lines(c_values, ln_level_line)"
      ]
    },
    {
      "cell_type": "markdown",
      "metadata": {
        "id": "ZMuOyrdJ7m4m"
      },
      "source": [
        "# Бюджетное ограничение и кривая безразличия"
      ]
    },
    {
      "cell_type": "markdown",
      "metadata": {
        "id": "7_NIoXec7m4m"
      },
      "source": [
        "Если Вы правильно написали ln_find_best_x1_x2_u, то при p1=7000, p2=8000, budget=15000 будет так:\n",
        "\n",
        "![image.png](attachment:image.png)\n"
      ]
    },
    {
      "cell_type": "code",
      "execution_count": null,
      "metadata": {
        "id": "ZzSPbtPd7m4m"
      },
      "outputs": [],
      "source": [
        "def plot_budget_with_u(g1, g2, budget, func_find_best_x1_x2_u, level_line):\n",
        "    \"\"\"\n",
        "    Построение графика бюджетного множества и кривой безразличия\n",
        "    \"\"\"\n",
        "\n",
        "    # График будет построен по двум точкам (0, budget/g2.price) и (budget/g1.price, 0)\n",
        "    x_points = [0, budget / g1.price]\n",
        "    y_points = [budget / g2.price, 0]\n",
        "\n",
        "    fig, ax = plt.subplots()  # Создаем фигуру\n",
        "    # fig.suptitle(\"Бюджетное множество \")\n",
        "\n",
        "    x1, x2, u = func_find_best_x1_x2_u(g1, g2, budget)\n",
        "    ax.plot(x_points, y_points, label=\"Бюджетная линия\")  # Строим прямую по двум точкам\n",
        "    ax.fill_between(\n",
        "        x_points, y_points, np.zeros_like(x_points), alpha=0.5\n",
        "    )  # Заливаем область под графиком с прозрачностью (alpha) 0.5\n",
        "\n",
        "    point_status = budget_test(\n",
        "        g1, g2, budget, x1, x2\n",
        "    )  # Находим статус проверяемой точки\n",
        "\n",
        "    # В зависимости от статуса определяем цвет точки и надпись\n",
        "    if point_status == 1:\n",
        "        point_color = \"green\"\n",
        "        point_label = \"Допустимо\"\n",
        "    elif point_status == 0:\n",
        "        point_color = \"yellow\"\n",
        "        point_label = \"На границе\"\n",
        "    else:\n",
        "        point_color = \"red\"\n",
        "        point_label = \"Недопустимо\"\n",
        "\n",
        "    x1_list = np.linspace(0, budget / g1.price, 100)  # Массив из 50 точек от 0.1 до 1\n",
        "    # fig, ax = plt.subplots()\n",
        "    fig.suptitle(\n",
        "        \"Кривая безразличия вида $c = ln{x_1}+ x_2$\"\n",
        "    )  # Двойные слеши нужны, чтобы не экранировать следующий символ\n",
        "    x2_list = np.array([level_line(u, x1) for x1 in x1_list])\n",
        "    filter = x2_list < budget / g2.price\n",
        "    ax.plot(x1_list[filter], x2_list[filter], label=f\"$с = {round(u, 2)}$\")\n",
        "\n",
        "    ax.scatter(x1, x2, color=point_color, label=point_label)  # Рисуем точку\n",
        "    ax.plot(\n",
        "        [x1, x1], [0, x2], \"k:\"\n",
        "    )  # Добавляем вертикальную черную (k) пунктирную (:) линию к точке (x,y)\n",
        "    ax.plot(\n",
        "        [0, x1], [x2, x2], \"k:\"\n",
        "    )  # Добавляем горизонтальную черную (k) пунктирную (:) линию к точке (x,y)\n",
        "\n",
        "    # Добавляем название осей\n",
        "    ax.set_xlabel(g1.name)\n",
        "    ax.set_ylabel(g2.name)\n",
        "\n",
        "    # Сдвигаем и скрываем оси так, чтобы получились декартовы координаты\n",
        "    ax.spines[\"left\"].set_position(\"zero\")\n",
        "    ax.spines[\"right\"].set_visible(False)\n",
        "    ax.spines[\"bottom\"].set_position(\"zero\")\n",
        "    ax.spines[\"top\"].set_visible(False)\n",
        "\n",
        "    ax.axis(\"equal\")  # Принудительно делаем оси равными\n",
        "    ax.legend()  # Отображаем легенду (информацию о данных)\n",
        "    plt.show()  # Отображаем рисунок\n",
        "\n",
        "\n",
        "plot_budget_with_u(\n",
        "    Good(\"x1\", 7000),\n",
        "    Good(\"x2\", 8000),\n",
        "    15000,\n",
        "    ln_find_best_x1_x2_u,\n",
        "    ln_level_line,\n",
        ")"
      ]
    },
    {
      "cell_type": "markdown",
      "metadata": {
        "id": "36HJuDXy7m4m"
      },
      "source": [
        "# <font color=\"red\">Задание 10<font>"
      ]
    },
    {
      "cell_type": "markdown",
      "metadata": {
        "id": "CLVls82v7m4m"
      },
      "source": [
        "Известно, что грамм вкусняшек стоит 5000 денежек, а грамм корма стоит 10000 денежек. Функция полезности Тузика $U(x_1, x_2)=\\ln x_1 + x_2$. Мы знаем, что раньше Тузик потреблял только 1.4 грамма вкусняшек. Спустя некоторое время бюджет Тузика изменился, и он стал потреблять не только вкусняшки (количество вкусняшек могло измениться), но и 0.8 грамма корма. На сколько в денежках по модулю изменился бюджет Тузика, если известно, что он всегда потребляет оптимально? Допишите функцию find_abs_budgets, учитывая, что после изменения бюджета Тузик всегда как минимум питается кормом (то есть потребление корма не 0)"
      ]
    },
    {
      "cell_type": "code",
      "execution_count": null,
      "metadata": {
        "id": "Cz5LGYwq7m4m"
      },
      "outputs": [],
      "source": [
        "def find_abs_budgets_const_price(g1: Good, g2:Good, old_x1, old_x2, new_x2):\n",
        "    # Ваш код здесь\n",
        "    old_budget = old_x1 * g1.price + old_x2 * g2.price\n",
        "    new_x1 = g2.price / g1.price\n",
        "    new_budget =  new_x1 * g1.price + new_x2 * g2.price\n",
        "    return abs(old_budget - new_budget)"
      ]
    },
    {
      "cell_type": "code",
      "execution_count": null,
      "metadata": {
        "id": "HOdfAMrL7m4n"
      },
      "outputs": [],
      "source": [
        "assert find_abs_budgets_const_price(\n",
        "    Good(\"Вкусняшки\", 8000), Good(\"Корм\", 12000), 1, 0, 0.8\n",
        ") == 13600\n"
      ]
    },
    {
      "cell_type": "code",
      "execution_count": null,
      "metadata": {
        "id": "XR-GZjca7m4n"
      },
      "outputs": [],
      "source": [
        "find_abs_budgets_const_price(\n",
        "    Good(\"Вкусняшки\", 5000), Good(\"Корм\", 10000), 1.4, 0, 0.8\n",
        ")"
      ]
    },
    {
      "cell_type": "markdown",
      "metadata": {
        "id": "aFk4KZ3i7m4n"
      },
      "source": [
        "# <font color=\"red\">Задание 11<font >"
      ]
    },
    {
      "cell_type": "markdown",
      "metadata": {
        "id": "FLrCwOB97m4n"
      },
      "source": [
        "Известно, что раньше Тузик жил в городе, где грамм вкусняшек и грамм корма стоили 5000 и 10000 соответственно, и его бюджет был 13000. Раньше он максимизировал свою функцию полезности $U(x_1, x_2)=\\ln x_1 + x_2$. Недавно он переехал, и теперь грамм вкусняшек и корма стоят 6000 и 12000 соответственно. На сколько в денежках по модулю должен измениться бюджет Тузика, чтобы его старый набор остался бы доступен? Допишите функцию find_abs_budgets_const_consumption. Модуль округлите до целого с помощью round."
      ]
    },
    {
      "cell_type": "code",
      "execution_count": null,
      "metadata": {
        "id": "PpJMq3Hp7m4n"
      },
      "outputs": [],
      "source": [
        "def find_abs_budgets_const_consumption(\n",
        "    old_g1,\n",
        "    old_g2,\n",
        "    new_g1,\n",
        "    new_g2,\n",
        "    old_budget,\n",
        "\n",
        "):\n",
        "    old_x1 = old_g2.price / old_g1.price\n",
        "    if  old_x1 * old_g1.price < old_budget:\n",
        "      old_x2 = (old_budget - old_x1 * old_g1.price) / old_g2.price\n",
        "    else:\n",
        "      old_x2=0\n",
        "      old_x1 = old_budget / old_g1.price\n",
        "    new_budget = old_x1  * new_g1.price + old_x2 * new_g2.price\n",
        "    return round(abs(new_budget - old_budget))"
      ]
    },
    {
      "cell_type": "code",
      "execution_count": null,
      "metadata": {
        "id": "KbEw3hFb7m4n"
      },
      "outputs": [],
      "source": [
        "assert is_equal(find_abs_budgets_const_consumption(\n",
        "    old_g1=Good(\"Вкусняшки\", 5000),\n",
        "    old_g2=Good(\"Корм\", 8000),\n",
        "    new_g1=Good(\"Вкусняшки\", 6000),\n",
        "    new_g2=Good(\"Корм\", 12000),\n",
        "    old_budget=13000,\n",
        "), 4100)\n",
        "\n",
        "assert is_equal(find_abs_budgets_const_consumption(\n",
        "    old_g1=Good(\"Вкусняшки\", 4000),\n",
        "    old_g2=Good(\"Корм\", 12000),\n",
        "    new_g1=Good(\"Вкусняшки\", 8000),\n",
        "    new_g2=Good(\"Корм\", 18000),\n",
        "    old_budget=13000,\n",
        "), 12500)\n",
        "\n",
        "assert is_equal(find_abs_budgets_const_consumption(\n",
        "    old_g1=Good(\"Вкусняшки\", 11000),\n",
        "    old_g2=Good(\"Корм\", 33000),\n",
        "    new_g1=Good(\"Вкусняшки\", 25000),\n",
        "    new_g2=Good(\"Корм\", 24000),\n",
        "    old_budget=14000,\n",
        "), 17818)\n",
        "\n",
        "assert is_equal(find_abs_budgets_const_consumption(\n",
        "    old_g1=Good(\"Вкусняшки\", 5000),\n",
        "    old_g2=Good(\"Корм\", 20000),\n",
        "    new_g1=Good(\"Вкусняшки\", 5000),\n",
        "    new_g2=Good(\"Корм\", 27000),\n",
        "    old_budget=18000,\n",
        "), 0)"
      ]
    },
    {
      "cell_type": "code",
      "execution_count": null,
      "metadata": {
        "id": "aPIrVzg_7m4n"
      },
      "outputs": [],
      "source": [
        "find_abs_budgets_const_consumption(\n",
        "    old_g1=Good(\"Вкусняшки\", 5000),\n",
        "    old_g2=Good(\"Корм\", 10000),\n",
        "    new_g1=Good(\"Вкусняшки\", 6000),\n",
        "    new_g2=Good(\"Корм\", 12000),\n",
        "    old_budget=13000,\n",
        ")"
      ]
    },
    {
      "cell_type": "markdown",
      "metadata": {
        "id": "2wVocB8V7m4n"
      },
      "source": [
        "# <font color=\"red\">Задание 12<font>"
      ]
    },
    {
      "cell_type": "markdown",
      "metadata": {
        "id": "-_6QBUg27m4o"
      },
      "source": [
        "Оказывается, у Тузика было N друзей, которые раньше тоже максимизировали свои функции полезности вида $U(x_1, x_2)=\\ln x_1 + x_2$ (x1 - вкусняшки, x2 - корм). Но недавно они переехали вместе с Тузиком, и тоже заинтересовались, как должны измениться их бюджеты, чтобы их старые наборы остались бы доступными. В \"Tuzik_friends.csv\" хранится информация по потреблению и бюджетам друзей Тузика. Для каждого друга посчитайте модуль разности бюджетов и запишите в \"Tuzik_friends_results.csv\". Предварительно отсортируйте друзей по возрастанию id. Должно получиться две колонки: \"id друга\", \"модуль разности бюджетов\".  Как и до этого, модули округляйте до целого с помощью round."
      ]
    },
    {
      "cell_type": "code",
      "execution_count": null,
      "metadata": {
        "id": "sPTcgVtT7m4o"
      },
      "outputs": [],
      "source": [
        "!ls /content/drive/MyDrive/komprak1/"
      ]
    },
    {
      "cell_type": "code",
      "source": [
        "df = pd.read_csv(\"/content/drive/MyDrive/komprak1/Tuzik_friends.csv\")\n",
        "friends_id = list(set(df['id друга']))\n",
        "ans = []\n",
        "for i in range(len(friends_id)) :\n",
        "  friend = df[df['id друга'] == friends_id[i]]\n",
        "  budget = list(friend[friend['товар/бюджет'] == 'старый бюджет']['денежки'])[0]\n",
        "  g2_old = Good(\"Корм\", list(friend[friend['товар/бюджет'] == 'корм до перезда']['денежки'])[0])\n",
        "  g2_new = Good(\"Корм\", list(friend[friend['товар/бюджет'] == 'корм после перезда']['денежки'])[0])\n",
        "  g1_old = Good(\"Вкусняшки\", list(friend[friend['товар/бюджет'] == 'вкусняшки до переезда']['денежки'])[0])\n",
        "  g1_new = Good(\"Вкусняшки\", list(friend[friend['товар/бюджет'] == 'вкусняшки после переезда']['денежки'])[0])\n",
        "  ans.append(find_abs_budgets_const_consumption(g1_old, g2_old,g1_new,g2_new, budget))\n",
        "dict = {'id друга':friends_id, 'модуль разности бюджетов\"':ans}\n",
        "df = pd.DataFrame(dict)\n",
        "df.to_csv( r\"/content/drive/MyDrive/komprak1/Tuzik_friends_results.csv\")"
      ],
      "metadata": {
        "id": "aBJTt04j6FP_"
      },
      "execution_count": null,
      "outputs": []
    },
    {
      "cell_type": "markdown",
      "metadata": {
        "id": "DPMHQBax7m4o"
      },
      "source": [
        "# Кривая доход-потребление"
      ]
    },
    {
      "cell_type": "markdown",
      "metadata": {
        "id": "Gyi8WSrY7m4o"
      },
      "source": [
        "Нарисуем кривую доход потребление для функции полезности вида:\n",
        "\n",
        "$U(x_1, x_2)=\\ln x_1 + x_2$"
      ]
    },
    {
      "cell_type": "markdown",
      "metadata": {
        "id": "6OjIOTg67m4o"
      },
      "source": [
        "Если задание с нахождением оптимума для такой функции полезности было решено верно, то должна получиться такая картинка.\n",
        "\n",
        "\n",
        "![image.png](attachment:image.png)"
      ]
    },
    {
      "cell_type": "code",
      "execution_count": null,
      "metadata": {
        "id": "CrOEtUpo7m4o"
      },
      "outputs": [],
      "source": [
        "def income_consumption_curve(\n",
        "    goods_list: List[tuple], budget_min, budget_max, func_find_best_x1_x2_u\n",
        "):\n",
        "    budgets = np.linspace(budget_min, budget_max, 100)\n",
        "    colors = np.random.rand(len(goods_list), 3)\n",
        "    plt.figure()\n",
        "    for i, zipped in enumerate(zip(goods_list, colors)):\n",
        "        goods_tuple, c = zipped[0], zipped[1]\n",
        "        x1_list = []\n",
        "        x2_list = []\n",
        "        for budget in budgets:\n",
        "            x1, x2, _ = func_find_best_x1_x2_u(goods_tuple[0], goods_tuple[1], budget)\n",
        "            x1_list.append(x1)\n",
        "            x2_list.append(x2)\n",
        "        plt.plot(\n",
        "            x1_list,\n",
        "            x2_list,\n",
        "            color=c,\n",
        "            label=f\"Набор {i+1}, p1={goods_tuple[0].price}, p2={goods_tuple[1].price}\",\n",
        "        )\n",
        "\n",
        "    plt.legend()\n",
        "    plt.title(\n",
        "        f\"Кривая доход-потребление при изменении дохода с {budget_min} до {budget_max}\"\n",
        "    )\n",
        "    plt.xlabel(\"x1\")\n",
        "    plt.ylabel(\"x2\")\n",
        "    plt.show()\n",
        "\n",
        "\n",
        "income_consumption_curve(\n",
        "    [\n",
        "        (Good(\"x1\", 5000), Good(\"x2\", 10000)),\n",
        "        (Good(\"x1\", 7500), Good(\"x2\", 7500)),\n",
        "        (Good(\"x1\", 10000), Good(\"x2\", 5000)),\n",
        "    ],\n",
        "    1,\n",
        "    15000,\n",
        "    ln_find_best_x1_x2_u,\n",
        ")"
      ]
    },
    {
      "cell_type": "markdown",
      "metadata": {
        "id": "2WcSHLJB7m4o"
      },
      "source": [
        "# <font color=\"red\">Задание 13<font>"
      ]
    },
    {
      "cell_type": "markdown",
      "metadata": {
        "id": "7wJSI1nt7m4o"
      },
      "source": [
        "Постройте Кривую Энгеля (допишите Engel_curve) для функции полезности:\n",
        "\n",
        "$U(x_1, x_2)=\\ln x_1 + x_2$"
      ]
    },
    {
      "cell_type": "code",
      "execution_count": null,
      "metadata": {
        "id": "cVetAhOn7m4o"
      },
      "outputs": [],
      "source": [
        "def Engel_curve(\n",
        "    goods_list: List[tuple], budget_min, budget_max, func_find_best_x1_x2_u\n",
        "):\n",
        "\n",
        "    budgets = np.linspace(budget_min, budget_max, 100) # список бюджетов\n",
        "    colors = np.random.rand(len(goods_list), 3) # рандомные цвета\n",
        "    for i in range(len(goods_list)):\n",
        "      g1 = goods_list[i][0]\n",
        "      g2 = goods_list[i][1]\n",
        "      x1_list = []\n",
        "      x2_list = []\n",
        "      b_list = []\n",
        "      for budget in budgets:\n",
        "          x1, x2, budget_tmp = func_find_best_x1_x2_u(g1, g2, budget)\n",
        "          x1_list.append(x1)\n",
        "          x2_list.append(x2)\n",
        "          b_list.append(budget)\n",
        "      plt.plot(\n",
        "          x1_list,\n",
        "          b_list,\n",
        "          label=f\"По х1, p1={g1.price}, p2={g2.price}\"\n",
        "      )\n",
        "      plt.plot(\n",
        "          x2_list,\n",
        "          b_list,\n",
        "          label=f\"По х2, p1={g1.price}, p2={g2.price}\"\n",
        "      )\n",
        "    plt.legend()\n",
        "    plt.title(\n",
        "        f\"Кривая Энгеля при изменении дохода с {budget_min} до {budget_max}\"\n",
        "    )\n",
        "    plt.ylabel(\"Доход\")\n",
        "    plt.xlabel(\"x1 или x2\")\n",
        "    plt.show()\n",
        "\n",
        "\n",
        "Engel_curve(\n",
        "    [\n",
        "        (Good(\"x1\", 5000), Good(\"x2\", 10000)),\n",
        "        (Good(\"x1\", 7500), Good(\"x2\", 7500)),\n",
        "        (Good(\"x1\", 10000), Good(\"x2\", 5000)),\n",
        "    ],\n",
        "    1,\n",
        "    15000,\n",
        "    ln_find_best_x1_x2_u,\n",
        ")"
      ]
    },
    {
      "cell_type": "markdown",
      "metadata": {
        "id": "ZBswB26D7m4o"
      },
      "source": [
        "# Производитель"
      ]
    },
    {
      "cell_type": "markdown",
      "metadata": {
        "id": "rzUBe55E7m4o"
      },
      "source": [
        "До этого была описана задача потребителя, из которой вытекает спрос --- первая часть для нахождения рыночного равновесия. С другой стороны, формируется предложение производителем (здесь мы для простоты игнорируем факт, что потребитель и покупатель, а также продавец и производитель --- это не одно и то же). Производитель обычно выбирает, сколько блага произвести и сколько ресурсов на это потратить. Этот выбор можно свести как к одной задаче максимизации прибыли при ограничении или к двум задачам: минимизации издержек при ограничении и безусловной максимизации прибыли. На самом деле, результат будет одинаковым.\n",
        "\n",
        "Представим ситуацию, когда производитель производит единственное благо $y_1$, используя только ресурс $y_2$. Считаем, что при производстве и продаже нет потерь, поэтому всё благо $y_1$ будет продано, а весь ресурс $y_2$ использован. Цена блага равна $p$, цена ресурса --- $w$.\n",
        "\n",
        "\\begin{equation}\n",
        "\\begin{array}{rl}\n",
        " \\displaystyle \\max_{y_1,y_2 \\geq 0} & \\Pi(y_1,y_2) = py_1 - wy_2  \\\\\n",
        "\\textrm{s.t.} & f(y_2) \\geq y_1\n",
        "\\end{array}\n",
        "\\end{equation}\n",
        "\n",
        "Здесь $f(y_2)$ --- производственная функция, которая показывает, какое количество блага $y_1$ можно произвести, использовав $y_2$ единиц ресурса. Решением такой задачи является спрос на ресур и предложение блага."
      ]
    },
    {
      "cell_type": "markdown",
      "metadata": {
        "id": "mu_UdjRh7m4p"
      },
      "source": [
        "# <font color=\"red\">Задание 14<font>"
      ]
    },
    {
      "cell_type": "markdown",
      "metadata": {
        "id": "XbPZDPNG7m4p"
      },
      "source": [
        "Производственная функция агента имеет вид $f(y_2) = \\sqrt{y_2}$. Найдите оптимальное предложение блага. Постройте график зависимости прибыли от предложения блага. Допишите функции ниже."
      ]
    },
    {
      "cell_type": "code",
      "execution_count": null,
      "metadata": {
        "id": "GvWjy8h27m4p"
      },
      "outputs": [],
      "source": [
        "def production_function(y1):\n",
        "    y2 = y1**2\n",
        "    return y2\n",
        "\n",
        "\n",
        "def supply_function(p, y1, w, production_function):\n",
        "    profit = p*y1 - w* production_function(y1)\n",
        "    return profit\n",
        "\n",
        "\n",
        "def best_y1(p, w):\n",
        "    y1 = p/ (2*w)\n",
        "    return y1"
      ]
    },
    {
      "cell_type": "code",
      "execution_count": null,
      "metadata": {
        "id": "RDVE8ImN7m4p"
      },
      "outputs": [],
      "source": [
        "def plot_supply(p, w, supply_function, production_function):\n",
        "    y1_list = np.linspace(0,10,100)\n",
        "    profits = [supply_function(p, m, w, production_function) for m in y1_list]\n",
        "    plt.plot(y1_list, profits)\n",
        "    plt.xlabel('благо 1')\n",
        "    plt.ylabel('навар(прибыль)')\n",
        "    plt.grid(True)\n",
        "    plt.show\n",
        "plot_supply(10, 2.5, supply_function, production_function)"
      ]
    },
    {
      "cell_type": "markdown",
      "metadata": {
        "id": "V2ovazKF7m4p"
      },
      "source": [
        "## Текстовое решение"
      ]
    },
    {
      "cell_type": "markdown",
      "metadata": {
        "id": "2TV5hMro7m4p"
      },
      "source": [
        "Важно отметить, что производителю не выгодно использовать больше ресурса, чем необходимо для производства каждого конкретного $y_1$, так как использование большего количества ресурса только увеличивает издержки, а, следовательно, не максимизирует прибыль. Тогда ограничение выполняется как равенство и можно выразить одну из переменных $y_2 = y^{2}_{1}$, подствим в прибыль.\n",
        "\n",
        "\\begin{equation*}\n",
        "\\begin{array}{rl}\n",
        " \\displaystyle \\max_{y_1 \\geq 0} & \\Pi(y_1) = py_1 - wy^{2}_{1}\n",
        "\\end{array}\n",
        "\\end{equation*}\n",
        "\n",
        "График функции --- парабола ветвями вниз, максимум в вершине $y^{*}_{1} = \\frac{p}{2w}$ (спрос на ресурс можно найти обратно подставив функцию в выраженный $y_2(y_1)$).\n",
        "\n",
        "Ответ: $y^{*}_{1} = \\frac{p}{2w}$."
      ]
    },
    {
      "cell_type": "markdown",
      "metadata": {
        "id": "bjQ2DkQl7m4p"
      },
      "source": [
        "# Частичное равновесие"
      ]
    },
    {
      "cell_type": "markdown",
      "metadata": {
        "id": "khcLh2Dk7m4p"
      },
      "source": [
        "В разделах выше были рассмотрены способы нахождения индивидуального спроса и индивидуального предложения на конкретном рынке. Для этого рынка можно найти равновесие --- ситуацию на рынке, в которой объем рыночного спроса ($q^d(p)$) равен объему рыночного предложения ($q^s(p)$), то есть $q^d(p) = q^s(p)$. Рыночный спрос получается суммированием индивидуальных спросов по количеству, аналогично для рыночно предложения."
      ]
    },
    {
      "cell_type": "markdown",
      "metadata": {
        "id": "MOmvENQU7m4p"
      },
      "source": [
        "# <font color=\"red\">Задание 15<font>"
      ]
    },
    {
      "cell_type": "markdown",
      "metadata": {
        "id": "hGsHlRxP7m4p"
      },
      "source": [
        "На рынке огруцов в Калужской области есть 100 производителей, у каждого из которых производственная функция имеет вид $f(y_2) = \\sqrt{y_2}$, где $y_2$ --- единственный ресурс, используемый в производстве, цена которого равна $0,5$.\n",
        "\n",
        "Также на этом рынке есть 100 потребителей, функции полезности каждого из которых имеют вид:\n",
        "\n",
        "$U(x_1, x_2)=\\ln x_1 + x_2$.\n",
        "\n",
        "Цены товаров $x_1$ --- огурцов, $x_2$ --- агрегированного блага (агрегированное благо вводится для упрощения анализа, обычно означает потребление других товоров в денежном выражении) равны $p_1=p, p_2=100$. Доход равен $m=1000$\n",
        "\n",
        "Других агентов на этом рынке нет. Найдите равновесие. Допишите функцию task_15"
      ]
    },
    {
      "cell_type": "code",
      "execution_count": null,
      "metadata": {
        "id": "8UmvWdPu7m4p"
      },
      "outputs": [],
      "source": [
        "n_manufacturers = 100\n",
        "w = 0.5\n",
        "n_consumers = 100\n",
        "g2 = Good(\"Агрегированое благо\", 100)\n",
        "m = 1000\n",
        "\n",
        "\n",
        "def task_15(g2: Good, m: float, w: float, n_consumers: int, n_manufacturers: int):\n",
        "    p2=g2.price\n",
        "    p1 = ((2*n_consumers*w) / n_manufacturers) **0.5\n",
        "    q_man = p1 / (2*w)\n",
        "    q_cons = p2/p1\n",
        "    q_total = n_manufacturers * p1/(2*w)\n",
        "\n",
        "    return p1, q_one_man, q_one_cons, q_total\n",
        "\n",
        "\n",
        "p1, q_one_man, q_one_cons, q_total = task_15(g2, m, w, n_consumers, n_manufacturers)\n",
        "print(p1, q_one_man, q_one_cons, q_total)"
      ]
    }
  ],
  "metadata": {
    "kernelspec": {
      "display_name": "Python 3",
      "language": "python",
      "name": "python3"
    },
    "language_info": {
      "codemirror_mode": {
        "name": "ipython",
        "version": 3
      },
      "file_extension": ".py",
      "mimetype": "text/x-python",
      "name": "python",
      "nbconvert_exporter": "python",
      "pygments_lexer": "ipython3",
      "version": "3.11.5"
    },
    "colab": {
      "provenance": []
    },
    "widgets": {
      "application/vnd.jupyter.widget-state+json": {
        "88f664edadd34569910a047e71802bcc": {
          "model_module": "@jupyter-widgets/controls",
          "model_name": "VBoxModel",
          "model_module_version": "1.5.0",
          "state": {
            "_dom_classes": [
              "widget-interact"
            ],
            "_model_module": "@jupyter-widgets/controls",
            "_model_module_version": "1.5.0",
            "_model_name": "VBoxModel",
            "_view_count": null,
            "_view_module": "@jupyter-widgets/controls",
            "_view_module_version": "1.5.0",
            "_view_name": "VBoxView",
            "box_style": "",
            "children": [
              "IPY_MODEL_88b91984103c43919e290764f86115ff",
              "IPY_MODEL_32d9981c017d41ca849b9d2021a2ab4f",
              "IPY_MODEL_3c71640877dc4e9eb1e69fbd47479aaf",
              "IPY_MODEL_90613a728af941fda9ddcf26f7369791",
              "IPY_MODEL_f34248c6e7684fa49aaeccd2c9953b4d",
              "IPY_MODEL_0b9fd2b12f9847de9d0adcdeae82e299"
            ],
            "layout": "IPY_MODEL_5d0674f8bff847de90a0928ecedfcf01"
          }
        },
        "88b91984103c43919e290764f86115ff": {
          "model_module": "@jupyter-widgets/controls",
          "model_name": "IntSliderModel",
          "model_module_version": "1.5.0",
          "state": {
            "_dom_classes": [],
            "_model_module": "@jupyter-widgets/controls",
            "_model_module_version": "1.5.0",
            "_model_name": "IntSliderModel",
            "_view_count": null,
            "_view_module": "@jupyter-widgets/controls",
            "_view_module_version": "1.5.0",
            "_view_name": "IntSliderView",
            "continuous_update": true,
            "description": "p1",
            "description_tooltip": null,
            "disabled": false,
            "layout": "IPY_MODEL_fe26d9af64b74508ac4dbce9f5f59493",
            "max": 10,
            "min": 1,
            "orientation": "horizontal",
            "readout": true,
            "readout_format": "d",
            "step": 1,
            "style": "IPY_MODEL_b43ffab0f21645bc9c1fea1c5b3c493d",
            "value": 5
          }
        },
        "32d9981c017d41ca849b9d2021a2ab4f": {
          "model_module": "@jupyter-widgets/controls",
          "model_name": "IntSliderModel",
          "model_module_version": "1.5.0",
          "state": {
            "_dom_classes": [],
            "_model_module": "@jupyter-widgets/controls",
            "_model_module_version": "1.5.0",
            "_model_name": "IntSliderModel",
            "_view_count": null,
            "_view_module": "@jupyter-widgets/controls",
            "_view_module_version": "1.5.0",
            "_view_name": "IntSliderView",
            "continuous_update": true,
            "description": "p2",
            "description_tooltip": null,
            "disabled": false,
            "layout": "IPY_MODEL_0926f3e5917d4ed9960fc03db1811e11",
            "max": 10,
            "min": 1,
            "orientation": "horizontal",
            "readout": true,
            "readout_format": "d",
            "step": 1,
            "style": "IPY_MODEL_d25d84503a224e8bb558fdaa857cf226",
            "value": 5
          }
        },
        "3c71640877dc4e9eb1e69fbd47479aaf": {
          "model_module": "@jupyter-widgets/controls",
          "model_name": "IntSliderModel",
          "model_module_version": "1.5.0",
          "state": {
            "_dom_classes": [],
            "_model_module": "@jupyter-widgets/controls",
            "_model_module_version": "1.5.0",
            "_model_name": "IntSliderModel",
            "_view_count": null,
            "_view_module": "@jupyter-widgets/controls",
            "_view_module_version": "1.5.0",
            "_view_name": "IntSliderView",
            "continuous_update": true,
            "description": "budget",
            "description_tooltip": null,
            "disabled": false,
            "layout": "IPY_MODEL_86301c88e9004020b0fcbb35ab3c90a6",
            "max": 100,
            "min": 1,
            "orientation": "horizontal",
            "readout": true,
            "readout_format": "d",
            "step": 1,
            "style": "IPY_MODEL_2a2565f154fd416cb4f18b82852e55c1",
            "value": 50
          }
        },
        "90613a728af941fda9ddcf26f7369791": {
          "model_module": "@jupyter-widgets/controls",
          "model_name": "IntSliderModel",
          "model_module_version": "1.5.0",
          "state": {
            "_dom_classes": [],
            "_model_module": "@jupyter-widgets/controls",
            "_model_module_version": "1.5.0",
            "_model_name": "IntSliderModel",
            "_view_count": null,
            "_view_module": "@jupyter-widgets/controls",
            "_view_module_version": "1.5.0",
            "_view_name": "IntSliderView",
            "continuous_update": true,
            "description": "x1",
            "description_tooltip": null,
            "disabled": false,
            "layout": "IPY_MODEL_1b9969c5efea4a95a55a006f70ad8423",
            "max": 10,
            "min": 1,
            "orientation": "horizontal",
            "readout": true,
            "readout_format": "d",
            "step": 1,
            "style": "IPY_MODEL_2cffd0f87b9949539314299c592857fd",
            "value": 5
          }
        },
        "f34248c6e7684fa49aaeccd2c9953b4d": {
          "model_module": "@jupyter-widgets/controls",
          "model_name": "IntSliderModel",
          "model_module_version": "1.5.0",
          "state": {
            "_dom_classes": [],
            "_model_module": "@jupyter-widgets/controls",
            "_model_module_version": "1.5.0",
            "_model_name": "IntSliderModel",
            "_view_count": null,
            "_view_module": "@jupyter-widgets/controls",
            "_view_module_version": "1.5.0",
            "_view_name": "IntSliderView",
            "continuous_update": true,
            "description": "x2",
            "description_tooltip": null,
            "disabled": false,
            "layout": "IPY_MODEL_8a02e41a94f4493d8225136dda586bea",
            "max": 10,
            "min": 1,
            "orientation": "horizontal",
            "readout": true,
            "readout_format": "d",
            "step": 1,
            "style": "IPY_MODEL_7d2c943213be4e1aa1292c13a059201c",
            "value": 5
          }
        },
        "0b9fd2b12f9847de9d0adcdeae82e299": {
          "model_module": "@jupyter-widgets/output",
          "model_name": "OutputModel",
          "model_module_version": "1.0.0",
          "state": {
            "_dom_classes": [],
            "_model_module": "@jupyter-widgets/output",
            "_model_module_version": "1.0.0",
            "_model_name": "OutputModel",
            "_view_count": null,
            "_view_module": "@jupyter-widgets/output",
            "_view_module_version": "1.0.0",
            "_view_name": "OutputView",
            "layout": "IPY_MODEL_5c69450166074c4681d90770a1441bbc",
            "msg_id": "",
            "outputs": [
              {
                "output_type": "display_data",
                "data": {
                  "text/plain": "<Figure size 640x480 with 1 Axes>",
                  "image/png": "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\n"
                },
                "metadata": {}
              }
            ]
          }
        },
        "5d0674f8bff847de90a0928ecedfcf01": {
          "model_module": "@jupyter-widgets/base",
          "model_name": "LayoutModel",
          "model_module_version": "1.2.0",
          "state": {
            "_model_module": "@jupyter-widgets/base",
            "_model_module_version": "1.2.0",
            "_model_name": "LayoutModel",
            "_view_count": null,
            "_view_module": "@jupyter-widgets/base",
            "_view_module_version": "1.2.0",
            "_view_name": "LayoutView",
            "align_content": null,
            "align_items": null,
            "align_self": null,
            "border": null,
            "bottom": null,
            "display": null,
            "flex": null,
            "flex_flow": null,
            "grid_area": null,
            "grid_auto_columns": null,
            "grid_auto_flow": null,
            "grid_auto_rows": null,
            "grid_column": null,
            "grid_gap": null,
            "grid_row": null,
            "grid_template_areas": null,
            "grid_template_columns": null,
            "grid_template_rows": null,
            "height": null,
            "justify_content": null,
            "justify_items": null,
            "left": null,
            "margin": null,
            "max_height": null,
            "max_width": null,
            "min_height": null,
            "min_width": null,
            "object_fit": null,
            "object_position": null,
            "order": null,
            "overflow": null,
            "overflow_x": null,
            "overflow_y": null,
            "padding": null,
            "right": null,
            "top": null,
            "visibility": null,
            "width": null
          }
        },
        "fe26d9af64b74508ac4dbce9f5f59493": {
          "model_module": "@jupyter-widgets/base",
          "model_name": "LayoutModel",
          "model_module_version": "1.2.0",
          "state": {
            "_model_module": "@jupyter-widgets/base",
            "_model_module_version": "1.2.0",
            "_model_name": "LayoutModel",
            "_view_count": null,
            "_view_module": "@jupyter-widgets/base",
            "_view_module_version": "1.2.0",
            "_view_name": "LayoutView",
            "align_content": null,
            "align_items": null,
            "align_self": null,
            "border": null,
            "bottom": null,
            "display": null,
            "flex": null,
            "flex_flow": null,
            "grid_area": null,
            "grid_auto_columns": null,
            "grid_auto_flow": null,
            "grid_auto_rows": null,
            "grid_column": null,
            "grid_gap": null,
            "grid_row": null,
            "grid_template_areas": null,
            "grid_template_columns": null,
            "grid_template_rows": null,
            "height": null,
            "justify_content": null,
            "justify_items": null,
            "left": null,
            "margin": null,
            "max_height": null,
            "max_width": null,
            "min_height": null,
            "min_width": null,
            "object_fit": null,
            "object_position": null,
            "order": null,
            "overflow": null,
            "overflow_x": null,
            "overflow_y": null,
            "padding": null,
            "right": null,
            "top": null,
            "visibility": null,
            "width": null
          }
        },
        "b43ffab0f21645bc9c1fea1c5b3c493d": {
          "model_module": "@jupyter-widgets/controls",
          "model_name": "SliderStyleModel",
          "model_module_version": "1.5.0",
          "state": {
            "_model_module": "@jupyter-widgets/controls",
            "_model_module_version": "1.5.0",
            "_model_name": "SliderStyleModel",
            "_view_count": null,
            "_view_module": "@jupyter-widgets/base",
            "_view_module_version": "1.2.0",
            "_view_name": "StyleView",
            "description_width": "",
            "handle_color": null
          }
        },
        "0926f3e5917d4ed9960fc03db1811e11": {
          "model_module": "@jupyter-widgets/base",
          "model_name": "LayoutModel",
          "model_module_version": "1.2.0",
          "state": {
            "_model_module": "@jupyter-widgets/base",
            "_model_module_version": "1.2.0",
            "_model_name": "LayoutModel",
            "_view_count": null,
            "_view_module": "@jupyter-widgets/base",
            "_view_module_version": "1.2.0",
            "_view_name": "LayoutView",
            "align_content": null,
            "align_items": null,
            "align_self": null,
            "border": null,
            "bottom": null,
            "display": null,
            "flex": null,
            "flex_flow": null,
            "grid_area": null,
            "grid_auto_columns": null,
            "grid_auto_flow": null,
            "grid_auto_rows": null,
            "grid_column": null,
            "grid_gap": null,
            "grid_row": null,
            "grid_template_areas": null,
            "grid_template_columns": null,
            "grid_template_rows": null,
            "height": null,
            "justify_content": null,
            "justify_items": null,
            "left": null,
            "margin": null,
            "max_height": null,
            "max_width": null,
            "min_height": null,
            "min_width": null,
            "object_fit": null,
            "object_position": null,
            "order": null,
            "overflow": null,
            "overflow_x": null,
            "overflow_y": null,
            "padding": null,
            "right": null,
            "top": null,
            "visibility": null,
            "width": null
          }
        },
        "d25d84503a224e8bb558fdaa857cf226": {
          "model_module": "@jupyter-widgets/controls",
          "model_name": "SliderStyleModel",
          "model_module_version": "1.5.0",
          "state": {
            "_model_module": "@jupyter-widgets/controls",
            "_model_module_version": "1.5.0",
            "_model_name": "SliderStyleModel",
            "_view_count": null,
            "_view_module": "@jupyter-widgets/base",
            "_view_module_version": "1.2.0",
            "_view_name": "StyleView",
            "description_width": "",
            "handle_color": null
          }
        },
        "86301c88e9004020b0fcbb35ab3c90a6": {
          "model_module": "@jupyter-widgets/base",
          "model_name": "LayoutModel",
          "model_module_version": "1.2.0",
          "state": {
            "_model_module": "@jupyter-widgets/base",
            "_model_module_version": "1.2.0",
            "_model_name": "LayoutModel",
            "_view_count": null,
            "_view_module": "@jupyter-widgets/base",
            "_view_module_version": "1.2.0",
            "_view_name": "LayoutView",
            "align_content": null,
            "align_items": null,
            "align_self": null,
            "border": null,
            "bottom": null,
            "display": null,
            "flex": null,
            "flex_flow": null,
            "grid_area": null,
            "grid_auto_columns": null,
            "grid_auto_flow": null,
            "grid_auto_rows": null,
            "grid_column": null,
            "grid_gap": null,
            "grid_row": null,
            "grid_template_areas": null,
            "grid_template_columns": null,
            "grid_template_rows": null,
            "height": null,
            "justify_content": null,
            "justify_items": null,
            "left": null,
            "margin": null,
            "max_height": null,
            "max_width": null,
            "min_height": null,
            "min_width": null,
            "object_fit": null,
            "object_position": null,
            "order": null,
            "overflow": null,
            "overflow_x": null,
            "overflow_y": null,
            "padding": null,
            "right": null,
            "top": null,
            "visibility": null,
            "width": null
          }
        },
        "2a2565f154fd416cb4f18b82852e55c1": {
          "model_module": "@jupyter-widgets/controls",
          "model_name": "SliderStyleModel",
          "model_module_version": "1.5.0",
          "state": {
            "_model_module": "@jupyter-widgets/controls",
            "_model_module_version": "1.5.0",
            "_model_name": "SliderStyleModel",
            "_view_count": null,
            "_view_module": "@jupyter-widgets/base",
            "_view_module_version": "1.2.0",
            "_view_name": "StyleView",
            "description_width": "",
            "handle_color": null
          }
        },
        "1b9969c5efea4a95a55a006f70ad8423": {
          "model_module": "@jupyter-widgets/base",
          "model_name": "LayoutModel",
          "model_module_version": "1.2.0",
          "state": {
            "_model_module": "@jupyter-widgets/base",
            "_model_module_version": "1.2.0",
            "_model_name": "LayoutModel",
            "_view_count": null,
            "_view_module": "@jupyter-widgets/base",
            "_view_module_version": "1.2.0",
            "_view_name": "LayoutView",
            "align_content": null,
            "align_items": null,
            "align_self": null,
            "border": null,
            "bottom": null,
            "display": null,
            "flex": null,
            "flex_flow": null,
            "grid_area": null,
            "grid_auto_columns": null,
            "grid_auto_flow": null,
            "grid_auto_rows": null,
            "grid_column": null,
            "grid_gap": null,
            "grid_row": null,
            "grid_template_areas": null,
            "grid_template_columns": null,
            "grid_template_rows": null,
            "height": null,
            "justify_content": null,
            "justify_items": null,
            "left": null,
            "margin": null,
            "max_height": null,
            "max_width": null,
            "min_height": null,
            "min_width": null,
            "object_fit": null,
            "object_position": null,
            "order": null,
            "overflow": null,
            "overflow_x": null,
            "overflow_y": null,
            "padding": null,
            "right": null,
            "top": null,
            "visibility": null,
            "width": null
          }
        },
        "2cffd0f87b9949539314299c592857fd": {
          "model_module": "@jupyter-widgets/controls",
          "model_name": "SliderStyleModel",
          "model_module_version": "1.5.0",
          "state": {
            "_model_module": "@jupyter-widgets/controls",
            "_model_module_version": "1.5.0",
            "_model_name": "SliderStyleModel",
            "_view_count": null,
            "_view_module": "@jupyter-widgets/base",
            "_view_module_version": "1.2.0",
            "_view_name": "StyleView",
            "description_width": "",
            "handle_color": null
          }
        },
        "8a02e41a94f4493d8225136dda586bea": {
          "model_module": "@jupyter-widgets/base",
          "model_name": "LayoutModel",
          "model_module_version": "1.2.0",
          "state": {
            "_model_module": "@jupyter-widgets/base",
            "_model_module_version": "1.2.0",
            "_model_name": "LayoutModel",
            "_view_count": null,
            "_view_module": "@jupyter-widgets/base",
            "_view_module_version": "1.2.0",
            "_view_name": "LayoutView",
            "align_content": null,
            "align_items": null,
            "align_self": null,
            "border": null,
            "bottom": null,
            "display": null,
            "flex": null,
            "flex_flow": null,
            "grid_area": null,
            "grid_auto_columns": null,
            "grid_auto_flow": null,
            "grid_auto_rows": null,
            "grid_column": null,
            "grid_gap": null,
            "grid_row": null,
            "grid_template_areas": null,
            "grid_template_columns": null,
            "grid_template_rows": null,
            "height": null,
            "justify_content": null,
            "justify_items": null,
            "left": null,
            "margin": null,
            "max_height": null,
            "max_width": null,
            "min_height": null,
            "min_width": null,
            "object_fit": null,
            "object_position": null,
            "order": null,
            "overflow": null,
            "overflow_x": null,
            "overflow_y": null,
            "padding": null,
            "right": null,
            "top": null,
            "visibility": null,
            "width": null
          }
        },
        "7d2c943213be4e1aa1292c13a059201c": {
          "model_module": "@jupyter-widgets/controls",
          "model_name": "SliderStyleModel",
          "model_module_version": "1.5.0",
          "state": {
            "_model_module": "@jupyter-widgets/controls",
            "_model_module_version": "1.5.0",
            "_model_name": "SliderStyleModel",
            "_view_count": null,
            "_view_module": "@jupyter-widgets/base",
            "_view_module_version": "1.2.0",
            "_view_name": "StyleView",
            "description_width": "",
            "handle_color": null
          }
        },
        "5c69450166074c4681d90770a1441bbc": {
          "model_module": "@jupyter-widgets/base",
          "model_name": "LayoutModel",
          "model_module_version": "1.2.0",
          "state": {
            "_model_module": "@jupyter-widgets/base",
            "_model_module_version": "1.2.0",
            "_model_name": "LayoutModel",
            "_view_count": null,
            "_view_module": "@jupyter-widgets/base",
            "_view_module_version": "1.2.0",
            "_view_name": "LayoutView",
            "align_content": null,
            "align_items": null,
            "align_self": null,
            "border": null,
            "bottom": null,
            "display": null,
            "flex": null,
            "flex_flow": null,
            "grid_area": null,
            "grid_auto_columns": null,
            "grid_auto_flow": null,
            "grid_auto_rows": null,
            "grid_column": null,
            "grid_gap": null,
            "grid_row": null,
            "grid_template_areas": null,
            "grid_template_columns": null,
            "grid_template_rows": null,
            "height": null,
            "justify_content": null,
            "justify_items": null,
            "left": null,
            "margin": null,
            "max_height": null,
            "max_width": null,
            "min_height": null,
            "min_width": null,
            "object_fit": null,
            "object_position": null,
            "order": null,
            "overflow": null,
            "overflow_x": null,
            "overflow_y": null,
            "padding": null,
            "right": null,
            "top": null,
            "visibility": null,
            "width": null
          }
        },
        "f4cdc8dc8f474698bff0378410be2457": {
          "model_module": "@jupyter-widgets/controls",
          "model_name": "VBoxModel",
          "model_module_version": "1.5.0",
          "state": {
            "_dom_classes": [
              "widget-interact"
            ],
            "_model_module": "@jupyter-widgets/controls",
            "_model_module_version": "1.5.0",
            "_model_name": "VBoxModel",
            "_view_count": null,
            "_view_module": "@jupyter-widgets/controls",
            "_view_module_version": "1.5.0",
            "_view_name": "VBoxView",
            "box_style": "",
            "children": [
              "IPY_MODEL_b3bfdf469e7f449288313c42d5134bcc",
              "IPY_MODEL_7f8a4704332b4c939c98165288d4ee64",
              "IPY_MODEL_941e6b8585fe4d0cadb0e45af8c9cb24",
              "IPY_MODEL_d176219fe6204235bdf211e8fd23c368",
              "IPY_MODEL_4917fa1b28a04f07a172314c413ddabe",
              "IPY_MODEL_a6318709a8b24e31a3b91d3ad27c094e",
              "IPY_MODEL_c83fd9e0e19e4c298b25d56b9ea241f8",
              "IPY_MODEL_3235a861da7e47c387657e38f4e44730",
              "IPY_MODEL_2149961abc9c4da5be5010e76ed2d68b"
            ],
            "layout": "IPY_MODEL_5332948adeea453d9343eaf14bb73009"
          }
        },
        "b3bfdf469e7f449288313c42d5134bcc": {
          "model_module": "@jupyter-widgets/controls",
          "model_name": "IntSliderModel",
          "model_module_version": "1.5.0",
          "state": {
            "_dom_classes": [],
            "_model_module": "@jupyter-widgets/controls",
            "_model_module_version": "1.5.0",
            "_model_name": "IntSliderModel",
            "_view_count": null,
            "_view_module": "@jupyter-widgets/controls",
            "_view_module_version": "1.5.0",
            "_view_name": "IntSliderView",
            "continuous_update": true,
            "description": "p11",
            "description_tooltip": null,
            "disabled": false,
            "layout": "IPY_MODEL_dd5edb8fd8cf4c998abffde949c3636d",
            "max": 10,
            "min": 1,
            "orientation": "horizontal",
            "readout": true,
            "readout_format": "d",
            "step": 1,
            "style": "IPY_MODEL_fe6bfd90897e40bca1557c64a003c606",
            "value": 5
          }
        },
        "7f8a4704332b4c939c98165288d4ee64": {
          "model_module": "@jupyter-widgets/controls",
          "model_name": "IntSliderModel",
          "model_module_version": "1.5.0",
          "state": {
            "_dom_classes": [],
            "_model_module": "@jupyter-widgets/controls",
            "_model_module_version": "1.5.0",
            "_model_name": "IntSliderModel",
            "_view_count": null,
            "_view_module": "@jupyter-widgets/controls",
            "_view_module_version": "1.5.0",
            "_view_name": "IntSliderView",
            "continuous_update": true,
            "description": "p12",
            "description_tooltip": null,
            "disabled": false,
            "layout": "IPY_MODEL_b4f4c4853b89486cba2345279b7f02ab",
            "max": 10,
            "min": 1,
            "orientation": "horizontal",
            "readout": true,
            "readout_format": "d",
            "step": 1,
            "style": "IPY_MODEL_62c6da7d60e045b08cd4fd2f962ab537",
            "value": 5
          }
        },
        "941e6b8585fe4d0cadb0e45af8c9cb24": {
          "model_module": "@jupyter-widgets/controls",
          "model_name": "IntSliderModel",
          "model_module_version": "1.5.0",
          "state": {
            "_dom_classes": [],
            "_model_module": "@jupyter-widgets/controls",
            "_model_module_version": "1.5.0",
            "_model_name": "IntSliderModel",
            "_view_count": null,
            "_view_module": "@jupyter-widgets/controls",
            "_view_module_version": "1.5.0",
            "_view_name": "IntSliderView",
            "continuous_update": true,
            "description": "p21",
            "description_tooltip": null,
            "disabled": false,
            "layout": "IPY_MODEL_30c798301a8b4a7fbf1eeb22a6efad04",
            "max": 10,
            "min": 1,
            "orientation": "horizontal",
            "readout": true,
            "readout_format": "d",
            "step": 1,
            "style": "IPY_MODEL_2c2ec6fcc48d4ebb885e16b20c17905e",
            "value": 5
          }
        },
        "d176219fe6204235bdf211e8fd23c368": {
          "model_module": "@jupyter-widgets/controls",
          "model_name": "IntSliderModel",
          "model_module_version": "1.5.0",
          "state": {
            "_dom_classes": [],
            "_model_module": "@jupyter-widgets/controls",
            "_model_module_version": "1.5.0",
            "_model_name": "IntSliderModel",
            "_view_count": null,
            "_view_module": "@jupyter-widgets/controls",
            "_view_module_version": "1.5.0",
            "_view_name": "IntSliderView",
            "continuous_update": true,
            "description": "p22",
            "description_tooltip": null,
            "disabled": false,
            "layout": "IPY_MODEL_a53795adbbac41429d78e3e9fe1c6b7c",
            "max": 10,
            "min": 1,
            "orientation": "horizontal",
            "readout": true,
            "readout_format": "d",
            "step": 1,
            "style": "IPY_MODEL_5e337a2790344fbda745160f5e63fe73",
            "value": 5
          }
        },
        "4917fa1b28a04f07a172314c413ddabe": {
          "model_module": "@jupyter-widgets/controls",
          "model_name": "IntSliderModel",
          "model_module_version": "1.5.0",
          "state": {
            "_dom_classes": [],
            "_model_module": "@jupyter-widgets/controls",
            "_model_module_version": "1.5.0",
            "_model_name": "IntSliderModel",
            "_view_count": null,
            "_view_module": "@jupyter-widgets/controls",
            "_view_module_version": "1.5.0",
            "_view_name": "IntSliderView",
            "continuous_update": true,
            "description": "budget1",
            "description_tooltip": null,
            "disabled": false,
            "layout": "IPY_MODEL_4df25c840f5843d9acaa36b6528ffe4b",
            "max": 100,
            "min": 1,
            "orientation": "horizontal",
            "readout": true,
            "readout_format": "d",
            "step": 1,
            "style": "IPY_MODEL_908250a48afc44d8bee4ee8df2dd9785",
            "value": 50
          }
        },
        "a6318709a8b24e31a3b91d3ad27c094e": {
          "model_module": "@jupyter-widgets/controls",
          "model_name": "IntSliderModel",
          "model_module_version": "1.5.0",
          "state": {
            "_dom_classes": [],
            "_model_module": "@jupyter-widgets/controls",
            "_model_module_version": "1.5.0",
            "_model_name": "IntSliderModel",
            "_view_count": null,
            "_view_module": "@jupyter-widgets/controls",
            "_view_module_version": "1.5.0",
            "_view_name": "IntSliderView",
            "continuous_update": true,
            "description": "budget2",
            "description_tooltip": null,
            "disabled": false,
            "layout": "IPY_MODEL_420363a6f3d64a5d9809194aab71d92f",
            "max": 100,
            "min": 1,
            "orientation": "horizontal",
            "readout": true,
            "readout_format": "d",
            "step": 1,
            "style": "IPY_MODEL_2f82e367bd384bdc8ce1a2dd62dd9710",
            "value": 50
          }
        },
        "c83fd9e0e19e4c298b25d56b9ea241f8": {
          "model_module": "@jupyter-widgets/controls",
          "model_name": "IntSliderModel",
          "model_module_version": "1.5.0",
          "state": {
            "_dom_classes": [],
            "_model_module": "@jupyter-widgets/controls",
            "_model_module_version": "1.5.0",
            "_model_name": "IntSliderModel",
            "_view_count": null,
            "_view_module": "@jupyter-widgets/controls",
            "_view_module_version": "1.5.0",
            "_view_name": "IntSliderView",
            "continuous_update": true,
            "description": "x1",
            "description_tooltip": null,
            "disabled": false,
            "layout": "IPY_MODEL_4bb5b65941704a8ba4aa28e722f01048",
            "max": 10,
            "min": 1,
            "orientation": "horizontal",
            "readout": true,
            "readout_format": "d",
            "step": 1,
            "style": "IPY_MODEL_ffb8d5d84b714c9c9618b5e21622f9c6",
            "value": 5
          }
        },
        "3235a861da7e47c387657e38f4e44730": {
          "model_module": "@jupyter-widgets/controls",
          "model_name": "IntSliderModel",
          "model_module_version": "1.5.0",
          "state": {
            "_dom_classes": [],
            "_model_module": "@jupyter-widgets/controls",
            "_model_module_version": "1.5.0",
            "_model_name": "IntSliderModel",
            "_view_count": null,
            "_view_module": "@jupyter-widgets/controls",
            "_view_module_version": "1.5.0",
            "_view_name": "IntSliderView",
            "continuous_update": true,
            "description": "x2",
            "description_tooltip": null,
            "disabled": false,
            "layout": "IPY_MODEL_73222eed2bfb4c13ad80116ad7b76859",
            "max": 10,
            "min": 1,
            "orientation": "horizontal",
            "readout": true,
            "readout_format": "d",
            "step": 1,
            "style": "IPY_MODEL_3ce8d79358b54278996b3f5b091e272f",
            "value": 5
          }
        },
        "2149961abc9c4da5be5010e76ed2d68b": {
          "model_module": "@jupyter-widgets/output",
          "model_name": "OutputModel",
          "model_module_version": "1.0.0",
          "state": {
            "_dom_classes": [],
            "_model_module": "@jupyter-widgets/output",
            "_model_module_version": "1.0.0",
            "_model_name": "OutputModel",
            "_view_count": null,
            "_view_module": "@jupyter-widgets/output",
            "_view_module_version": "1.0.0",
            "_view_name": "OutputView",
            "layout": "IPY_MODEL_3c3b75ae55f74359bf4e47ba628e47c9",
            "msg_id": "",
            "outputs": [
              {
                "output_type": "display_data",
                "data": {
                  "text/plain": "<Figure size 640x480 with 1 Axes>",
                  "image/png": "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\n"
                },
                "metadata": {}
              }
            ]
          }
        },
        "5332948adeea453d9343eaf14bb73009": {
          "model_module": "@jupyter-widgets/base",
          "model_name": "LayoutModel",
          "model_module_version": "1.2.0",
          "state": {
            "_model_module": "@jupyter-widgets/base",
            "_model_module_version": "1.2.0",
            "_model_name": "LayoutModel",
            "_view_count": null,
            "_view_module": "@jupyter-widgets/base",
            "_view_module_version": "1.2.0",
            "_view_name": "LayoutView",
            "align_content": null,
            "align_items": null,
            "align_self": null,
            "border": null,
            "bottom": null,
            "display": null,
            "flex": null,
            "flex_flow": null,
            "grid_area": null,
            "grid_auto_columns": null,
            "grid_auto_flow": null,
            "grid_auto_rows": null,
            "grid_column": null,
            "grid_gap": null,
            "grid_row": null,
            "grid_template_areas": null,
            "grid_template_columns": null,
            "grid_template_rows": null,
            "height": null,
            "justify_content": null,
            "justify_items": null,
            "left": null,
            "margin": null,
            "max_height": null,
            "max_width": null,
            "min_height": null,
            "min_width": null,
            "object_fit": null,
            "object_position": null,
            "order": null,
            "overflow": null,
            "overflow_x": null,
            "overflow_y": null,
            "padding": null,
            "right": null,
            "top": null,
            "visibility": null,
            "width": null
          }
        },
        "dd5edb8fd8cf4c998abffde949c3636d": {
          "model_module": "@jupyter-widgets/base",
          "model_name": "LayoutModel",
          "model_module_version": "1.2.0",
          "state": {
            "_model_module": "@jupyter-widgets/base",
            "_model_module_version": "1.2.0",
            "_model_name": "LayoutModel",
            "_view_count": null,
            "_view_module": "@jupyter-widgets/base",
            "_view_module_version": "1.2.0",
            "_view_name": "LayoutView",
            "align_content": null,
            "align_items": null,
            "align_self": null,
            "border": null,
            "bottom": null,
            "display": null,
            "flex": null,
            "flex_flow": null,
            "grid_area": null,
            "grid_auto_columns": null,
            "grid_auto_flow": null,
            "grid_auto_rows": null,
            "grid_column": null,
            "grid_gap": null,
            "grid_row": null,
            "grid_template_areas": null,
            "grid_template_columns": null,
            "grid_template_rows": null,
            "height": null,
            "justify_content": null,
            "justify_items": null,
            "left": null,
            "margin": null,
            "max_height": null,
            "max_width": null,
            "min_height": null,
            "min_width": null,
            "object_fit": null,
            "object_position": null,
            "order": null,
            "overflow": null,
            "overflow_x": null,
            "overflow_y": null,
            "padding": null,
            "right": null,
            "top": null,
            "visibility": null,
            "width": null
          }
        },
        "fe6bfd90897e40bca1557c64a003c606": {
          "model_module": "@jupyter-widgets/controls",
          "model_name": "SliderStyleModel",
          "model_module_version": "1.5.0",
          "state": {
            "_model_module": "@jupyter-widgets/controls",
            "_model_module_version": "1.5.0",
            "_model_name": "SliderStyleModel",
            "_view_count": null,
            "_view_module": "@jupyter-widgets/base",
            "_view_module_version": "1.2.0",
            "_view_name": "StyleView",
            "description_width": "",
            "handle_color": null
          }
        },
        "b4f4c4853b89486cba2345279b7f02ab": {
          "model_module": "@jupyter-widgets/base",
          "model_name": "LayoutModel",
          "model_module_version": "1.2.0",
          "state": {
            "_model_module": "@jupyter-widgets/base",
            "_model_module_version": "1.2.0",
            "_model_name": "LayoutModel",
            "_view_count": null,
            "_view_module": "@jupyter-widgets/base",
            "_view_module_version": "1.2.0",
            "_view_name": "LayoutView",
            "align_content": null,
            "align_items": null,
            "align_self": null,
            "border": null,
            "bottom": null,
            "display": null,
            "flex": null,
            "flex_flow": null,
            "grid_area": null,
            "grid_auto_columns": null,
            "grid_auto_flow": null,
            "grid_auto_rows": null,
            "grid_column": null,
            "grid_gap": null,
            "grid_row": null,
            "grid_template_areas": null,
            "grid_template_columns": null,
            "grid_template_rows": null,
            "height": null,
            "justify_content": null,
            "justify_items": null,
            "left": null,
            "margin": null,
            "max_height": null,
            "max_width": null,
            "min_height": null,
            "min_width": null,
            "object_fit": null,
            "object_position": null,
            "order": null,
            "overflow": null,
            "overflow_x": null,
            "overflow_y": null,
            "padding": null,
            "right": null,
            "top": null,
            "visibility": null,
            "width": null
          }
        },
        "62c6da7d60e045b08cd4fd2f962ab537": {
          "model_module": "@jupyter-widgets/controls",
          "model_name": "SliderStyleModel",
          "model_module_version": "1.5.0",
          "state": {
            "_model_module": "@jupyter-widgets/controls",
            "_model_module_version": "1.5.0",
            "_model_name": "SliderStyleModel",
            "_view_count": null,
            "_view_module": "@jupyter-widgets/base",
            "_view_module_version": "1.2.0",
            "_view_name": "StyleView",
            "description_width": "",
            "handle_color": null
          }
        },
        "30c798301a8b4a7fbf1eeb22a6efad04": {
          "model_module": "@jupyter-widgets/base",
          "model_name": "LayoutModel",
          "model_module_version": "1.2.0",
          "state": {
            "_model_module": "@jupyter-widgets/base",
            "_model_module_version": "1.2.0",
            "_model_name": "LayoutModel",
            "_view_count": null,
            "_view_module": "@jupyter-widgets/base",
            "_view_module_version": "1.2.0",
            "_view_name": "LayoutView",
            "align_content": null,
            "align_items": null,
            "align_self": null,
            "border": null,
            "bottom": null,
            "display": null,
            "flex": null,
            "flex_flow": null,
            "grid_area": null,
            "grid_auto_columns": null,
            "grid_auto_flow": null,
            "grid_auto_rows": null,
            "grid_column": null,
            "grid_gap": null,
            "grid_row": null,
            "grid_template_areas": null,
            "grid_template_columns": null,
            "grid_template_rows": null,
            "height": null,
            "justify_content": null,
            "justify_items": null,
            "left": null,
            "margin": null,
            "max_height": null,
            "max_width": null,
            "min_height": null,
            "min_width": null,
            "object_fit": null,
            "object_position": null,
            "order": null,
            "overflow": null,
            "overflow_x": null,
            "overflow_y": null,
            "padding": null,
            "right": null,
            "top": null,
            "visibility": null,
            "width": null
          }
        },
        "2c2ec6fcc48d4ebb885e16b20c17905e": {
          "model_module": "@jupyter-widgets/controls",
          "model_name": "SliderStyleModel",
          "model_module_version": "1.5.0",
          "state": {
            "_model_module": "@jupyter-widgets/controls",
            "_model_module_version": "1.5.0",
            "_model_name": "SliderStyleModel",
            "_view_count": null,
            "_view_module": "@jupyter-widgets/base",
            "_view_module_version": "1.2.0",
            "_view_name": "StyleView",
            "description_width": "",
            "handle_color": null
          }
        },
        "a53795adbbac41429d78e3e9fe1c6b7c": {
          "model_module": "@jupyter-widgets/base",
          "model_name": "LayoutModel",
          "model_module_version": "1.2.0",
          "state": {
            "_model_module": "@jupyter-widgets/base",
            "_model_module_version": "1.2.0",
            "_model_name": "LayoutModel",
            "_view_count": null,
            "_view_module": "@jupyter-widgets/base",
            "_view_module_version": "1.2.0",
            "_view_name": "LayoutView",
            "align_content": null,
            "align_items": null,
            "align_self": null,
            "border": null,
            "bottom": null,
            "display": null,
            "flex": null,
            "flex_flow": null,
            "grid_area": null,
            "grid_auto_columns": null,
            "grid_auto_flow": null,
            "grid_auto_rows": null,
            "grid_column": null,
            "grid_gap": null,
            "grid_row": null,
            "grid_template_areas": null,
            "grid_template_columns": null,
            "grid_template_rows": null,
            "height": null,
            "justify_content": null,
            "justify_items": null,
            "left": null,
            "margin": null,
            "max_height": null,
            "max_width": null,
            "min_height": null,
            "min_width": null,
            "object_fit": null,
            "object_position": null,
            "order": null,
            "overflow": null,
            "overflow_x": null,
            "overflow_y": null,
            "padding": null,
            "right": null,
            "top": null,
            "visibility": null,
            "width": null
          }
        },
        "5e337a2790344fbda745160f5e63fe73": {
          "model_module": "@jupyter-widgets/controls",
          "model_name": "SliderStyleModel",
          "model_module_version": "1.5.0",
          "state": {
            "_model_module": "@jupyter-widgets/controls",
            "_model_module_version": "1.5.0",
            "_model_name": "SliderStyleModel",
            "_view_count": null,
            "_view_module": "@jupyter-widgets/base",
            "_view_module_version": "1.2.0",
            "_view_name": "StyleView",
            "description_width": "",
            "handle_color": null
          }
        },
        "4df25c840f5843d9acaa36b6528ffe4b": {
          "model_module": "@jupyter-widgets/base",
          "model_name": "LayoutModel",
          "model_module_version": "1.2.0",
          "state": {
            "_model_module": "@jupyter-widgets/base",
            "_model_module_version": "1.2.0",
            "_model_name": "LayoutModel",
            "_view_count": null,
            "_view_module": "@jupyter-widgets/base",
            "_view_module_version": "1.2.0",
            "_view_name": "LayoutView",
            "align_content": null,
            "align_items": null,
            "align_self": null,
            "border": null,
            "bottom": null,
            "display": null,
            "flex": null,
            "flex_flow": null,
            "grid_area": null,
            "grid_auto_columns": null,
            "grid_auto_flow": null,
            "grid_auto_rows": null,
            "grid_column": null,
            "grid_gap": null,
            "grid_row": null,
            "grid_template_areas": null,
            "grid_template_columns": null,
            "grid_template_rows": null,
            "height": null,
            "justify_content": null,
            "justify_items": null,
            "left": null,
            "margin": null,
            "max_height": null,
            "max_width": null,
            "min_height": null,
            "min_width": null,
            "object_fit": null,
            "object_position": null,
            "order": null,
            "overflow": null,
            "overflow_x": null,
            "overflow_y": null,
            "padding": null,
            "right": null,
            "top": null,
            "visibility": null,
            "width": null
          }
        },
        "908250a48afc44d8bee4ee8df2dd9785": {
          "model_module": "@jupyter-widgets/controls",
          "model_name": "SliderStyleModel",
          "model_module_version": "1.5.0",
          "state": {
            "_model_module": "@jupyter-widgets/controls",
            "_model_module_version": "1.5.0",
            "_model_name": "SliderStyleModel",
            "_view_count": null,
            "_view_module": "@jupyter-widgets/base",
            "_view_module_version": "1.2.0",
            "_view_name": "StyleView",
            "description_width": "",
            "handle_color": null
          }
        },
        "420363a6f3d64a5d9809194aab71d92f": {
          "model_module": "@jupyter-widgets/base",
          "model_name": "LayoutModel",
          "model_module_version": "1.2.0",
          "state": {
            "_model_module": "@jupyter-widgets/base",
            "_model_module_version": "1.2.0",
            "_model_name": "LayoutModel",
            "_view_count": null,
            "_view_module": "@jupyter-widgets/base",
            "_view_module_version": "1.2.0",
            "_view_name": "LayoutView",
            "align_content": null,
            "align_items": null,
            "align_self": null,
            "border": null,
            "bottom": null,
            "display": null,
            "flex": null,
            "flex_flow": null,
            "grid_area": null,
            "grid_auto_columns": null,
            "grid_auto_flow": null,
            "grid_auto_rows": null,
            "grid_column": null,
            "grid_gap": null,
            "grid_row": null,
            "grid_template_areas": null,
            "grid_template_columns": null,
            "grid_template_rows": null,
            "height": null,
            "justify_content": null,
            "justify_items": null,
            "left": null,
            "margin": null,
            "max_height": null,
            "max_width": null,
            "min_height": null,
            "min_width": null,
            "object_fit": null,
            "object_position": null,
            "order": null,
            "overflow": null,
            "overflow_x": null,
            "overflow_y": null,
            "padding": null,
            "right": null,
            "top": null,
            "visibility": null,
            "width": null
          }
        },
        "2f82e367bd384bdc8ce1a2dd62dd9710": {
          "model_module": "@jupyter-widgets/controls",
          "model_name": "SliderStyleModel",
          "model_module_version": "1.5.0",
          "state": {
            "_model_module": "@jupyter-widgets/controls",
            "_model_module_version": "1.5.0",
            "_model_name": "SliderStyleModel",
            "_view_count": null,
            "_view_module": "@jupyter-widgets/base",
            "_view_module_version": "1.2.0",
            "_view_name": "StyleView",
            "description_width": "",
            "handle_color": null
          }
        },
        "4bb5b65941704a8ba4aa28e722f01048": {
          "model_module": "@jupyter-widgets/base",
          "model_name": "LayoutModel",
          "model_module_version": "1.2.0",
          "state": {
            "_model_module": "@jupyter-widgets/base",
            "_model_module_version": "1.2.0",
            "_model_name": "LayoutModel",
            "_view_count": null,
            "_view_module": "@jupyter-widgets/base",
            "_view_module_version": "1.2.0",
            "_view_name": "LayoutView",
            "align_content": null,
            "align_items": null,
            "align_self": null,
            "border": null,
            "bottom": null,
            "display": null,
            "flex": null,
            "flex_flow": null,
            "grid_area": null,
            "grid_auto_columns": null,
            "grid_auto_flow": null,
            "grid_auto_rows": null,
            "grid_column": null,
            "grid_gap": null,
            "grid_row": null,
            "grid_template_areas": null,
            "grid_template_columns": null,
            "grid_template_rows": null,
            "height": null,
            "justify_content": null,
            "justify_items": null,
            "left": null,
            "margin": null,
            "max_height": null,
            "max_width": null,
            "min_height": null,
            "min_width": null,
            "object_fit": null,
            "object_position": null,
            "order": null,
            "overflow": null,
            "overflow_x": null,
            "overflow_y": null,
            "padding": null,
            "right": null,
            "top": null,
            "visibility": null,
            "width": null
          }
        },
        "ffb8d5d84b714c9c9618b5e21622f9c6": {
          "model_module": "@jupyter-widgets/controls",
          "model_name": "SliderStyleModel",
          "model_module_version": "1.5.0",
          "state": {
            "_model_module": "@jupyter-widgets/controls",
            "_model_module_version": "1.5.0",
            "_model_name": "SliderStyleModel",
            "_view_count": null,
            "_view_module": "@jupyter-widgets/base",
            "_view_module_version": "1.2.0",
            "_view_name": "StyleView",
            "description_width": "",
            "handle_color": null
          }
        },
        "73222eed2bfb4c13ad80116ad7b76859": {
          "model_module": "@jupyter-widgets/base",
          "model_name": "LayoutModel",
          "model_module_version": "1.2.0",
          "state": {
            "_model_module": "@jupyter-widgets/base",
            "_model_module_version": "1.2.0",
            "_model_name": "LayoutModel",
            "_view_count": null,
            "_view_module": "@jupyter-widgets/base",
            "_view_module_version": "1.2.0",
            "_view_name": "LayoutView",
            "align_content": null,
            "align_items": null,
            "align_self": null,
            "border": null,
            "bottom": null,
            "display": null,
            "flex": null,
            "flex_flow": null,
            "grid_area": null,
            "grid_auto_columns": null,
            "grid_auto_flow": null,
            "grid_auto_rows": null,
            "grid_column": null,
            "grid_gap": null,
            "grid_row": null,
            "grid_template_areas": null,
            "grid_template_columns": null,
            "grid_template_rows": null,
            "height": null,
            "justify_content": null,
            "justify_items": null,
            "left": null,
            "margin": null,
            "max_height": null,
            "max_width": null,
            "min_height": null,
            "min_width": null,
            "object_fit": null,
            "object_position": null,
            "order": null,
            "overflow": null,
            "overflow_x": null,
            "overflow_y": null,
            "padding": null,
            "right": null,
            "top": null,
            "visibility": null,
            "width": null
          }
        },
        "3ce8d79358b54278996b3f5b091e272f": {
          "model_module": "@jupyter-widgets/controls",
          "model_name": "SliderStyleModel",
          "model_module_version": "1.5.0",
          "state": {
            "_model_module": "@jupyter-widgets/controls",
            "_model_module_version": "1.5.0",
            "_model_name": "SliderStyleModel",
            "_view_count": null,
            "_view_module": "@jupyter-widgets/base",
            "_view_module_version": "1.2.0",
            "_view_name": "StyleView",
            "description_width": "",
            "handle_color": null
          }
        },
        "3c3b75ae55f74359bf4e47ba628e47c9": {
          "model_module": "@jupyter-widgets/base",
          "model_name": "LayoutModel",
          "model_module_version": "1.2.0",
          "state": {
            "_model_module": "@jupyter-widgets/base",
            "_model_module_version": "1.2.0",
            "_model_name": "LayoutModel",
            "_view_count": null,
            "_view_module": "@jupyter-widgets/base",
            "_view_module_version": "1.2.0",
            "_view_name": "LayoutView",
            "align_content": null,
            "align_items": null,
            "align_self": null,
            "border": null,
            "bottom": null,
            "display": null,
            "flex": null,
            "flex_flow": null,
            "grid_area": null,
            "grid_auto_columns": null,
            "grid_auto_flow": null,
            "grid_auto_rows": null,
            "grid_column": null,
            "grid_gap": null,
            "grid_row": null,
            "grid_template_areas": null,
            "grid_template_columns": null,
            "grid_template_rows": null,
            "height": null,
            "justify_content": null,
            "justify_items": null,
            "left": null,
            "margin": null,
            "max_height": null,
            "max_width": null,
            "min_height": null,
            "min_width": null,
            "object_fit": null,
            "object_position": null,
            "order": null,
            "overflow": null,
            "overflow_x": null,
            "overflow_y": null,
            "padding": null,
            "right": null,
            "top": null,
            "visibility": null,
            "width": null
          }
        },
        "6d6f0d65305c41c6a32196a0b7e5ba56": {
          "model_module": "@jupyter-widgets/controls",
          "model_name": "VBoxModel",
          "model_module_version": "1.5.0",
          "state": {
            "_dom_classes": [
              "widget-interact"
            ],
            "_model_module": "@jupyter-widgets/controls",
            "_model_module_version": "1.5.0",
            "_model_name": "VBoxModel",
            "_view_count": null,
            "_view_module": "@jupyter-widgets/controls",
            "_view_module_version": "1.5.0",
            "_view_name": "VBoxView",
            "box_style": "",
            "children": [
              "IPY_MODEL_4efc9f7c26084182a31c89edbe70b55e",
              "IPY_MODEL_75f93c2a2343428ca333ead0da5ed6e6",
              "IPY_MODEL_29eb2c291d354ef3b8b53451b9080bd3",
              "IPY_MODEL_d4a066518f42485f8ceaa2404b3078e2",
              "IPY_MODEL_0d43dbb02fdf499ba4e738155b6796b1",
              "IPY_MODEL_ae10a7818159480fb5ea2e9657506cb4",
              "IPY_MODEL_2815ddf1b98743e1b088e6145568f6ad",
              "IPY_MODEL_7e82f0d497fc4553b9ba75d1a82b5202",
              "IPY_MODEL_87cae22e569b49c292de2c68f8ba085c"
            ],
            "layout": "IPY_MODEL_a06d7f7c553646f7b1558ddfbf28f16b"
          }
        },
        "4efc9f7c26084182a31c89edbe70b55e": {
          "model_module": "@jupyter-widgets/controls",
          "model_name": "IntSliderModel",
          "model_module_version": "1.5.0",
          "state": {
            "_dom_classes": [],
            "_model_module": "@jupyter-widgets/controls",
            "_model_module_version": "1.5.0",
            "_model_name": "IntSliderModel",
            "_view_count": null,
            "_view_module": "@jupyter-widgets/controls",
            "_view_module_version": "1.5.0",
            "_view_name": "IntSliderView",
            "continuous_update": true,
            "description": "p1",
            "description_tooltip": null,
            "disabled": false,
            "layout": "IPY_MODEL_4cb498e60aac47f4a9b28856171dacd2",
            "max": 10,
            "min": 1,
            "orientation": "horizontal",
            "readout": true,
            "readout_format": "d",
            "step": 1,
            "style": "IPY_MODEL_34b84be178e348d49ceb2720e66b6a60",
            "value": 5
          }
        },
        "75f93c2a2343428ca333ead0da5ed6e6": {
          "model_module": "@jupyter-widgets/controls",
          "model_name": "IntSliderModel",
          "model_module_version": "1.5.0",
          "state": {
            "_dom_classes": [],
            "_model_module": "@jupyter-widgets/controls",
            "_model_module_version": "1.5.0",
            "_model_name": "IntSliderModel",
            "_view_count": null,
            "_view_module": "@jupyter-widgets/controls",
            "_view_module_version": "1.5.0",
            "_view_name": "IntSliderView",
            "continuous_update": true,
            "description": "p2",
            "description_tooltip": null,
            "disabled": false,
            "layout": "IPY_MODEL_0fd6a304b0844b92a3761068216d39d3",
            "max": 10,
            "min": 1,
            "orientation": "horizontal",
            "readout": true,
            "readout_format": "d",
            "step": 1,
            "style": "IPY_MODEL_c92cfe8cdfbf476781a70eff89f32c36",
            "value": 5
          }
        },
        "29eb2c291d354ef3b8b53451b9080bd3": {
          "model_module": "@jupyter-widgets/controls",
          "model_name": "IntSliderModel",
          "model_module_version": "1.5.0",
          "state": {
            "_dom_classes": [],
            "_model_module": "@jupyter-widgets/controls",
            "_model_module_version": "1.5.0",
            "_model_name": "IntSliderModel",
            "_view_count": null,
            "_view_module": "@jupyter-widgets/controls",
            "_view_module_version": "1.5.0",
            "_view_name": "IntSliderView",
            "continuous_update": true,
            "description": "t1",
            "description_tooltip": null,
            "disabled": false,
            "layout": "IPY_MODEL_4bd2f2ba30b4437fad17c24b80bb5922",
            "max": 10,
            "min": 1,
            "orientation": "horizontal",
            "readout": true,
            "readout_format": "d",
            "step": 1,
            "style": "IPY_MODEL_e3535f1368e5469aba1ff5e5a5926886",
            "value": 5
          }
        },
        "d4a066518f42485f8ceaa2404b3078e2": {
          "model_module": "@jupyter-widgets/controls",
          "model_name": "IntSliderModel",
          "model_module_version": "1.5.0",
          "state": {
            "_dom_classes": [],
            "_model_module": "@jupyter-widgets/controls",
            "_model_module_version": "1.5.0",
            "_model_name": "IntSliderModel",
            "_view_count": null,
            "_view_module": "@jupyter-widgets/controls",
            "_view_module_version": "1.5.0",
            "_view_name": "IntSliderView",
            "continuous_update": true,
            "description": "t2",
            "description_tooltip": null,
            "disabled": false,
            "layout": "IPY_MODEL_98ec9b30e4c04fd7904f07332a706e1d",
            "max": 10,
            "min": 1,
            "orientation": "horizontal",
            "readout": true,
            "readout_format": "d",
            "step": 1,
            "style": "IPY_MODEL_4f7a5eac89bb44dda05f311a4a4cfa0f",
            "value": 5
          }
        },
        "0d43dbb02fdf499ba4e738155b6796b1": {
          "model_module": "@jupyter-widgets/controls",
          "model_name": "IntSliderModel",
          "model_module_version": "1.5.0",
          "state": {
            "_dom_classes": [],
            "_model_module": "@jupyter-widgets/controls",
            "_model_module_version": "1.5.0",
            "_model_name": "IntSliderModel",
            "_view_count": null,
            "_view_module": "@jupyter-widgets/controls",
            "_view_module_version": "1.5.0",
            "_view_name": "IntSliderView",
            "continuous_update": true,
            "description": "budget",
            "description_tooltip": null,
            "disabled": false,
            "layout": "IPY_MODEL_ba33128fa3f941aea45a523733f167fc",
            "max": 100,
            "min": 1,
            "orientation": "horizontal",
            "readout": true,
            "readout_format": "d",
            "step": 1,
            "style": "IPY_MODEL_6819748d9ae3471d92ad23ed6bbf2bc9",
            "value": 50
          }
        },
        "ae10a7818159480fb5ea2e9657506cb4": {
          "model_module": "@jupyter-widgets/controls",
          "model_name": "IntSliderModel",
          "model_module_version": "1.5.0",
          "state": {
            "_dom_classes": [],
            "_model_module": "@jupyter-widgets/controls",
            "_model_module_version": "1.5.0",
            "_model_name": "IntSliderModel",
            "_view_count": null,
            "_view_module": "@jupyter-widgets/controls",
            "_view_module_version": "1.5.0",
            "_view_name": "IntSliderView",
            "continuous_update": true,
            "description": "time",
            "description_tooltip": null,
            "disabled": false,
            "layout": "IPY_MODEL_db6b8af39b71492782c88e1e8778e791",
            "max": 100,
            "min": 1,
            "orientation": "horizontal",
            "readout": true,
            "readout_format": "d",
            "step": 1,
            "style": "IPY_MODEL_a92a9b2046e94cd5b9e2e2c19c88ace2",
            "value": 50
          }
        },
        "2815ddf1b98743e1b088e6145568f6ad": {
          "model_module": "@jupyter-widgets/controls",
          "model_name": "IntSliderModel",
          "model_module_version": "1.5.0",
          "state": {
            "_dom_classes": [],
            "_model_module": "@jupyter-widgets/controls",
            "_model_module_version": "1.5.0",
            "_model_name": "IntSliderModel",
            "_view_count": null,
            "_view_module": "@jupyter-widgets/controls",
            "_view_module_version": "1.5.0",
            "_view_name": "IntSliderView",
            "continuous_update": true,
            "description": "x1",
            "description_tooltip": null,
            "disabled": false,
            "layout": "IPY_MODEL_e358c6b26c2b4f3f951824b23612b8b9",
            "max": 10,
            "min": 1,
            "orientation": "horizontal",
            "readout": true,
            "readout_format": "d",
            "step": 1,
            "style": "IPY_MODEL_88c9659556da4d60a6f3c1b1a06a1419",
            "value": 5
          }
        },
        "7e82f0d497fc4553b9ba75d1a82b5202": {
          "model_module": "@jupyter-widgets/controls",
          "model_name": "IntSliderModel",
          "model_module_version": "1.5.0",
          "state": {
            "_dom_classes": [],
            "_model_module": "@jupyter-widgets/controls",
            "_model_module_version": "1.5.0",
            "_model_name": "IntSliderModel",
            "_view_count": null,
            "_view_module": "@jupyter-widgets/controls",
            "_view_module_version": "1.5.0",
            "_view_name": "IntSliderView",
            "continuous_update": true,
            "description": "x2",
            "description_tooltip": null,
            "disabled": false,
            "layout": "IPY_MODEL_b74bbc1021444c5ebe5acd78ccd0e5d5",
            "max": 10,
            "min": 1,
            "orientation": "horizontal",
            "readout": true,
            "readout_format": "d",
            "step": 1,
            "style": "IPY_MODEL_f79a0604eb424e158cdf79fcbab33c0a",
            "value": 5
          }
        },
        "87cae22e569b49c292de2c68f8ba085c": {
          "model_module": "@jupyter-widgets/output",
          "model_name": "OutputModel",
          "model_module_version": "1.0.0",
          "state": {
            "_dom_classes": [],
            "_model_module": "@jupyter-widgets/output",
            "_model_module_version": "1.0.0",
            "_model_name": "OutputModel",
            "_view_count": null,
            "_view_module": "@jupyter-widgets/output",
            "_view_module_version": "1.0.0",
            "_view_name": "OutputView",
            "layout": "IPY_MODEL_72f3a79f239441e5adea1088a9d49384",
            "msg_id": "",
            "outputs": [
              {
                "output_type": "stream",
                "name": "stdout",
                "text": [
                  "<class 'NoneType'>\n"
                ]
              },
              {
                "output_type": "display_data",
                "data": {
                  "text/plain": "<Figure size 640x480 with 1 Axes>",
                  "image/png": "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\n"
                },
                "metadata": {}
              }
            ]
          }
        },
        "a06d7f7c553646f7b1558ddfbf28f16b": {
          "model_module": "@jupyter-widgets/base",
          "model_name": "LayoutModel",
          "model_module_version": "1.2.0",
          "state": {
            "_model_module": "@jupyter-widgets/base",
            "_model_module_version": "1.2.0",
            "_model_name": "LayoutModel",
            "_view_count": null,
            "_view_module": "@jupyter-widgets/base",
            "_view_module_version": "1.2.0",
            "_view_name": "LayoutView",
            "align_content": null,
            "align_items": null,
            "align_self": null,
            "border": null,
            "bottom": null,
            "display": null,
            "flex": null,
            "flex_flow": null,
            "grid_area": null,
            "grid_auto_columns": null,
            "grid_auto_flow": null,
            "grid_auto_rows": null,
            "grid_column": null,
            "grid_gap": null,
            "grid_row": null,
            "grid_template_areas": null,
            "grid_template_columns": null,
            "grid_template_rows": null,
            "height": null,
            "justify_content": null,
            "justify_items": null,
            "left": null,
            "margin": null,
            "max_height": null,
            "max_width": null,
            "min_height": null,
            "min_width": null,
            "object_fit": null,
            "object_position": null,
            "order": null,
            "overflow": null,
            "overflow_x": null,
            "overflow_y": null,
            "padding": null,
            "right": null,
            "top": null,
            "visibility": null,
            "width": null
          }
        },
        "4cb498e60aac47f4a9b28856171dacd2": {
          "model_module": "@jupyter-widgets/base",
          "model_name": "LayoutModel",
          "model_module_version": "1.2.0",
          "state": {
            "_model_module": "@jupyter-widgets/base",
            "_model_module_version": "1.2.0",
            "_model_name": "LayoutModel",
            "_view_count": null,
            "_view_module": "@jupyter-widgets/base",
            "_view_module_version": "1.2.0",
            "_view_name": "LayoutView",
            "align_content": null,
            "align_items": null,
            "align_self": null,
            "border": null,
            "bottom": null,
            "display": null,
            "flex": null,
            "flex_flow": null,
            "grid_area": null,
            "grid_auto_columns": null,
            "grid_auto_flow": null,
            "grid_auto_rows": null,
            "grid_column": null,
            "grid_gap": null,
            "grid_row": null,
            "grid_template_areas": null,
            "grid_template_columns": null,
            "grid_template_rows": null,
            "height": null,
            "justify_content": null,
            "justify_items": null,
            "left": null,
            "margin": null,
            "max_height": null,
            "max_width": null,
            "min_height": null,
            "min_width": null,
            "object_fit": null,
            "object_position": null,
            "order": null,
            "overflow": null,
            "overflow_x": null,
            "overflow_y": null,
            "padding": null,
            "right": null,
            "top": null,
            "visibility": null,
            "width": null
          }
        },
        "34b84be178e348d49ceb2720e66b6a60": {
          "model_module": "@jupyter-widgets/controls",
          "model_name": "SliderStyleModel",
          "model_module_version": "1.5.0",
          "state": {
            "_model_module": "@jupyter-widgets/controls",
            "_model_module_version": "1.5.0",
            "_model_name": "SliderStyleModel",
            "_view_count": null,
            "_view_module": "@jupyter-widgets/base",
            "_view_module_version": "1.2.0",
            "_view_name": "StyleView",
            "description_width": "",
            "handle_color": null
          }
        },
        "0fd6a304b0844b92a3761068216d39d3": {
          "model_module": "@jupyter-widgets/base",
          "model_name": "LayoutModel",
          "model_module_version": "1.2.0",
          "state": {
            "_model_module": "@jupyter-widgets/base",
            "_model_module_version": "1.2.0",
            "_model_name": "LayoutModel",
            "_view_count": null,
            "_view_module": "@jupyter-widgets/base",
            "_view_module_version": "1.2.0",
            "_view_name": "LayoutView",
            "align_content": null,
            "align_items": null,
            "align_self": null,
            "border": null,
            "bottom": null,
            "display": null,
            "flex": null,
            "flex_flow": null,
            "grid_area": null,
            "grid_auto_columns": null,
            "grid_auto_flow": null,
            "grid_auto_rows": null,
            "grid_column": null,
            "grid_gap": null,
            "grid_row": null,
            "grid_template_areas": null,
            "grid_template_columns": null,
            "grid_template_rows": null,
            "height": null,
            "justify_content": null,
            "justify_items": null,
            "left": null,
            "margin": null,
            "max_height": null,
            "max_width": null,
            "min_height": null,
            "min_width": null,
            "object_fit": null,
            "object_position": null,
            "order": null,
            "overflow": null,
            "overflow_x": null,
            "overflow_y": null,
            "padding": null,
            "right": null,
            "top": null,
            "visibility": null,
            "width": null
          }
        },
        "c92cfe8cdfbf476781a70eff89f32c36": {
          "model_module": "@jupyter-widgets/controls",
          "model_name": "SliderStyleModel",
          "model_module_version": "1.5.0",
          "state": {
            "_model_module": "@jupyter-widgets/controls",
            "_model_module_version": "1.5.0",
            "_model_name": "SliderStyleModel",
            "_view_count": null,
            "_view_module": "@jupyter-widgets/base",
            "_view_module_version": "1.2.0",
            "_view_name": "StyleView",
            "description_width": "",
            "handle_color": null
          }
        },
        "4bd2f2ba30b4437fad17c24b80bb5922": {
          "model_module": "@jupyter-widgets/base",
          "model_name": "LayoutModel",
          "model_module_version": "1.2.0",
          "state": {
            "_model_module": "@jupyter-widgets/base",
            "_model_module_version": "1.2.0",
            "_model_name": "LayoutModel",
            "_view_count": null,
            "_view_module": "@jupyter-widgets/base",
            "_view_module_version": "1.2.0",
            "_view_name": "LayoutView",
            "align_content": null,
            "align_items": null,
            "align_self": null,
            "border": null,
            "bottom": null,
            "display": null,
            "flex": null,
            "flex_flow": null,
            "grid_area": null,
            "grid_auto_columns": null,
            "grid_auto_flow": null,
            "grid_auto_rows": null,
            "grid_column": null,
            "grid_gap": null,
            "grid_row": null,
            "grid_template_areas": null,
            "grid_template_columns": null,
            "grid_template_rows": null,
            "height": null,
            "justify_content": null,
            "justify_items": null,
            "left": null,
            "margin": null,
            "max_height": null,
            "max_width": null,
            "min_height": null,
            "min_width": null,
            "object_fit": null,
            "object_position": null,
            "order": null,
            "overflow": null,
            "overflow_x": null,
            "overflow_y": null,
            "padding": null,
            "right": null,
            "top": null,
            "visibility": null,
            "width": null
          }
        },
        "e3535f1368e5469aba1ff5e5a5926886": {
          "model_module": "@jupyter-widgets/controls",
          "model_name": "SliderStyleModel",
          "model_module_version": "1.5.0",
          "state": {
            "_model_module": "@jupyter-widgets/controls",
            "_model_module_version": "1.5.0",
            "_model_name": "SliderStyleModel",
            "_view_count": null,
            "_view_module": "@jupyter-widgets/base",
            "_view_module_version": "1.2.0",
            "_view_name": "StyleView",
            "description_width": "",
            "handle_color": null
          }
        },
        "98ec9b30e4c04fd7904f07332a706e1d": {
          "model_module": "@jupyter-widgets/base",
          "model_name": "LayoutModel",
          "model_module_version": "1.2.0",
          "state": {
            "_model_module": "@jupyter-widgets/base",
            "_model_module_version": "1.2.0",
            "_model_name": "LayoutModel",
            "_view_count": null,
            "_view_module": "@jupyter-widgets/base",
            "_view_module_version": "1.2.0",
            "_view_name": "LayoutView",
            "align_content": null,
            "align_items": null,
            "align_self": null,
            "border": null,
            "bottom": null,
            "display": null,
            "flex": null,
            "flex_flow": null,
            "grid_area": null,
            "grid_auto_columns": null,
            "grid_auto_flow": null,
            "grid_auto_rows": null,
            "grid_column": null,
            "grid_gap": null,
            "grid_row": null,
            "grid_template_areas": null,
            "grid_template_columns": null,
            "grid_template_rows": null,
            "height": null,
            "justify_content": null,
            "justify_items": null,
            "left": null,
            "margin": null,
            "max_height": null,
            "max_width": null,
            "min_height": null,
            "min_width": null,
            "object_fit": null,
            "object_position": null,
            "order": null,
            "overflow": null,
            "overflow_x": null,
            "overflow_y": null,
            "padding": null,
            "right": null,
            "top": null,
            "visibility": null,
            "width": null
          }
        },
        "4f7a5eac89bb44dda05f311a4a4cfa0f": {
          "model_module": "@jupyter-widgets/controls",
          "model_name": "SliderStyleModel",
          "model_module_version": "1.5.0",
          "state": {
            "_model_module": "@jupyter-widgets/controls",
            "_model_module_version": "1.5.0",
            "_model_name": "SliderStyleModel",
            "_view_count": null,
            "_view_module": "@jupyter-widgets/base",
            "_view_module_version": "1.2.0",
            "_view_name": "StyleView",
            "description_width": "",
            "handle_color": null
          }
        },
        "ba33128fa3f941aea45a523733f167fc": {
          "model_module": "@jupyter-widgets/base",
          "model_name": "LayoutModel",
          "model_module_version": "1.2.0",
          "state": {
            "_model_module": "@jupyter-widgets/base",
            "_model_module_version": "1.2.0",
            "_model_name": "LayoutModel",
            "_view_count": null,
            "_view_module": "@jupyter-widgets/base",
            "_view_module_version": "1.2.0",
            "_view_name": "LayoutView",
            "align_content": null,
            "align_items": null,
            "align_self": null,
            "border": null,
            "bottom": null,
            "display": null,
            "flex": null,
            "flex_flow": null,
            "grid_area": null,
            "grid_auto_columns": null,
            "grid_auto_flow": null,
            "grid_auto_rows": null,
            "grid_column": null,
            "grid_gap": null,
            "grid_row": null,
            "grid_template_areas": null,
            "grid_template_columns": null,
            "grid_template_rows": null,
            "height": null,
            "justify_content": null,
            "justify_items": null,
            "left": null,
            "margin": null,
            "max_height": null,
            "max_width": null,
            "min_height": null,
            "min_width": null,
            "object_fit": null,
            "object_position": null,
            "order": null,
            "overflow": null,
            "overflow_x": null,
            "overflow_y": null,
            "padding": null,
            "right": null,
            "top": null,
            "visibility": null,
            "width": null
          }
        },
        "6819748d9ae3471d92ad23ed6bbf2bc9": {
          "model_module": "@jupyter-widgets/controls",
          "model_name": "SliderStyleModel",
          "model_module_version": "1.5.0",
          "state": {
            "_model_module": "@jupyter-widgets/controls",
            "_model_module_version": "1.5.0",
            "_model_name": "SliderStyleModel",
            "_view_count": null,
            "_view_module": "@jupyter-widgets/base",
            "_view_module_version": "1.2.0",
            "_view_name": "StyleView",
            "description_width": "",
            "handle_color": null
          }
        },
        "db6b8af39b71492782c88e1e8778e791": {
          "model_module": "@jupyter-widgets/base",
          "model_name": "LayoutModel",
          "model_module_version": "1.2.0",
          "state": {
            "_model_module": "@jupyter-widgets/base",
            "_model_module_version": "1.2.0",
            "_model_name": "LayoutModel",
            "_view_count": null,
            "_view_module": "@jupyter-widgets/base",
            "_view_module_version": "1.2.0",
            "_view_name": "LayoutView",
            "align_content": null,
            "align_items": null,
            "align_self": null,
            "border": null,
            "bottom": null,
            "display": null,
            "flex": null,
            "flex_flow": null,
            "grid_area": null,
            "grid_auto_columns": null,
            "grid_auto_flow": null,
            "grid_auto_rows": null,
            "grid_column": null,
            "grid_gap": null,
            "grid_row": null,
            "grid_template_areas": null,
            "grid_template_columns": null,
            "grid_template_rows": null,
            "height": null,
            "justify_content": null,
            "justify_items": null,
            "left": null,
            "margin": null,
            "max_height": null,
            "max_width": null,
            "min_height": null,
            "min_width": null,
            "object_fit": null,
            "object_position": null,
            "order": null,
            "overflow": null,
            "overflow_x": null,
            "overflow_y": null,
            "padding": null,
            "right": null,
            "top": null,
            "visibility": null,
            "width": null
          }
        },
        "a92a9b2046e94cd5b9e2e2c19c88ace2": {
          "model_module": "@jupyter-widgets/controls",
          "model_name": "SliderStyleModel",
          "model_module_version": "1.5.0",
          "state": {
            "_model_module": "@jupyter-widgets/controls",
            "_model_module_version": "1.5.0",
            "_model_name": "SliderStyleModel",
            "_view_count": null,
            "_view_module": "@jupyter-widgets/base",
            "_view_module_version": "1.2.0",
            "_view_name": "StyleView",
            "description_width": "",
            "handle_color": null
          }
        },
        "e358c6b26c2b4f3f951824b23612b8b9": {
          "model_module": "@jupyter-widgets/base",
          "model_name": "LayoutModel",
          "model_module_version": "1.2.0",
          "state": {
            "_model_module": "@jupyter-widgets/base",
            "_model_module_version": "1.2.0",
            "_model_name": "LayoutModel",
            "_view_count": null,
            "_view_module": "@jupyter-widgets/base",
            "_view_module_version": "1.2.0",
            "_view_name": "LayoutView",
            "align_content": null,
            "align_items": null,
            "align_self": null,
            "border": null,
            "bottom": null,
            "display": null,
            "flex": null,
            "flex_flow": null,
            "grid_area": null,
            "grid_auto_columns": null,
            "grid_auto_flow": null,
            "grid_auto_rows": null,
            "grid_column": null,
            "grid_gap": null,
            "grid_row": null,
            "grid_template_areas": null,
            "grid_template_columns": null,
            "grid_template_rows": null,
            "height": null,
            "justify_content": null,
            "justify_items": null,
            "left": null,
            "margin": null,
            "max_height": null,
            "max_width": null,
            "min_height": null,
            "min_width": null,
            "object_fit": null,
            "object_position": null,
            "order": null,
            "overflow": null,
            "overflow_x": null,
            "overflow_y": null,
            "padding": null,
            "right": null,
            "top": null,
            "visibility": null,
            "width": null
          }
        },
        "88c9659556da4d60a6f3c1b1a06a1419": {
          "model_module": "@jupyter-widgets/controls",
          "model_name": "SliderStyleModel",
          "model_module_version": "1.5.0",
          "state": {
            "_model_module": "@jupyter-widgets/controls",
            "_model_module_version": "1.5.0",
            "_model_name": "SliderStyleModel",
            "_view_count": null,
            "_view_module": "@jupyter-widgets/base",
            "_view_module_version": "1.2.0",
            "_view_name": "StyleView",
            "description_width": "",
            "handle_color": null
          }
        },
        "b74bbc1021444c5ebe5acd78ccd0e5d5": {
          "model_module": "@jupyter-widgets/base",
          "model_name": "LayoutModel",
          "model_module_version": "1.2.0",
          "state": {
            "_model_module": "@jupyter-widgets/base",
            "_model_module_version": "1.2.0",
            "_model_name": "LayoutModel",
            "_view_count": null,
            "_view_module": "@jupyter-widgets/base",
            "_view_module_version": "1.2.0",
            "_view_name": "LayoutView",
            "align_content": null,
            "align_items": null,
            "align_self": null,
            "border": null,
            "bottom": null,
            "display": null,
            "flex": null,
            "flex_flow": null,
            "grid_area": null,
            "grid_auto_columns": null,
            "grid_auto_flow": null,
            "grid_auto_rows": null,
            "grid_column": null,
            "grid_gap": null,
            "grid_row": null,
            "grid_template_areas": null,
            "grid_template_columns": null,
            "grid_template_rows": null,
            "height": null,
            "justify_content": null,
            "justify_items": null,
            "left": null,
            "margin": null,
            "max_height": null,
            "max_width": null,
            "min_height": null,
            "min_width": null,
            "object_fit": null,
            "object_position": null,
            "order": null,
            "overflow": null,
            "overflow_x": null,
            "overflow_y": null,
            "padding": null,
            "right": null,
            "top": null,
            "visibility": null,
            "width": null
          }
        },
        "f79a0604eb424e158cdf79fcbab33c0a": {
          "model_module": "@jupyter-widgets/controls",
          "model_name": "SliderStyleModel",
          "model_module_version": "1.5.0",
          "state": {
            "_model_module": "@jupyter-widgets/controls",
            "_model_module_version": "1.5.0",
            "_model_name": "SliderStyleModel",
            "_view_count": null,
            "_view_module": "@jupyter-widgets/base",
            "_view_module_version": "1.2.0",
            "_view_name": "StyleView",
            "description_width": "",
            "handle_color": null
          }
        },
        "72f3a79f239441e5adea1088a9d49384": {
          "model_module": "@jupyter-widgets/base",
          "model_name": "LayoutModel",
          "model_module_version": "1.2.0",
          "state": {
            "_model_module": "@jupyter-widgets/base",
            "_model_module_version": "1.2.0",
            "_model_name": "LayoutModel",
            "_view_count": null,
            "_view_module": "@jupyter-widgets/base",
            "_view_module_version": "1.2.0",
            "_view_name": "LayoutView",
            "align_content": null,
            "align_items": null,
            "align_self": null,
            "border": null,
            "bottom": null,
            "display": null,
            "flex": null,
            "flex_flow": null,
            "grid_area": null,
            "grid_auto_columns": null,
            "grid_auto_flow": null,
            "grid_auto_rows": null,
            "grid_column": null,
            "grid_gap": null,
            "grid_row": null,
            "grid_template_areas": null,
            "grid_template_columns": null,
            "grid_template_rows": null,
            "height": null,
            "justify_content": null,
            "justify_items": null,
            "left": null,
            "margin": null,
            "max_height": null,
            "max_width": null,
            "min_height": null,
            "min_width": null,
            "object_fit": null,
            "object_position": null,
            "order": null,
            "overflow": null,
            "overflow_x": null,
            "overflow_y": null,
            "padding": null,
            "right": null,
            "top": null,
            "visibility": null,
            "width": null
          }
        },
        "9f77a6fa17234f118836fca46a095d05": {
          "model_module": "@jupyter-widgets/controls",
          "model_name": "VBoxModel",
          "model_module_version": "1.5.0",
          "state": {
            "_dom_classes": [
              "widget-interact"
            ],
            "_model_module": "@jupyter-widgets/controls",
            "_model_module_version": "1.5.0",
            "_model_name": "VBoxModel",
            "_view_count": null,
            "_view_module": "@jupyter-widgets/controls",
            "_view_module_version": "1.5.0",
            "_view_name": "VBoxView",
            "box_style": "",
            "children": [
              "IPY_MODEL_1cd5065d88a5495e9d8cf92c0be2921a",
              "IPY_MODEL_62f10bc4ef2a42d3a03fcd15409f9b64",
              "IPY_MODEL_b2d656921fd844e797759dd4e0e86c73",
              "IPY_MODEL_4dbd804f604d429ab0fd0607b7d85931"
            ],
            "layout": "IPY_MODEL_a7c5b290cad54be096a6a969a79c33c0"
          }
        },
        "1cd5065d88a5495e9d8cf92c0be2921a": {
          "model_module": "@jupyter-widgets/controls",
          "model_name": "IntSliderModel",
          "model_module_version": "1.5.0",
          "state": {
            "_dom_classes": [],
            "_model_module": "@jupyter-widgets/controls",
            "_model_module_version": "1.5.0",
            "_model_name": "IntSliderModel",
            "_view_count": null,
            "_view_module": "@jupyter-widgets/controls",
            "_view_module_version": "1.5.0",
            "_view_name": "IntSliderView",
            "continuous_update": true,
            "description": "p1",
            "description_tooltip": null,
            "disabled": false,
            "layout": "IPY_MODEL_6122f279f06b4dec8b5c3e40f41e59eb",
            "max": 20000,
            "min": 1,
            "orientation": "horizontal",
            "readout": true,
            "readout_format": "d",
            "step": 1,
            "style": "IPY_MODEL_b88c931eeea04c099f93436b392dc3f8",
            "value": 10000
          }
        },
        "62f10bc4ef2a42d3a03fcd15409f9b64": {
          "model_module": "@jupyter-widgets/controls",
          "model_name": "IntSliderModel",
          "model_module_version": "1.5.0",
          "state": {
            "_dom_classes": [],
            "_model_module": "@jupyter-widgets/controls",
            "_model_module_version": "1.5.0",
            "_model_name": "IntSliderModel",
            "_view_count": null,
            "_view_module": "@jupyter-widgets/controls",
            "_view_module_version": "1.5.0",
            "_view_name": "IntSliderView",
            "continuous_update": true,
            "description": "p2",
            "description_tooltip": null,
            "disabled": false,
            "layout": "IPY_MODEL_2a5c7d985b104d19a5125fe1756c366b",
            "max": 20000,
            "min": 1,
            "orientation": "horizontal",
            "readout": true,
            "readout_format": "d",
            "step": 1,
            "style": "IPY_MODEL_ac232c4036c8453e800d69e7d1069e29",
            "value": 10000
          }
        },
        "b2d656921fd844e797759dd4e0e86c73": {
          "model_module": "@jupyter-widgets/controls",
          "model_name": "IntSliderModel",
          "model_module_version": "1.5.0",
          "state": {
            "_dom_classes": [],
            "_model_module": "@jupyter-widgets/controls",
            "_model_module_version": "1.5.0",
            "_model_name": "IntSliderModel",
            "_view_count": null,
            "_view_module": "@jupyter-widgets/controls",
            "_view_module_version": "1.5.0",
            "_view_name": "IntSliderView",
            "continuous_update": true,
            "description": "budget",
            "description_tooltip": null,
            "disabled": false,
            "layout": "IPY_MODEL_5f70921a18784cb5a7f77dd45519120c",
            "max": 40000,
            "min": 1,
            "orientation": "horizontal",
            "readout": true,
            "readout_format": "d",
            "step": 1,
            "style": "IPY_MODEL_09e52b50e61e415ead90052f56cff2ea",
            "value": 20000
          }
        },
        "4dbd804f604d429ab0fd0607b7d85931": {
          "model_module": "@jupyter-widgets/output",
          "model_name": "OutputModel",
          "model_module_version": "1.0.0",
          "state": {
            "_dom_classes": [],
            "_model_module": "@jupyter-widgets/output",
            "_model_module_version": "1.0.0",
            "_model_name": "OutputModel",
            "_view_count": null,
            "_view_module": "@jupyter-widgets/output",
            "_view_module_version": "1.0.0",
            "_view_name": "OutputView",
            "layout": "IPY_MODEL_8208e2b440f1488a9a570a42821b5562",
            "msg_id": "",
            "outputs": [
              {
                "output_type": "stream",
                "name": "stdout",
                "text": [
                  "x1: 0.25, x2: 1.75, u: 2.25\n"
                ]
              },
              {
                "output_type": "display_data",
                "data": {
                  "text/plain": "<Figure size 640x480 with 1 Axes>",
                  "image/png": "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\n"
                },
                "metadata": {}
              }
            ]
          }
        },
        "a7c5b290cad54be096a6a969a79c33c0": {
          "model_module": "@jupyter-widgets/base",
          "model_name": "LayoutModel",
          "model_module_version": "1.2.0",
          "state": {
            "_model_module": "@jupyter-widgets/base",
            "_model_module_version": "1.2.0",
            "_model_name": "LayoutModel",
            "_view_count": null,
            "_view_module": "@jupyter-widgets/base",
            "_view_module_version": "1.2.0",
            "_view_name": "LayoutView",
            "align_content": null,
            "align_items": null,
            "align_self": null,
            "border": null,
            "bottom": null,
            "display": null,
            "flex": null,
            "flex_flow": null,
            "grid_area": null,
            "grid_auto_columns": null,
            "grid_auto_flow": null,
            "grid_auto_rows": null,
            "grid_column": null,
            "grid_gap": null,
            "grid_row": null,
            "grid_template_areas": null,
            "grid_template_columns": null,
            "grid_template_rows": null,
            "height": null,
            "justify_content": null,
            "justify_items": null,
            "left": null,
            "margin": null,
            "max_height": null,
            "max_width": null,
            "min_height": null,
            "min_width": null,
            "object_fit": null,
            "object_position": null,
            "order": null,
            "overflow": null,
            "overflow_x": null,
            "overflow_y": null,
            "padding": null,
            "right": null,
            "top": null,
            "visibility": null,
            "width": null
          }
        },
        "6122f279f06b4dec8b5c3e40f41e59eb": {
          "model_module": "@jupyter-widgets/base",
          "model_name": "LayoutModel",
          "model_module_version": "1.2.0",
          "state": {
            "_model_module": "@jupyter-widgets/base",
            "_model_module_version": "1.2.0",
            "_model_name": "LayoutModel",
            "_view_count": null,
            "_view_module": "@jupyter-widgets/base",
            "_view_module_version": "1.2.0",
            "_view_name": "LayoutView",
            "align_content": null,
            "align_items": null,
            "align_self": null,
            "border": null,
            "bottom": null,
            "display": null,
            "flex": null,
            "flex_flow": null,
            "grid_area": null,
            "grid_auto_columns": null,
            "grid_auto_flow": null,
            "grid_auto_rows": null,
            "grid_column": null,
            "grid_gap": null,
            "grid_row": null,
            "grid_template_areas": null,
            "grid_template_columns": null,
            "grid_template_rows": null,
            "height": null,
            "justify_content": null,
            "justify_items": null,
            "left": null,
            "margin": null,
            "max_height": null,
            "max_width": null,
            "min_height": null,
            "min_width": null,
            "object_fit": null,
            "object_position": null,
            "order": null,
            "overflow": null,
            "overflow_x": null,
            "overflow_y": null,
            "padding": null,
            "right": null,
            "top": null,
            "visibility": null,
            "width": null
          }
        },
        "b88c931eeea04c099f93436b392dc3f8": {
          "model_module": "@jupyter-widgets/controls",
          "model_name": "SliderStyleModel",
          "model_module_version": "1.5.0",
          "state": {
            "_model_module": "@jupyter-widgets/controls",
            "_model_module_version": "1.5.0",
            "_model_name": "SliderStyleModel",
            "_view_count": null,
            "_view_module": "@jupyter-widgets/base",
            "_view_module_version": "1.2.0",
            "_view_name": "StyleView",
            "description_width": "",
            "handle_color": null
          }
        },
        "2a5c7d985b104d19a5125fe1756c366b": {
          "model_module": "@jupyter-widgets/base",
          "model_name": "LayoutModel",
          "model_module_version": "1.2.0",
          "state": {
            "_model_module": "@jupyter-widgets/base",
            "_model_module_version": "1.2.0",
            "_model_name": "LayoutModel",
            "_view_count": null,
            "_view_module": "@jupyter-widgets/base",
            "_view_module_version": "1.2.0",
            "_view_name": "LayoutView",
            "align_content": null,
            "align_items": null,
            "align_self": null,
            "border": null,
            "bottom": null,
            "display": null,
            "flex": null,
            "flex_flow": null,
            "grid_area": null,
            "grid_auto_columns": null,
            "grid_auto_flow": null,
            "grid_auto_rows": null,
            "grid_column": null,
            "grid_gap": null,
            "grid_row": null,
            "grid_template_areas": null,
            "grid_template_columns": null,
            "grid_template_rows": null,
            "height": null,
            "justify_content": null,
            "justify_items": null,
            "left": null,
            "margin": null,
            "max_height": null,
            "max_width": null,
            "min_height": null,
            "min_width": null,
            "object_fit": null,
            "object_position": null,
            "order": null,
            "overflow": null,
            "overflow_x": null,
            "overflow_y": null,
            "padding": null,
            "right": null,
            "top": null,
            "visibility": null,
            "width": null
          }
        },
        "ac232c4036c8453e800d69e7d1069e29": {
          "model_module": "@jupyter-widgets/controls",
          "model_name": "SliderStyleModel",
          "model_module_version": "1.5.0",
          "state": {
            "_model_module": "@jupyter-widgets/controls",
            "_model_module_version": "1.5.0",
            "_model_name": "SliderStyleModel",
            "_view_count": null,
            "_view_module": "@jupyter-widgets/base",
            "_view_module_version": "1.2.0",
            "_view_name": "StyleView",
            "description_width": "",
            "handle_color": null
          }
        },
        "5f70921a18784cb5a7f77dd45519120c": {
          "model_module": "@jupyter-widgets/base",
          "model_name": "LayoutModel",
          "model_module_version": "1.2.0",
          "state": {
            "_model_module": "@jupyter-widgets/base",
            "_model_module_version": "1.2.0",
            "_model_name": "LayoutModel",
            "_view_count": null,
            "_view_module": "@jupyter-widgets/base",
            "_view_module_version": "1.2.0",
            "_view_name": "LayoutView",
            "align_content": null,
            "align_items": null,
            "align_self": null,
            "border": null,
            "bottom": null,
            "display": null,
            "flex": null,
            "flex_flow": null,
            "grid_area": null,
            "grid_auto_columns": null,
            "grid_auto_flow": null,
            "grid_auto_rows": null,
            "grid_column": null,
            "grid_gap": null,
            "grid_row": null,
            "grid_template_areas": null,
            "grid_template_columns": null,
            "grid_template_rows": null,
            "height": null,
            "justify_content": null,
            "justify_items": null,
            "left": null,
            "margin": null,
            "max_height": null,
            "max_width": null,
            "min_height": null,
            "min_width": null,
            "object_fit": null,
            "object_position": null,
            "order": null,
            "overflow": null,
            "overflow_x": null,
            "overflow_y": null,
            "padding": null,
            "right": null,
            "top": null,
            "visibility": null,
            "width": null
          }
        },
        "09e52b50e61e415ead90052f56cff2ea": {
          "model_module": "@jupyter-widgets/controls",
          "model_name": "SliderStyleModel",
          "model_module_version": "1.5.0",
          "state": {
            "_model_module": "@jupyter-widgets/controls",
            "_model_module_version": "1.5.0",
            "_model_name": "SliderStyleModel",
            "_view_count": null,
            "_view_module": "@jupyter-widgets/base",
            "_view_module_version": "1.2.0",
            "_view_name": "StyleView",
            "description_width": "",
            "handle_color": null
          }
        },
        "8208e2b440f1488a9a570a42821b5562": {
          "model_module": "@jupyter-widgets/base",
          "model_name": "LayoutModel",
          "model_module_version": "1.2.0",
          "state": {
            "_model_module": "@jupyter-widgets/base",
            "_model_module_version": "1.2.0",
            "_model_name": "LayoutModel",
            "_view_count": null,
            "_view_module": "@jupyter-widgets/base",
            "_view_module_version": "1.2.0",
            "_view_name": "LayoutView",
            "align_content": null,
            "align_items": null,
            "align_self": null,
            "border": null,
            "bottom": null,
            "display": null,
            "flex": null,
            "flex_flow": null,
            "grid_area": null,
            "grid_auto_columns": null,
            "grid_auto_flow": null,
            "grid_auto_rows": null,
            "grid_column": null,
            "grid_gap": null,
            "grid_row": null,
            "grid_template_areas": null,
            "grid_template_columns": null,
            "grid_template_rows": null,
            "height": null,
            "justify_content": null,
            "justify_items": null,
            "left": null,
            "margin": null,
            "max_height": null,
            "max_width": null,
            "min_height": null,
            "min_width": null,
            "object_fit": null,
            "object_position": null,
            "order": null,
            "overflow": null,
            "overflow_x": null,
            "overflow_y": null,
            "padding": null,
            "right": null,
            "top": null,
            "visibility": null,
            "width": null
          }
        }
      }
    }
  },
  "nbformat": 4,
  "nbformat_minor": 0
}